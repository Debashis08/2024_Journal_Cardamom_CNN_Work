{
  "cells": [
    {
      "cell_type": "markdown",
      "metadata": {
        "id": "uBYwCqCtEjYP"
      },
      "source": [
        "# Project Setup"
      ]
    },
    {
      "cell_type": "markdown",
      "metadata": {
        "id": "uL1qu-8Ys6_6"
      },
      "source": [
        "### Importing the required libraries"
      ]
    },
    {
      "cell_type": "code",
      "execution_count": null,
      "metadata": {
        "id": "vs9SfnnnlokY"
      },
      "outputs": [],
      "source": [
        "import tensorflow as tf\n",
        "from tensorflow.keras.layers import Input, Lambda, Dense, Flatten\n",
        "from tensorflow.keras.models import Model\n",
        "from tensorflow.keras.preprocessing import image\n",
        "from tensorflow.keras.preprocessing.image import load_img\n",
        "from tensorflow.keras.models import Sequential\n",
        "from tensorflow.keras.layers import Rescaling, Conv2D, MaxPooling2D, Dense, Flatten, Dropout, BatchNormalization, GlobalAveragePooling2D\n",
        "from tensorflow.keras.models import load_model\n",
        "from tensorflow.keras.preprocessing import image\n",
        "from tensorflow.keras.metrics import Precision, Recall, Accuracy\n",
        "import numpy as np\n",
        "import time\n",
        "import matplotlib.pyplot as plt\n",
        "from sklearn import metrics\n",
        "from sklearn.metrics import cohen_kappa_score,log_loss\n",
        "from tabulate import tabulate\n",
        "from sklearn.metrics import roc_curve, auc\n",
        "from sklearn.preprocessing import label_binarize"
      ]
    },
    {
      "cell_type": "markdown",
      "metadata": {
        "id": "iJ6CFKaPEVGd"
      },
      "source": [
        "### Declaring the Variables"
      ]
    },
    {
      "cell_type": "code",
      "execution_count": null,
      "metadata": {
        "id": "Za-dL2Aplrlv"
      },
      "outputs": [],
      "source": [
        "IMAGE_SIZE = [299,299]\n",
        "BATCH_SIZE=16\n",
        "CLASSES=[\"L1S3\",\"L2S3\",\"L3S3\",\"LC1\",\"LC4\",\"LC5\",\"LC6\",\"LC9\"]\n",
        "NUMBER_OF_CLASSES=len(CLASSES)"
      ]
    },
    {
      "cell_type": "code",
      "execution_count": null,
      "metadata": {
        "id": "sU-YeLLf4iAA"
      },
      "outputs": [],
      "source": [
        "training_image_dir='/content/drive/MyDrive/Conference_Journal/2024_Journal_Cardamom_CNN_Work/001_Dataset/Training'\n",
        "testing_image_dir='/content/drive/MyDrive/Conference_Journal/2024_Journal_Cardamom_CNN_Work/001_Dataset/Testing'\n",
        "validation_image_dir='/content/drive/MyDrive/Conference_Journal/2024_Journal_Cardamom_CNN_Work/001_Dataset/Validation'"
      ]
    },
    {
      "cell_type": "markdown",
      "metadata": {
        "id": "YPkn5rEDEdAN"
      },
      "source": [
        "### Fetching and Preprocessing the image files"
      ]
    },
    {
      "cell_type": "code",
      "execution_count": null,
      "metadata": {
        "id": "fh6SpJSSEDSa"
      },
      "outputs": [],
      "source": [
        "normalization_layer = tf.keras.layers.Rescaling(1./255)"
      ]
    },
    {
      "cell_type": "code",
      "execution_count": null,
      "metadata": {
        "id": "A-yPCHaZEGZ4",
        "colab": {
          "base_uri": "https://localhost:8080/"
        },
        "outputId": "09a78a9e-013f-4ad3-8733-2423307dc02b"
      },
      "outputs": [
        {
          "output_type": "stream",
          "name": "stdout",
          "text": [
            "Found 7360 files belonging to 8 classes.\n"
          ]
        }
      ],
      "source": [
        "training_image_data_set =tf.keras.utils.image_dataset_from_directory(\n",
        "  training_image_dir,\n",
        "  label_mode='int',\n",
        "  seed=131,\n",
        "  image_size=IMAGE_SIZE,\n",
        "  batch_size=BATCH_SIZE\n",
        ")"
      ]
    },
    {
      "cell_type": "code",
      "execution_count": null,
      "metadata": {
        "id": "z6QusKVym_x4",
        "colab": {
          "base_uri": "https://localhost:8080/"
        },
        "outputId": "0945c69a-00a7-48c8-cb3e-15ef2dd3d5c6"
      },
      "outputs": [
        {
          "output_type": "stream",
          "name": "stdout",
          "text": [
            "Found 920 files belonging to 8 classes.\n"
          ]
        }
      ],
      "source": [
        "validation_image_data_set=tf.keras.utils.image_dataset_from_directory(\n",
        "    validation_image_dir,\n",
        "    label_mode='int',\n",
        "    seed=131,\n",
        "    image_size=IMAGE_SIZE,\n",
        "    batch_size=BATCH_SIZE\n",
        ")"
      ]
    },
    {
      "cell_type": "code",
      "execution_count": null,
      "metadata": {
        "id": "t88iV87fmtUZ",
        "colab": {
          "base_uri": "https://localhost:8080/"
        },
        "outputId": "0f2d714e-2741-4e0a-ef87-359a9d3ede25"
      },
      "outputs": [
        {
          "output_type": "stream",
          "name": "stdout",
          "text": [
            "Found 920 files belonging to 8 classes.\n"
          ]
        }
      ],
      "source": [
        "testing_image_data_set=tf.keras.utils.image_dataset_from_directory(\n",
        "    testing_image_dir,\n",
        "    label_mode='int',\n",
        "    seed=131,\n",
        "    image_size=IMAGE_SIZE,\n",
        "    batch_size=BATCH_SIZE\n",
        ")"
      ]
    },
    {
      "cell_type": "code",
      "execution_count": null,
      "metadata": {
        "id": "QImbuHT0NFce",
        "colab": {
          "base_uri": "https://localhost:8080/"
        },
        "outputId": "98178352-2df6-4733-96b7-ec10ee8741b5"
      },
      "outputs": [
        {
          "output_type": "stream",
          "name": "stdout",
          "text": [
            "Using 460 sets for Training\n",
            "Using 58 sets for Validation\n",
            "Using 58 sets for Testing\n"
          ]
        }
      ],
      "source": [
        "print(f'Using {len(training_image_data_set)} sets for Training')\n",
        "print(f'Using {len(validation_image_data_set)} sets for Validation')\n",
        "print(f'Using {len(testing_image_data_set)} sets for Testing')"
      ]
    },
    {
      "cell_type": "code",
      "execution_count": null,
      "metadata": {
        "id": "sVLUfWNtEYSM"
      },
      "outputs": [],
      "source": [
        "normalized_training_set=training_image_data_set.map(lambda x,y: (normalization_layer(x), y))\n",
        "normalized_validation_set=validation_image_data_set.map(lambda x,y: (normalization_layer(x), y))\n",
        "normalized_testing_set=testing_image_data_set.map(lambda x,y: (normalization_layer(x), y))\n",
        "\n",
        "# image_batch, labels_batch = next(iter(normalized_training_set))      #<-----the data is fethched in this form: image batch, label batch"
      ]
    },
    {
      "cell_type": "markdown",
      "metadata": {
        "id": "ZgQ_OLGptbbH"
      },
      "source": [
        "# Training the Scratch Model"
      ]
    },
    {
      "cell_type": "markdown",
      "metadata": {
        "id": "yRpUjvO_EpUm"
      },
      "source": [
        "### Building the CNN Model"
      ]
    },
    {
      "cell_type": "code",
      "execution_count": null,
      "metadata": {
        "id": "tJm9QzZgH-DI"
      },
      "outputs": [],
      "source": [
        "def Build_Model():\n",
        "  model=Sequential()\n",
        "\n",
        "  model.add(Conv2D(32, (3,3), 1, activation='relu', input_shape=(299,299,3)))\n",
        "  model.add(MaxPooling2D(pool_size=(2,2)))\n",
        "\n",
        "  model.add(Conv2D(64, (3,3), 1, activation='relu'))\n",
        "  model.add(MaxPooling2D())\n",
        "\n",
        "  model.add(Conv2D(128, (3,3), 1, activation='relu'))\n",
        "  model.add(MaxPooling2D(pool_size=(2,2)))\n",
        "\n",
        "  model.add(Flatten())\n",
        "\n",
        "  model.add(Dense(128, activation='relu'))\n",
        "  model.add(Dense(NUMBER_OF_CLASSES, activation='softmax'))\n",
        "\n",
        "  model.compile(optimizer='adam', loss='sparse_categorical_crossentropy', metrics=['accuracy'])\n",
        "\n",
        "  return model"
      ]
    },
    {
      "cell_type": "code",
      "execution_count": null,
      "metadata": {
        "id": "YDnLFulroTl1",
        "colab": {
          "base_uri": "https://localhost:8080/"
        },
        "outputId": "699a2b9e-a186-409f-a691-5db3b5065f2f"
      },
      "outputs": [
        {
          "output_type": "stream",
          "name": "stdout",
          "text": [
            "Model: \"sequential\"\n",
            "_________________________________________________________________\n",
            " Layer (type)                Output Shape              Param #   \n",
            "=================================================================\n",
            " conv2d (Conv2D)             (None, 297, 297, 32)      896       \n",
            "                                                                 \n",
            " max_pooling2d (MaxPooling2  (None, 148, 148, 32)      0         \n",
            " D)                                                              \n",
            "                                                                 \n",
            " conv2d_1 (Conv2D)           (None, 146, 146, 64)      18496     \n",
            "                                                                 \n",
            " max_pooling2d_1 (MaxPoolin  (None, 73, 73, 64)        0         \n",
            " g2D)                                                            \n",
            "                                                                 \n",
            " conv2d_2 (Conv2D)           (None, 71, 71, 64)        36928     \n",
            "                                                                 \n",
            " max_pooling2d_2 (MaxPoolin  (None, 35, 35, 64)        0         \n",
            " g2D)                                                            \n",
            "                                                                 \n",
            " conv2d_3 (Conv2D)           (None, 33, 33, 128)       73856     \n",
            "                                                                 \n",
            " max_pooling2d_3 (MaxPoolin  (None, 16, 16, 128)       0         \n",
            " g2D)                                                            \n",
            "                                                                 \n",
            " flatten (Flatten)           (None, 32768)             0         \n",
            "                                                                 \n",
            " dense (Dense)               (None, 256)               8388864   \n",
            "                                                                 \n",
            " dense_1 (Dense)             (None, 8)                 2056      \n",
            "                                                                 \n",
            "=================================================================\n",
            "Total params: 8521096 (32.51 MB)\n",
            "Trainable params: 8521096 (32.51 MB)\n",
            "Non-trainable params: 0 (0.00 Byte)\n",
            "_________________________________________________________________\n"
          ]
        }
      ],
      "source": [
        "# Summary of the model\n",
        "model=Build_Model()\n",
        "model.summary()"
      ]
    },
    {
      "cell_type": "markdown",
      "metadata": {
        "id": "21T4ffIQEuPG"
      },
      "source": [
        "### Peforming the 10 Fold Cross Validation"
      ]
    },
    {
      "cell_type": "code",
      "execution_count": null,
      "metadata": {
        "id": "VT6vaoIO8SUN"
      },
      "outputs": [],
      "source": [
        "\n",
        "# Logs\n",
        "logdir='/content/drive/MyDrive/Conference_Journal/2024_Journal_Cardamom_CNN_Work/003_Logs/10FoldCrossValidatedModel_Logs'\n",
        "\n",
        "# Model Directory\n",
        "model_dir='/content/drive/MyDrive/Conference_Journal/2024_Journal_Cardamom_CNN_Work/004_Cross_Validated_Models/'"
      ]
    },
    {
      "cell_type": "code",
      "execution_count": null,
      "metadata": {
        "id": "r14wOnB_8mpC"
      },
      "outputs": [],
      "source": [
        "tensorboard_callback=tf.keras.callbacks.TensorBoard(log_dir=logdir)"
      ]
    },
    {
      "cell_type": "code",
      "execution_count": null,
      "metadata": {
        "id": "kxZdA5BGsdaZ"
      },
      "outputs": [],
      "source": [
        "FOLDS=10\n",
        "SCORES_PER_FOLD=[]"
      ]
    },
    {
      "cell_type": "code",
      "execution_count": null,
      "metadata": {
        "id": "CQjBFfWF8cLl"
      },
      "outputs": [],
      "source": [
        "TFold_start=time.time()"
      ]
    },
    {
      "cell_type": "code",
      "execution_count": null,
      "metadata": {
        "id": "otK1Dp9aebg5",
        "colab": {
          "base_uri": "https://localhost:8080/"
        },
        "outputId": "9e8911a9-6f7d-474a-e591-ab348137faf0"
      },
      "outputs": [
        {
          "output_type": "stream",
          "name": "stdout",
          "text": [
            "Fold 1\n",
            "--------------------------------------------------------------------------------------------\n",
            "Epoch 1/20\n",
            "414/414 [==============================] - 48s 65ms/step - loss: 1.1819 - accuracy: 0.4475\n",
            "Epoch 2/20\n",
            "414/414 [==============================] - 31s 69ms/step - loss: 0.7112 - accuracy: 0.6599\n",
            "Epoch 3/20\n",
            "414/414 [==============================] - 30s 66ms/step - loss: 0.6010 - accuracy: 0.7114\n",
            "Epoch 4/20\n",
            "414/414 [==============================] - 30s 64ms/step - loss: 0.5036 - accuracy: 0.7541\n",
            "Epoch 5/20\n",
            "414/414 [==============================] - 31s 65ms/step - loss: 0.4230 - accuracy: 0.7971\n",
            "Epoch 6/20\n",
            "414/414 [==============================] - 30s 64ms/step - loss: 0.3554 - accuracy: 0.8330\n",
            "Epoch 7/20\n",
            "414/414 [==============================] - 32s 68ms/step - loss: 0.2817 - accuracy: 0.8673\n",
            "Epoch 8/20\n",
            "414/414 [==============================] - 31s 69ms/step - loss: 0.2515 - accuracy: 0.8847\n",
            "Epoch 9/20\n",
            "414/414 [==============================] - 31s 68ms/step - loss: 0.2096 - accuracy: 0.9047\n",
            "Epoch 10/20\n",
            "414/414 [==============================] - 31s 68ms/step - loss: 0.2387 - accuracy: 0.8992\n",
            "Epoch 11/20\n",
            "414/414 [==============================] - 31s 67ms/step - loss: 0.1476 - accuracy: 0.9351\n",
            "Epoch 12/20\n",
            "414/414 [==============================] - 35s 76ms/step - loss: 0.1374 - accuracy: 0.9440\n",
            "Epoch 13/20\n",
            "414/414 [==============================] - 30s 67ms/step - loss: 0.1688 - accuracy: 0.9363\n",
            "Epoch 14/20\n",
            "414/414 [==============================] - 30s 66ms/step - loss: 0.1043 - accuracy: 0.9626\n",
            "Epoch 15/20\n",
            "414/414 [==============================] - 30s 66ms/step - loss: 0.1200 - accuracy: 0.9607\n",
            "Epoch 16/20\n",
            "414/414 [==============================] - 32s 71ms/step - loss: 0.0688 - accuracy: 0.9763\n",
            "Epoch 17/20\n",
            "414/414 [==============================] - 31s 69ms/step - loss: 0.0623 - accuracy: 0.9808\n",
            "Epoch 18/20\n",
            "414/414 [==============================] - 30s 65ms/step - loss: 0.0568 - accuracy: 0.9808\n",
            "Epoch 19/20\n",
            "414/414 [==============================] - 32s 70ms/step - loss: 0.1681 - accuracy: 0.9520\n",
            "Epoch 20/20\n",
            "414/414 [==============================] - 30s 65ms/step - loss: 0.0529 - accuracy: 0.9835\n",
            "\n",
            "\n",
            "Evaluating the model\n",
            "\n",
            "\n",
            "46/46 [==============================] - 3s 55ms/step - loss: 1.2850 - accuracy: 0.7554\n"
          ]
        },
        {
          "output_type": "stream",
          "name": "stderr",
          "text": [
            "/usr/local/lib/python3.10/dist-packages/keras/src/engine/training.py:3103: UserWarning: You are saving your model as an HDF5 file via `model.save()`. This file format is considered legacy. We recommend using instead the native Keras format, e.g. `model.save('my_model.keras')`.\n",
            "  saving_api.save_model(\n"
          ]
        },
        {
          "output_type": "stream",
          "name": "stdout",
          "text": [
            "--------------------------------------------------------------------------------------------\n",
            "Fold 2\n",
            "--------------------------------------------------------------------------------------------\n",
            "Epoch 1/20\n",
            "414/414 [==============================] - 35s 77ms/step - loss: 1.0786 - accuracy: 0.4953\n",
            "Epoch 2/20\n",
            "414/414 [==============================] - 35s 83ms/step - loss: 0.7516 - accuracy: 0.6303\n",
            "Epoch 3/20\n",
            "414/414 [==============================] - 32s 77ms/step - loss: 0.6432 - accuracy: 0.6843\n",
            "Epoch 4/20\n",
            "414/414 [==============================] - 32s 76ms/step - loss: 0.5771 - accuracy: 0.7175\n",
            "Epoch 5/20\n",
            "414/414 [==============================] - 32s 77ms/step - loss: 0.5228 - accuracy: 0.7400\n",
            "Epoch 6/20\n",
            "414/414 [==============================] - 34s 81ms/step - loss: 0.4309 - accuracy: 0.7874\n",
            "Epoch 7/20\n",
            "414/414 [==============================] - 33s 79ms/step - loss: 0.3841 - accuracy: 0.8090\n",
            "Epoch 8/20\n",
            "414/414 [==============================] - 33s 79ms/step - loss: 0.3520 - accuracy: 0.8339\n",
            "Epoch 9/20\n",
            "414/414 [==============================] - 32s 76ms/step - loss: 0.2714 - accuracy: 0.8671\n",
            "Epoch 10/20\n",
            "414/414 [==============================] - 32s 77ms/step - loss: 0.2549 - accuracy: 0.8803\n",
            "Epoch 11/20\n",
            "414/414 [==============================] - 32s 76ms/step - loss: 0.2204 - accuracy: 0.8955\n",
            "Epoch 12/20\n",
            "414/414 [==============================] - 33s 80ms/step - loss: 0.1861 - accuracy: 0.9135\n",
            "Epoch 13/20\n",
            "414/414 [==============================] - 33s 80ms/step - loss: 0.2533 - accuracy: 0.8975\n",
            "Epoch 14/20\n",
            "414/414 [==============================] - 33s 78ms/step - loss: 0.1562 - accuracy: 0.9334\n",
            "Epoch 15/20\n",
            "414/414 [==============================] - 33s 78ms/step - loss: 0.1231 - accuracy: 0.9485\n",
            "Epoch 16/20\n",
            "414/414 [==============================] - 34s 80ms/step - loss: 0.1744 - accuracy: 0.9367\n",
            "Epoch 17/20\n",
            "414/414 [==============================] - 33s 78ms/step - loss: 0.0920 - accuracy: 0.9642\n",
            "Epoch 18/20\n",
            "414/414 [==============================] - 32s 76ms/step - loss: 0.1151 - accuracy: 0.9621\n",
            "Epoch 19/20\n",
            "414/414 [==============================] - 34s 82ms/step - loss: 0.0938 - accuracy: 0.9691\n",
            "Epoch 20/20\n",
            "414/414 [==============================] - 32s 77ms/step - loss: 0.0831 - accuracy: 0.9721\n",
            "\n",
            "\n",
            "Evaluating the model\n",
            "\n",
            "\n",
            "46/46 [==============================] - 5s 54ms/step - loss: 0.8935 - accuracy: 0.7935\n",
            "--------------------------------------------------------------------------------------------\n",
            "Fold 3\n",
            "--------------------------------------------------------------------------------------------\n",
            "Epoch 1/20\n",
            "414/414 [==============================] - 38s 84ms/step - loss: 1.0626 - accuracy: 0.4918\n",
            "Epoch 2/20\n",
            "414/414 [==============================] - 37s 88ms/step - loss: 0.7091 - accuracy: 0.6546\n",
            "Epoch 3/20\n",
            "414/414 [==============================] - 34s 82ms/step - loss: 0.6065 - accuracy: 0.7009\n",
            "Epoch 4/20\n",
            "414/414 [==============================] - 35s 83ms/step - loss: 0.5290 - accuracy: 0.7391\n",
            "Epoch 5/20\n",
            "414/414 [==============================] - 34s 82ms/step - loss: 0.4746 - accuracy: 0.7702\n",
            "Epoch 6/20\n",
            "414/414 [==============================] - 37s 88ms/step - loss: 0.4099 - accuracy: 0.8042\n",
            "Epoch 7/20\n",
            "414/414 [==============================] - 36s 86ms/step - loss: 0.3351 - accuracy: 0.8348\n",
            "Epoch 8/20\n",
            "414/414 [==============================] - 36s 86ms/step - loss: 0.2918 - accuracy: 0.8581\n",
            "Epoch 9/20\n",
            "414/414 [==============================] - 34s 81ms/step - loss: 0.2528 - accuracy: 0.8813\n",
            "Epoch 10/20\n",
            "414/414 [==============================] - 34s 81ms/step - loss: 0.2139 - accuracy: 0.9002\n",
            "Epoch 11/20\n",
            "414/414 [==============================] - 34s 82ms/step - loss: 0.2098 - accuracy: 0.9114\n",
            "Epoch 12/20\n",
            "414/414 [==============================] - 34s 82ms/step - loss: 0.1496 - accuracy: 0.9316\n",
            "Epoch 13/20\n",
            "414/414 [==============================] - 37s 88ms/step - loss: 0.1590 - accuracy: 0.9364\n",
            "Epoch 14/20\n",
            "414/414 [==============================] - 35s 84ms/step - loss: 0.1413 - accuracy: 0.9470\n",
            "Epoch 15/20\n",
            "414/414 [==============================] - 38s 90ms/step - loss: 0.1137 - accuracy: 0.9597\n",
            "Epoch 16/20\n",
            "414/414 [==============================] - 35s 83ms/step - loss: 0.0882 - accuracy: 0.9697\n",
            "Epoch 17/20\n",
            "414/414 [==============================] - 34s 81ms/step - loss: 0.1013 - accuracy: 0.9656\n",
            "Epoch 18/20\n",
            "414/414 [==============================] - 35s 84ms/step - loss: 0.0533 - accuracy: 0.9825\n",
            "Epoch 19/20\n",
            "414/414 [==============================] - 35s 83ms/step - loss: 0.0646 - accuracy: 0.9786\n",
            "Epoch 20/20\n",
            "414/414 [==============================] - 34s 81ms/step - loss: 0.0610 - accuracy: 0.9790\n",
            "\n",
            "\n",
            "Evaluating the model\n",
            "\n",
            "\n",
            "46/46 [==============================] - 8s 58ms/step - loss: 0.9005 - accuracy: 0.7812\n",
            "--------------------------------------------------------------------------------------------\n",
            "Fold 4\n",
            "--------------------------------------------------------------------------------------------\n",
            "Epoch 1/20\n",
            "414/414 [==============================] - 39s 89ms/step - loss: 1.0986 - accuracy: 0.4802\n",
            "Epoch 2/20\n",
            "414/414 [==============================] - 36s 86ms/step - loss: 0.7768 - accuracy: 0.6212\n",
            "Epoch 3/20\n",
            "414/414 [==============================] - 37s 87ms/step - loss: 0.6446 - accuracy: 0.6861\n",
            "Epoch 4/20\n",
            "414/414 [==============================] - 38s 92ms/step - loss: 0.5345 - accuracy: 0.7308\n",
            "Epoch 5/20\n",
            "414/414 [==============================] - 40s 96ms/step - loss: 0.4658 - accuracy: 0.7675\n",
            "Epoch 6/20\n",
            "414/414 [==============================] - 38s 91ms/step - loss: 0.4069 - accuracy: 0.8046\n",
            "Epoch 7/20\n",
            "414/414 [==============================] - 40s 95ms/step - loss: 0.3555 - accuracy: 0.8246\n",
            "Epoch 8/20\n",
            "414/414 [==============================] - 36s 86ms/step - loss: 0.2803 - accuracy: 0.8581\n",
            "Epoch 9/20\n",
            "414/414 [==============================] - 36s 87ms/step - loss: 0.2911 - accuracy: 0.8622\n",
            "Epoch 10/20\n",
            "414/414 [==============================] - 37s 88ms/step - loss: 0.2107 - accuracy: 0.8910\n",
            "Epoch 11/20\n",
            "414/414 [==============================] - 38s 92ms/step - loss: 0.1823 - accuracy: 0.9100\n",
            "Epoch 12/20\n",
            "414/414 [==============================] - 39s 94ms/step - loss: 0.1859 - accuracy: 0.9138\n",
            "Epoch 13/20\n",
            "414/414 [==============================] - 37s 87ms/step - loss: 0.2358 - accuracy: 0.9041\n",
            "Epoch 14/20\n",
            "414/414 [==============================] - 39s 93ms/step - loss: 0.1912 - accuracy: 0.9170\n",
            "Epoch 15/20\n",
            "414/414 [==============================] - 39s 93ms/step - loss: 0.1524 - accuracy: 0.9351\n",
            "Epoch 16/20\n",
            "414/414 [==============================] - 36s 87ms/step - loss: 0.1247 - accuracy: 0.9500\n",
            "Epoch 17/20\n",
            "414/414 [==============================] - 38s 91ms/step - loss: 0.0840 - accuracy: 0.9665\n",
            "Epoch 18/20\n",
            "414/414 [==============================] - 37s 89ms/step - loss: 0.1099 - accuracy: 0.9621\n",
            "Epoch 19/20\n",
            "414/414 [==============================] - 37s 89ms/step - loss: 0.0998 - accuracy: 0.9669\n",
            "Epoch 20/20\n",
            "414/414 [==============================] - 37s 89ms/step - loss: 0.0794 - accuracy: 0.9777\n",
            "\n",
            "\n",
            "Evaluating the model\n",
            "\n",
            "\n",
            "46/46 [==============================] - 10s 76ms/step - loss: 1.0136 - accuracy: 0.7812\n",
            "--------------------------------------------------------------------------------------------\n",
            "Fold 5\n",
            "--------------------------------------------------------------------------------------------\n",
            "Epoch 1/20\n",
            "414/414 [==============================] - 45s 102ms/step - loss: 1.0408 - accuracy: 0.5083\n",
            "Epoch 2/20\n",
            "414/414 [==============================] - 39s 94ms/step - loss: 0.7249 - accuracy: 0.6470\n",
            "Epoch 3/20\n",
            "414/414 [==============================] - 39s 92ms/step - loss: 0.6550 - accuracy: 0.6839\n",
            "Epoch 4/20\n",
            "414/414 [==============================] - 39s 93ms/step - loss: 0.5595 - accuracy: 0.7198\n",
            "Epoch 5/20\n",
            "414/414 [==============================] - 40s 97ms/step - loss: 0.4756 - accuracy: 0.7636\n",
            "Epoch 6/20\n",
            "414/414 [==============================] - 41s 99ms/step - loss: 0.4035 - accuracy: 0.7977\n",
            "Epoch 7/20\n",
            "414/414 [==============================] - 40s 95ms/step - loss: 0.3329 - accuracy: 0.8332\n",
            "Epoch 8/20\n",
            "414/414 [==============================] - 44s 104ms/step - loss: 0.2733 - accuracy: 0.8635\n",
            "Epoch 9/20\n",
            "414/414 [==============================] - 40s 95ms/step - loss: 0.2496 - accuracy: 0.8854\n",
            "Epoch 10/20\n",
            "414/414 [==============================] - 40s 95ms/step - loss: 0.2152 - accuracy: 0.9032\n",
            "Epoch 11/20\n",
            "414/414 [==============================] - 38s 92ms/step - loss: 0.1922 - accuracy: 0.9180\n",
            "Epoch 12/20\n",
            "414/414 [==============================] - 40s 95ms/step - loss: 0.1523 - accuracy: 0.9342\n",
            "Epoch 13/20\n",
            "414/414 [==============================] - 40s 96ms/step - loss: 0.1619 - accuracy: 0.9370\n",
            "Epoch 14/20\n",
            "414/414 [==============================] - 41s 99ms/step - loss: 0.0993 - accuracy: 0.9612\n",
            "Epoch 15/20\n",
            "414/414 [==============================] - 41s 99ms/step - loss: 0.1007 - accuracy: 0.9659\n",
            "Epoch 16/20\n",
            "414/414 [==============================] - 42s 100ms/step - loss: 0.0996 - accuracy: 0.9675\n",
            "Epoch 17/20\n",
            "414/414 [==============================] - 41s 99ms/step - loss: 0.0683 - accuracy: 0.9771\n",
            "Epoch 18/20\n",
            "414/414 [==============================] - 40s 94ms/step - loss: 0.0993 - accuracy: 0.9695\n",
            "Epoch 19/20\n",
            "414/414 [==============================] - 40s 97ms/step - loss: 0.0622 - accuracy: 0.9810\n",
            "Epoch 20/20\n",
            "414/414 [==============================] - 40s 97ms/step - loss: 0.0553 - accuracy: 0.9832\n",
            "\n",
            "\n",
            "Evaluating the model\n",
            "\n",
            "\n",
            "46/46 [==============================] - 14s 60ms/step - loss: 0.9191 - accuracy: 0.7989\n",
            "--------------------------------------------------------------------------------------------\n",
            "Fold 6\n",
            "--------------------------------------------------------------------------------------------\n",
            "Epoch 1/20\n",
            "414/414 [==============================] - 45s 101ms/step - loss: 1.0445 - accuracy: 0.5092\n",
            "Epoch 2/20\n",
            "414/414 [==============================] - 43s 103ms/step - loss: 0.6762 - accuracy: 0.6665\n",
            "Epoch 3/20\n",
            "414/414 [==============================] - 44s 106ms/step - loss: 0.5889 - accuracy: 0.7098\n",
            "Epoch 4/20\n",
            "414/414 [==============================] - 45s 108ms/step - loss: 0.4944 - accuracy: 0.7577\n",
            "Epoch 5/20\n",
            "414/414 [==============================] - 42s 101ms/step - loss: 0.4482 - accuracy: 0.7822\n",
            "Epoch 6/20\n",
            "414/414 [==============================] - 42s 100ms/step - loss: 0.3463 - accuracy: 0.8318\n",
            "Epoch 7/20\n",
            "414/414 [==============================] - 42s 101ms/step - loss: 0.3024 - accuracy: 0.8665\n",
            "Epoch 8/20\n",
            "414/414 [==============================] - 42s 100ms/step - loss: 0.2597 - accuracy: 0.8813\n",
            "Epoch 9/20\n",
            "414/414 [==============================] - 43s 103ms/step - loss: 0.2094 - accuracy: 0.9038\n",
            "Epoch 10/20\n",
            "414/414 [==============================] - 42s 100ms/step - loss: 0.1732 - accuracy: 0.9244\n",
            "Epoch 11/20\n",
            "414/414 [==============================] - 44s 105ms/step - loss: 0.1756 - accuracy: 0.9254\n",
            "Epoch 12/20\n",
            "414/414 [==============================] - 43s 101ms/step - loss: 0.1501 - accuracy: 0.9407\n",
            "Epoch 13/20\n",
            "414/414 [==============================] - 44s 105ms/step - loss: 0.1250 - accuracy: 0.9543\n",
            "Epoch 14/20\n",
            "414/414 [==============================] - 42s 100ms/step - loss: 0.0877 - accuracy: 0.9686\n",
            "Epoch 15/20\n",
            "414/414 [==============================] - 44s 105ms/step - loss: 0.0842 - accuracy: 0.9707\n",
            "Epoch 16/20\n",
            "414/414 [==============================] - 42s 100ms/step - loss: 0.0819 - accuracy: 0.9721\n",
            "Epoch 17/20\n",
            "414/414 [==============================] - 42s 101ms/step - loss: 0.0685 - accuracy: 0.9777\n",
            "Epoch 18/20\n",
            "414/414 [==============================] - 44s 105ms/step - loss: 0.0537 - accuracy: 0.9813\n",
            "Epoch 19/20\n",
            "414/414 [==============================] - 47s 113ms/step - loss: 0.0500 - accuracy: 0.9834\n",
            "Epoch 20/20\n",
            "414/414 [==============================] - 45s 107ms/step - loss: 0.0792 - accuracy: 0.9775\n",
            "\n",
            "\n",
            "Evaluating the model\n",
            "\n",
            "\n",
            "46/46 [==============================] - 15s 66ms/step - loss: 1.0508 - accuracy: 0.7731\n",
            "--------------------------------------------------------------------------------------------\n",
            "Fold 7\n",
            "--------------------------------------------------------------------------------------------\n",
            "Epoch 1/20\n",
            "414/414 [==============================] - 46s 105ms/step - loss: 1.1252 - accuracy: 0.4647\n",
            "Epoch 2/20\n",
            "414/414 [==============================] - 46s 111ms/step - loss: 0.7463 - accuracy: 0.6315\n",
            "Epoch 3/20\n",
            "414/414 [==============================] - 43s 104ms/step - loss: 0.6182 - accuracy: 0.6944\n",
            "Epoch 4/20\n",
            "414/414 [==============================] - 46s 110ms/step - loss: 0.5550 - accuracy: 0.7320\n",
            "Epoch 5/20\n",
            "414/414 [==============================] - 44s 106ms/step - loss: 0.4966 - accuracy: 0.7594\n",
            "Epoch 6/20\n",
            "414/414 [==============================] - 44s 104ms/step - loss: 0.4127 - accuracy: 0.7879\n",
            "Epoch 7/20\n",
            "414/414 [==============================] - 47s 113ms/step - loss: 0.4253 - accuracy: 0.7933\n",
            "Epoch 8/20\n",
            "414/414 [==============================] - 45s 107ms/step - loss: 0.3163 - accuracy: 0.8293\n",
            "Epoch 9/20\n",
            "414/414 [==============================] - 44s 106ms/step - loss: 0.2725 - accuracy: 0.8525\n",
            "Epoch 10/20\n",
            "414/414 [==============================] - 44s 106ms/step - loss: 0.2671 - accuracy: 0.8646\n",
            "Epoch 11/20\n",
            "414/414 [==============================] - 44s 105ms/step - loss: 0.2267 - accuracy: 0.8856\n",
            "Epoch 12/20\n",
            "414/414 [==============================] - 46s 111ms/step - loss: 0.2289 - accuracy: 0.8909\n",
            "Epoch 13/20\n",
            "414/414 [==============================] - 45s 109ms/step - loss: 0.1965 - accuracy: 0.9067\n",
            "Epoch 14/20\n",
            "414/414 [==============================] - 44s 106ms/step - loss: 0.1861 - accuracy: 0.9129\n",
            "Epoch 15/20\n",
            "414/414 [==============================] - 44s 105ms/step - loss: 0.1754 - accuracy: 0.9265\n",
            "Epoch 16/20\n",
            "414/414 [==============================] - 47s 113ms/step - loss: 0.1347 - accuracy: 0.9417\n",
            "Epoch 17/20\n",
            "414/414 [==============================] - 44s 105ms/step - loss: 0.1468 - accuracy: 0.9429\n",
            "Epoch 18/20\n",
            "414/414 [==============================] - 45s 108ms/step - loss: 0.1530 - accuracy: 0.9478\n",
            "Epoch 19/20\n",
            "414/414 [==============================] - 46s 109ms/step - loss: 0.0800 - accuracy: 0.9700\n",
            "Epoch 20/20\n",
            "414/414 [==============================] - 44s 105ms/step - loss: 0.0951 - accuracy: 0.9692\n",
            "\n",
            "\n",
            "Evaluating the model\n",
            "\n",
            "\n",
            "46/46 [==============================] - 16s 55ms/step - loss: 0.8115 - accuracy: 0.8003\n",
            "--------------------------------------------------------------------------------------------\n",
            "Fold 8\n",
            "--------------------------------------------------------------------------------------------\n",
            "Epoch 1/20\n",
            "414/414 [==============================] - 50s 115ms/step - loss: 1.1354 - accuracy: 0.4612\n",
            "Epoch 2/20\n",
            "414/414 [==============================] - 46s 111ms/step - loss: 0.7469 - accuracy: 0.6338\n",
            "Epoch 3/20\n",
            "414/414 [==============================] - 50s 119ms/step - loss: 0.6216 - accuracy: 0.6905\n",
            "Epoch 4/20\n",
            "414/414 [==============================] - 49s 117ms/step - loss: 0.5580 - accuracy: 0.7266\n",
            "Epoch 5/20\n",
            "414/414 [==============================] - 46s 109ms/step - loss: 0.4944 - accuracy: 0.7586\n",
            "Epoch 6/20\n",
            "414/414 [==============================] - 45s 109ms/step - loss: 0.4483 - accuracy: 0.7838\n",
            "Epoch 7/20\n",
            "414/414 [==============================] - 47s 112ms/step - loss: 0.3742 - accuracy: 0.8219\n",
            "Epoch 8/20\n",
            "414/414 [==============================] - 49s 117ms/step - loss: 0.2782 - accuracy: 0.8605\n",
            "Epoch 9/20\n",
            "414/414 [==============================] - 51s 122ms/step - loss: 0.2947 - accuracy: 0.8625\n",
            "Epoch 10/20\n",
            "414/414 [==============================] - 51s 121ms/step - loss: 0.2370 - accuracy: 0.8851\n",
            "Epoch 11/20\n",
            "414/414 [==============================] - 46s 111ms/step - loss: 0.2534 - accuracy: 0.8875\n",
            "Epoch 12/20\n",
            "414/414 [==============================] - 47s 113ms/step - loss: 0.1882 - accuracy: 0.9126\n",
            "Epoch 13/20\n",
            "414/414 [==============================] - 46s 110ms/step - loss: 0.1817 - accuracy: 0.9173\n",
            "Epoch 14/20\n",
            "414/414 [==============================] - 47s 112ms/step - loss: 0.1700 - accuracy: 0.9242\n",
            "Epoch 15/20\n",
            "414/414 [==============================] - 47s 112ms/step - loss: 0.1883 - accuracy: 0.9263\n",
            "Epoch 16/20\n",
            "414/414 [==============================] - 47s 112ms/step - loss: 0.1308 - accuracy: 0.9497\n",
            "Epoch 17/20\n",
            "414/414 [==============================] - 48s 115ms/step - loss: 0.1461 - accuracy: 0.9454\n",
            "Epoch 18/20\n",
            "414/414 [==============================] - 48s 115ms/step - loss: 0.1059 - accuracy: 0.9604\n",
            "Epoch 19/20\n",
            "414/414 [==============================] - 47s 114ms/step - loss: 0.0755 - accuracy: 0.9739\n",
            "Epoch 20/20\n",
            "414/414 [==============================] - 49s 116ms/step - loss: 0.1230 - accuracy: 0.9543\n",
            "\n",
            "\n",
            "Evaluating the model\n",
            "\n",
            "\n",
            "46/46 [==============================] - 19s 53ms/step - loss: 0.9077 - accuracy: 0.8071\n",
            "--------------------------------------------------------------------------------------------\n",
            "Fold 9\n",
            "--------------------------------------------------------------------------------------------\n",
            "Epoch 1/20\n",
            "414/414 [==============================] - 51s 119ms/step - loss: 1.0963 - accuracy: 0.4675\n",
            "Epoch 2/20\n",
            "414/414 [==============================] - 48s 115ms/step - loss: 0.7581 - accuracy: 0.6223\n",
            "Epoch 3/20\n",
            "414/414 [==============================] - 49s 116ms/step - loss: 0.6812 - accuracy: 0.6680\n",
            "Epoch 4/20\n",
            "414/414 [==============================] - 51s 123ms/step - loss: 0.5598 - accuracy: 0.7200\n",
            "Epoch 5/20\n",
            "414/414 [==============================] - 54s 130ms/step - loss: 0.5026 - accuracy: 0.7432\n",
            "Epoch 6/20\n",
            "414/414 [==============================] - 49s 117ms/step - loss: 0.4326 - accuracy: 0.7816\n",
            "Epoch 7/20\n",
            "414/414 [==============================] - 48s 116ms/step - loss: 0.3889 - accuracy: 0.8045\n",
            "Epoch 8/20\n",
            "414/414 [==============================] - 52s 124ms/step - loss: 0.3113 - accuracy: 0.8438\n",
            "Epoch 9/20\n",
            "414/414 [==============================] - 49s 118ms/step - loss: 0.3248 - accuracy: 0.8433\n",
            "Epoch 10/20\n",
            "414/414 [==============================] - 50s 120ms/step - loss: 0.2533 - accuracy: 0.8714\n",
            "Epoch 11/20\n",
            "414/414 [==============================] - 49s 117ms/step - loss: 0.2859 - accuracy: 0.8750\n",
            "Epoch 12/20\n",
            "414/414 [==============================] - 49s 118ms/step - loss: 0.2248 - accuracy: 0.8927\n",
            "Epoch 13/20\n",
            "414/414 [==============================] - 51s 123ms/step - loss: 0.2839 - accuracy: 0.8842\n",
            "Epoch 14/20\n",
            "414/414 [==============================] - 48s 116ms/step - loss: 0.1756 - accuracy: 0.9235\n",
            "Epoch 15/20\n",
            "414/414 [==============================] - 50s 120ms/step - loss: 0.1390 - accuracy: 0.9389\n",
            "Epoch 16/20\n",
            "414/414 [==============================] - 48s 116ms/step - loss: 0.1359 - accuracy: 0.9431\n",
            "Epoch 17/20\n",
            "414/414 [==============================] - 54s 130ms/step - loss: 0.1399 - accuracy: 0.9506\n",
            "Epoch 18/20\n",
            "414/414 [==============================] - 48s 116ms/step - loss: 0.1112 - accuracy: 0.9595\n",
            "Epoch 19/20\n",
            "414/414 [==============================] - 48s 114ms/step - loss: 0.1006 - accuracy: 0.9662\n",
            "Epoch 20/20\n",
            "414/414 [==============================] - 50s 119ms/step - loss: 0.0784 - accuracy: 0.9774\n",
            "\n",
            "\n",
            "Evaluating the model\n",
            "\n",
            "\n",
            "46/46 [==============================] - 22s 71ms/step - loss: 0.8538 - accuracy: 0.8111\n",
            "--------------------------------------------------------------------------------------------\n",
            "Fold 10\n",
            "--------------------------------------------------------------------------------------------\n",
            "Epoch 1/20\n",
            "414/414 [==============================] - 30s 68ms/step - loss: 1.1613 - accuracy: 0.4549\n",
            "Epoch 2/20\n",
            "414/414 [==============================] - 28s 67ms/step - loss: 0.7524 - accuracy: 0.6292\n",
            "Epoch 3/20\n",
            "414/414 [==============================] - 27s 65ms/step - loss: 0.6507 - accuracy: 0.6787\n",
            "Epoch 4/20\n",
            "414/414 [==============================] - 28s 66ms/step - loss: 0.5884 - accuracy: 0.7097\n",
            "Epoch 5/20\n",
            "414/414 [==============================] - 29s 69ms/step - loss: 0.5377 - accuracy: 0.7387\n",
            "Epoch 6/20\n",
            "414/414 [==============================] - 28s 67ms/step - loss: 0.4639 - accuracy: 0.7692\n",
            "Epoch 7/20\n",
            "414/414 [==============================] - 28s 66ms/step - loss: 0.4216 - accuracy: 0.7909\n",
            "Epoch 8/20\n",
            "414/414 [==============================] - 27s 65ms/step - loss: 0.3323 - accuracy: 0.8323\n",
            "Epoch 9/20\n",
            "414/414 [==============================] - 27s 65ms/step - loss: 0.3445 - accuracy: 0.8365\n",
            "Epoch 10/20\n",
            "414/414 [==============================] - 28s 66ms/step - loss: 0.2409 - accuracy: 0.8827\n",
            "Epoch 11/20\n",
            "414/414 [==============================] - 27s 65ms/step - loss: 0.2422 - accuracy: 0.8850\n",
            "Epoch 12/20\n",
            "414/414 [==============================] - 28s 66ms/step - loss: 0.2189 - accuracy: 0.9007\n",
            "Epoch 13/20\n",
            "414/414 [==============================] - 28s 65ms/step - loss: 0.1702 - accuracy: 0.9220\n",
            "Epoch 14/20\n",
            "414/414 [==============================] - 28s 66ms/step - loss: 0.2005 - accuracy: 0.9164\n",
            "Epoch 15/20\n",
            "414/414 [==============================] - 28s 66ms/step - loss: 0.1446 - accuracy: 0.9407\n",
            "Epoch 16/20\n",
            "414/414 [==============================] - 28s 66ms/step - loss: 0.1224 - accuracy: 0.9520\n",
            "Epoch 17/20\n",
            "414/414 [==============================] - 28s 65ms/step - loss: 0.1220 - accuracy: 0.9535\n",
            "Epoch 18/20\n",
            "199/414 [=============>................] - ETA: 13s - loss: 0.1192 - accuracy: 0.9541"
          ]
        }
      ],
      "source": [
        "i=0\n",
        "j=46\n",
        "k=414\n",
        "for fold_var in range(0,FOLDS,1):\n",
        "  print(f'Fold {fold_var+1}')\n",
        "  print('--------------------------------------------------------------------------------------------')\n",
        "  training_set1=normalized_training_set.take(i)\n",
        "  training_set2=normalized_training_set.skip(i+j).take(k)\n",
        "  training_set=training_set1.concatenate(training_set2)\n",
        "  validation_set=normalized_training_set.skip(i).take(j)\n",
        "  i=i+46\n",
        "  j=46\n",
        "  k=k-46\n",
        "\n",
        "  model=Build_Model()\n",
        "  Model_Run = model.fit(\n",
        "    training_set,\n",
        "    epochs=10,\n",
        "    steps_per_epoch=len(training_set),\n",
        "    callbacks=[tensorboard_callback]\n",
        "  )\n",
        "  print('\\n')\n",
        "  print(f'Evaluating the model')\n",
        "  print('\\n')\n",
        "  cur_scores=model.evaluate(validation_set)\n",
        "  cur_scores[0]*=100\n",
        "  cur_scores[1]*=100\n",
        "  cur_scores=[fold_var+1,cur_scores[0],cur_scores[1]]\n",
        "  SCORES_PER_FOLD.append(cur_scores)\n",
        "\n",
        "  model.save(model_dir+'model_'+str(fold_var+1)+'.h5')\n",
        "  tf.keras.backend.clear_session()\n",
        "  print('--------------------------------------------------------------------------------------------')"
      ]
    },
    {
      "cell_type": "code",
      "execution_count": null,
      "metadata": {
        "id": "L4PZ54Tc-q4C"
      },
      "outputs": [],
      "source": [
        "TFold_stop=time.time()"
      ]
    },
    {
      "cell_type": "code",
      "execution_count": null,
      "metadata": {
        "id": "tgYSh1Jh8xxU"
      },
      "outputs": [],
      "source": [
        "print(f'Time required for 10 Fold Cross Validation= {TFold_stop-TFold_start} seconds')"
      ]
    },
    {
      "cell_type": "code",
      "execution_count": null,
      "metadata": {
        "id": "IxXiy2USK3hC"
      },
      "outputs": [],
      "source": [
        "column_headers=['Fold Number','Validation Loss(%)','Validation Accuracy(%)']\n",
        "print('10 Fold Cross Validation Result')\n",
        "print(tabulate(SCORES_PER_FOLD, headers=column_headers, tablefmt=\"grid\"))"
      ]
    },
    {
      "cell_type": "markdown",
      "metadata": {
        "id": "Ou_MBkGIG1sd"
      },
      "source": [
        "### Selecting the model with highest accuracy for training"
      ]
    },
    {
      "cell_type": "code",
      "source": [
        "max_acc=SCORES_PER_FOLD[0][2]\n",
        "max_acc_index=[]\n",
        "for i in range(len(SCORES_PER_FOLD)):\n",
        "  if(SCORES_PER_FOLD[i][2]>max_acc):\n",
        "    max_acc=SCORES_PER_FOLD[i][2]\n",
        "print(f'The maximum validation accuracy is: {max_acc}')\n",
        "for i in range(len(SCORES_PER_FOLD)):\n",
        "  if(SCORES_PER_FOLD[i][2]==max_acc):\n",
        "    max_acc_index.append(i)\n",
        "print(f'The folds having {max_acc} validation accuracy are:')\n",
        "for i in range(len(max_acc_index)):\n",
        "  print(max_acc_index[i]+1)\n",
        "\n",
        "result=-1\n",
        "if(len(max_acc_index)>1):\n",
        "    min_loss=SCORES_PER_FOLD[max_acc_index[0]][1]\n",
        "    j=0\n",
        "    result=max_acc_index[0]\n",
        "    while(j<len(max_acc_index)):\n",
        "      index=max_acc_index[j]\n",
        "      if(SCORES_PER_FOLD[index][1]<min_loss):\n",
        "        min_loss=SCORES_PER_FOLD[index][1]\n",
        "        result=index\n",
        "      j+=1\n",
        "else:\n",
        "  result=max_acc_index[0]\n",
        "print(f'Selecting the model of fold no {result+1} for fine parameter tuning')\n",
        "model=load_model(model_dir+'model_'+str(result+1)+'.h5')"
      ],
      "metadata": {
        "id": "_cB1OnkhjjYr"
      },
      "execution_count": null,
      "outputs": []
    },
    {
      "cell_type": "markdown",
      "metadata": {
        "id": "5WyyGpDKsyuK"
      },
      "source": [
        "### Training the model for fine parameter tuning"
      ]
    },
    {
      "cell_type": "code",
      "source": [
        "model=load_model(model_dir+'model_8.h5')"
      ],
      "metadata": {
        "id": "J2fPScF-_oov"
      },
      "execution_count": null,
      "outputs": []
    },
    {
      "cell_type": "code",
      "execution_count": null,
      "metadata": {
        "id": "yPDutfQy9JcM"
      },
      "outputs": [],
      "source": [
        "# Log Directory\n",
        "scratch_model_logdir='/content/drive/MyDrive/Conference_Journal/2024_Journal_Cardamom_CNN_Work/003_Logs/ScratchModel_Logs'\n",
        "\n",
        "# Fine tuned Model Directory\n",
        "scratch_model_dir='/content/drive/MyDrive/Conference_Journal/2024_Journal_Cardamom_CNN_Work/005_Fine_Tuned_Model/FineTuned_Model.h5'\n",
        "\n",
        "# Generated Data Diagrams Directory\n",
        "scratch_model_loss='/content/drive/MyDrive/Conference_Journal/2024_Journal_Cardamom_CNN_Work/006_Generated_Data_Diagrams/ScratchModel/Loss'\n",
        "scratch_model_accuracy='/content/drive/MyDrive/Conference_Journal/2024_Journal_Cardamom_CNN_Work/006_Generated_Data_Diagrams/ScratchModel/Accuracy'\n",
        "scratch_model_rocauc='/content/drive/MyDrive/Conference_Journal/2024_Journal_Cardamom_CNN_Work/006_Generated_Data_Diagrams/ScratchModel/Roc_Auc'\n",
        "scratch_model_rocauc_zoomed='/content/drive/MyDrive/Conference_Journal/2024_Journal_Cardamom_CNN_Work/006_Generated_Data_Diagrams/ScratchModel/Roc_Auc_Zoomed'\n",
        "scratch_model_confusion_matrix='/content/drive/MyDrive/Conference_Journal/2024_Journal_Cardamom_CNN_Work/006_Generated_Data_Diagrams/ScratchModel/Confusion_Matrix'"
      ]
    },
    {
      "cell_type": "code",
      "execution_count": null,
      "metadata": {
        "id": "Uw_lXVzU9MwN"
      },
      "outputs": [],
      "source": [
        "scratch_model_tensorboard_callback=tf.keras.callbacks.TensorBoard(log_dir=scratch_model_logdir)"
      ]
    },
    {
      "cell_type": "code",
      "execution_count": null,
      "metadata": {
        "id": "d_PsKlYq9I7h"
      },
      "outputs": [],
      "source": [
        "Training_start=time.time()"
      ]
    },
    {
      "cell_type": "code",
      "execution_count": null,
      "metadata": {
        "id": "QXQHGC5ys6Up"
      },
      "outputs": [],
      "source": [
        "Cur_Model_Run = model.fit(\n",
        "    normalized_training_set,\n",
        "    validation_data=normalized_validation_set,\n",
        "    epochs=30,\n",
        "    validation_steps=len(normalized_validation_set),\n",
        "    callbacks=[scratch_model_tensorboard_callback]\n",
        "  )"
      ]
    },
    {
      "cell_type": "code",
      "execution_count": null,
      "metadata": {
        "id": "wKF1pbXc9S4X"
      },
      "outputs": [],
      "source": [
        "Training_stop=time.time()"
      ]
    },
    {
      "cell_type": "code",
      "execution_count": null,
      "metadata": {
        "id": "r_r0Try69a-v"
      },
      "outputs": [],
      "source": [
        "print(f'Time required for model fine parameter tuning= {Training_stop-Training_start} seconds')"
      ]
    },
    {
      "cell_type": "markdown",
      "metadata": {
        "id": "2Bs6G7k2biNO"
      },
      "source": [
        "### Saving the fine tuned model"
      ]
    },
    {
      "cell_type": "code",
      "execution_count": null,
      "metadata": {
        "id": "xVajQWKsbhq5"
      },
      "outputs": [],
      "source": [
        "model.save(scratch_model_dir)"
      ]
    },
    {
      "cell_type": "markdown",
      "metadata": {
        "id": "dAfpCTCWExrN"
      },
      "source": [
        "### Plotting the performance of the model after fine parameter tuning"
      ]
    },
    {
      "cell_type": "code",
      "execution_count": null,
      "metadata": {
        "id": "Ip0NtKLos4sU"
      },
      "outputs": [],
      "source": [
        "# Plotting the loss\n",
        "\n",
        "\n",
        "fig=plt.figure(figsize=(10,6))\n",
        "plt.plot(Cur_Model_Run.history['loss'], color='blue', label='Training Loss')\n",
        "plt.plot(Cur_Model_Run.history['val_loss'], color='red', label='Validation Loss')\n",
        "plt.xlabel(\"Epochs\")\n",
        "plt.ylabel(\"Loss\")\n",
        "fig.suptitle('Loss',fontsize=15)\n",
        "plt.legend()\n",
        "plt.show()\n",
        "fig.savefig(scratch_model_loss + '.eps', format='eps', dpi=600)\n",
        "fig.savefig(scratch_model_loss + '.png', format='png', dpi=600)"
      ]
    },
    {
      "cell_type": "code",
      "execution_count": null,
      "metadata": {
        "id": "Qif0CC2Wx-zq"
      },
      "outputs": [],
      "source": [
        "# Plotting the accuracy\n",
        "\n",
        "\n",
        "fig=plt.figure(figsize=(10,6))\n",
        "plt.plot(Cur_Model_Run.history['accuracy'], color='blue', label='Training Accuracy')\n",
        "plt.plot(Cur_Model_Run.history['val_accuracy'], color='red', label='Validation Accuracy')\n",
        "plt.xlabel(\"Epochs\")\n",
        "plt.ylabel(\"Accuracy\")\n",
        "fig.suptitle('Accuracy',fontsize=15)\n",
        "plt.legend()\n",
        "plt.show()\n",
        "fig.savefig(scratch_model_accuracy + '.eps', format='eps', dpi=600)\n",
        "fig.savefig(scratch_model_accuracy + '.png', format='png', dpi=600)"
      ]
    },
    {
      "cell_type": "markdown",
      "metadata": {
        "id": "ry0YiEGL4H7v"
      },
      "source": [
        "### Calcualting Precision, Recall, Accuracy, F Score, Cohen-Kappa Score,ROC AUC and Log-Loss Score of the Model"
      ]
    },
    {
      "cell_type": "code",
      "execution_count": null,
      "metadata": {
        "id": "7A8M6AA-1KH0"
      },
      "outputs": [],
      "source": [
        "pre = Precision()\n",
        "re = Recall()\n",
        "acc = Accuracy()"
      ]
    },
    {
      "cell_type": "code",
      "execution_count": null,
      "metadata": {
        "id": "JOFrZ_XmgIx0"
      },
      "outputs": [],
      "source": [
        "True_label=[]\n",
        "Predicted_label=[]\n",
        "Predicted_probabilities=[]\n",
        "score=[]\n",
        "for images,labels in (normalized_testing_set):\n",
        "  score.append(model.evaluate(images,labels))\n",
        "  for it in range(len(labels)):\n",
        "    True_label.append(labels[it])\n",
        "  pred=model.predict(images)\n",
        "  y_max=[]\n",
        "  for it in range(len(pred)):\n",
        "      Predicted_probabilities.append(pred[it])\n",
        "      y_max.append(np.argmax(pred[it]))\n",
        "      Predicted_label.append(np.argmax(pred[it]))\n",
        "  pre.update_state(labels,y_max)\n",
        "  re.update_state(labels,y_max)\n",
        "  acc.update_state(labels,y_max)"
      ]
    },
    {
      "cell_type": "code",
      "execution_count": null,
      "metadata": {
        "id": "sXaKqak7HO2B"
      },
      "outputs": [],
      "source": [
        "f_score=(2*pre.result().numpy()*re.result().numpy())/(pre.result().numpy()+re.result().numpy())"
      ]
    },
    {
      "cell_type": "code",
      "execution_count": null,
      "metadata": {
        "id": "XMzexDbXotg7"
      },
      "outputs": [],
      "source": [
        "kappa=cohen_kappa_score(True_label,Predicted_label)"
      ]
    },
    {
      "cell_type": "code",
      "execution_count": null,
      "metadata": {
        "id": "Wcl0IrxGaLDQ"
      },
      "outputs": [],
      "source": [
        "True_label=np.array(True_label)\n",
        "Predicted_label=np.array(Predicted_label)\n",
        "Predicted_probabilities=np.array(Predicted_probabilities)"
      ]
    },
    {
      "cell_type": "code",
      "execution_count": null,
      "metadata": {
        "id": "7qG_wsr3VrXg"
      },
      "outputs": [],
      "source": [
        "Binarized_True_label=label_binarize(True_label,classes=[0, 1, 2, 3, 4, 5, 6, 7])"
      ]
    },
    {
      "cell_type": "code",
      "execution_count": null,
      "metadata": {
        "id": "EbK4lo_7nRS3"
      },
      "outputs": [],
      "source": [
        "#Calcualting the fpr, tpr and auc\n",
        "\n",
        "\n",
        "fpr = [0] * NUMBER_OF_CLASSES\n",
        "tpr = [0] * NUMBER_OF_CLASSES\n",
        "roc_auc= [0] * NUMBER_OF_CLASSES\n",
        "avg_roc_auc=0\n",
        "for i in range(NUMBER_OF_CLASSES):\n",
        "    fpr[i], tpr[i], _ = roc_curve(Binarized_True_label[:, i], Predicted_probabilities[:, i])\n",
        "    roc_auc[i] = auc(fpr[i], tpr[i])"
      ]
    },
    {
      "cell_type": "code",
      "execution_count": null,
      "metadata": {
        "id": "rYWaDxzvmOj2"
      },
      "outputs": [],
      "source": [
        "roc_auc_details=[]\n",
        "for i in range(NUMBER_OF_CLASSES):\n",
        "  temp=[CLASSES[i],roc_auc[i]]\n",
        "  roc_auc_details.append(temp)"
      ]
    },
    {
      "cell_type": "code",
      "execution_count": null,
      "metadata": {
        "id": "wheI9TP_krZz"
      },
      "outputs": [],
      "source": [
        "column_headers=['CLASS','ROC-AUC']\n",
        "print('ROC-AUC Results')\n",
        "print(tabulate(roc_auc_details, headers=column_headers, tablefmt=\"grid\"))"
      ]
    },
    {
      "cell_type": "code",
      "execution_count": null,
      "metadata": {
        "id": "qiyUOxmhjm44"
      },
      "outputs": [],
      "source": [
        "avg_roc_auc=sum(roc_auc)/NUMBER_OF_CLASSES"
      ]
    },
    {
      "cell_type": "code",
      "execution_count": null,
      "metadata": {
        "id": "0fKCrfPekteJ"
      },
      "outputs": [],
      "source": [
        "print(f'The average ROC-AUC value is: {avg_roc_auc}')"
      ]
    },
    {
      "cell_type": "code",
      "execution_count": null,
      "metadata": {
        "id": "1TPRFUudgmbZ"
      },
      "outputs": [],
      "source": [
        "#Plotting the ROC Curve\n",
        "\n",
        "\n",
        "fig=plt.figure(figsize=(10,10))\n",
        "color=['red','green','blue','cyan','magenta','yellow','orange','purple']\n",
        "for i in range(NUMBER_OF_CLASSES):\n",
        "  plt.plot(fpr[i],tpr[i],color[i],label='Class {} (AUC= {:.6F})'.format(CLASSES[i],roc_auc[i]))\n",
        "plt.plot([0, 1], [0, 1], 'k--')\n",
        "plt.xlim([0.0, 1.0])\n",
        "plt.ylim([0.0, 1.0])\n",
        "plt.xlabel('False Positive Rate')\n",
        "plt.ylabel('True Positive Rate')\n",
        "plt.suptitle('One-vs-Rest ROC Curve',fontsize=15)\n",
        "plt.legend(loc='lower right')\n",
        "plt.show()\n",
        "fig.savefig(scratch_model_rocauc + '.eps', format='eps', dpi=600)\n",
        "fig.savefig(scratch_model_rocauc + '.png', format='png', dpi=600)"
      ]
    },
    {
      "cell_type": "code",
      "execution_count": null,
      "metadata": {
        "id": "AwVBigCunRH8"
      },
      "outputs": [],
      "source": [
        "#Plotting the ROC Curve (Zoomed in at the top left corner)\n",
        "\n",
        "\n",
        "fig=plt.figure(figsize=(10,10))\n",
        "color=['red','green','blue','cyan','magenta','yellow','orange','purple']\n",
        "for i in range(NUMBER_OF_CLASSES):\n",
        "  plt.plot(fpr[i],tpr[i],color[i],label='Class {} (AUC= {:.6F})'.format(CLASSES[i],roc_auc[i]))\n",
        "plt.plot([0, 1], [0, 1], 'k--')\n",
        "plt.xlim([0.0, 0.50])\n",
        "plt.ylim([0.0, 1.0])\n",
        "plt.xlabel('False Positive Rate')\n",
        "plt.ylabel('True Positive Rate')\n",
        "plt.suptitle('One-vs-Rest ROC Curve (Zoomed top-left)',fontsize=15)\n",
        "plt.legend(loc='lower right')\n",
        "plt.show()\n",
        "fig.savefig(scratch_model_rocauc_zoomed + '.eps', format='eps', dpi=600)\n",
        "fig.savefig(scratch_model_rocauc_zoomed + '.png', format='png', dpi=600)"
      ]
    },
    {
      "cell_type": "code",
      "execution_count": null,
      "metadata": {
        "id": "QT3fQGgZ91nB"
      },
      "outputs": [],
      "source": [
        "#Calculating the Log-loss Score (One-vs-Rest)\n",
        "\n",
        "\n",
        "temp=[0]*NUMBER_OF_CLASSES\n",
        "loss=[0]*NUMBER_OF_CLASSES\n",
        "epsilon = 1e-15  # Small constant to avoid division by zero\n",
        "N = Binarized_True_label.shape[0]\n",
        "\n",
        "for i in range(NUMBER_OF_CLASSES):\n",
        "  # Clip predicted probabilities to avoid log(0) cases\n",
        "  temp[i]= np.clip(Predicted_probabilities[:,i], epsilon, 1 - epsilon)\n",
        "  # Calculate cross-entropy loss\n",
        "  loss[i] = -np.sum(Binarized_True_label[:,i] * np.log(temp[i])) / N"
      ]
    },
    {
      "cell_type": "code",
      "execution_count": null,
      "metadata": {
        "id": "s3w8vzJQ0ByQ"
      },
      "outputs": [],
      "source": [
        "log_loss_result=[]\n",
        "for i in range(NUMBER_OF_CLASSES):\n",
        "  log_loss_result.append([CLASSES[i],loss[i]])"
      ]
    },
    {
      "cell_type": "code",
      "execution_count": null,
      "metadata": {
        "id": "MHkko6VE0Bvm"
      },
      "outputs": [],
      "source": [
        "column_headers=['CLASS','LOG-LOSS VALUE']\n",
        "print('Log-Loss Results')\n",
        "print(tabulate(log_loss_result, headers=column_headers, tablefmt=\"grid\"))"
      ]
    },
    {
      "cell_type": "code",
      "execution_count": null,
      "metadata": {
        "id": "vXUmWz_3AzUr"
      },
      "outputs": [],
      "source": [
        "print(f'Precision: {pre.result().numpy()}, Recall: {re.result().numpy()}, Accuracy: {acc.result().numpy()}, F Score: {f_score}, Cohen Kappa Score: {kappa}')"
      ]
    },
    {
      "cell_type": "code",
      "execution_count": null,
      "metadata": {
        "id": "8mnJ-hQR8lPL"
      },
      "outputs": [],
      "source": [
        "#Plotting the Confusion Matrix\n",
        "\n",
        "\n",
        "confusion_matrix=metrics.confusion_matrix(True_label,Predicted_label,normalize='true')\n",
        "cm_display = metrics.ConfusionMatrixDisplay(confusion_matrix = confusion_matrix, display_labels = [\"L1S3\",\"L2S3\",\"L3S3\",\"LC1\",\"LC4\",\"LC5\",\"LC6\",\"LC9\"])\n",
        "fig, ax = plt.subplots(figsize=(10,10))\n",
        "cm_display.plot(ax=ax)\n",
        "plt.show()\n",
        "fig.savefig(scratch_model_confusion_matrix + '.eps', format='eps', dpi=600)\n",
        "fig.savefig(scratch_model_confusion_matrix + '.png', format='png', dpi=600)"
      ]
    },
    {
      "cell_type": "markdown",
      "metadata": {
        "id": "e6cf_9VqFDeE"
      },
      "source": [
        "### Demonstrating how to use the model"
      ]
    },
    {
      "cell_type": "code",
      "execution_count": null,
      "metadata": {
        "id": "VGVArk3JuqIh"
      },
      "outputs": [],
      "source": [
        "img=image.load_img('/content/drive/MyDrive/Conference_Journal/2024_Journal_Cardamom_CNN_Work/001_Dataset/Testing/LC4/LC4_dl_1009.jpg',target_size=(299,299))"
      ]
    },
    {
      "cell_type": "code",
      "execution_count": null,
      "metadata": {
        "id": "mlSEanHNv0yv"
      },
      "outputs": [],
      "source": [
        "x=image.img_to_array(img)"
      ]
    },
    {
      "cell_type": "code",
      "execution_count": null,
      "metadata": {
        "id": "Ytjm1xNNwDiw"
      },
      "outputs": [],
      "source": [
        "x=x/255"
      ]
    },
    {
      "cell_type": "code",
      "execution_count": null,
      "metadata": {
        "id": "O2XVAJk9wEOb"
      },
      "outputs": [],
      "source": [
        "x=np.expand_dims(x,axis=0)\n",
        "x.shape"
      ]
    },
    {
      "cell_type": "code",
      "execution_count": null,
      "metadata": {
        "id": "Z0WCmtaYwGAy"
      },
      "outputs": [],
      "source": [
        "pred=model.predict(x)"
      ]
    },
    {
      "cell_type": "code",
      "execution_count": null,
      "metadata": {
        "id": "8Wxdt0m8wH0r"
      },
      "outputs": [],
      "source": [
        "print(pred)"
      ]
    },
    {
      "cell_type": "code",
      "execution_count": null,
      "metadata": {
        "id": "LLL9i03t1hBo"
      },
      "outputs": [],
      "source": [
        "pred_name = CLASSES[np.argmax(pred)]\n",
        "print(pred_name)"
      ]
    },
    {
      "cell_type": "code",
      "execution_count": null,
      "metadata": {
        "id": "9RxPlgLmQjh5"
      },
      "outputs": [],
      "source": [
        "temp_testing_set=normalized_testing_set.take(1)\n",
        "\n",
        "pred_start=time.time()\n",
        "for (images,labels) in (temp_testing_set):\n",
        "  result=model.predict(images)\n",
        "pred_stop=time.time()"
      ]
    },
    {
      "cell_type": "code",
      "execution_count": null,
      "metadata": {
        "id": "kr70OeQ6Qjh7"
      },
      "outputs": [],
      "source": [
        "print(f'Time requrired for giving prediction on one set of {len(labels)} images= {pred_stop-pred_start}')\n",
        "print(f'Average time requrired for giving prediction on one image= {(pred_stop-pred_start)/len(labels)}')"
      ]
    },
    {
      "cell_type": "markdown",
      "metadata": {
        "id": "JD6vho6im4Lc"
      },
      "source": [
        "# Training the Pretrained Models"
      ]
    },
    {
      "cell_type": "markdown",
      "metadata": {
        "id": "V_2QhtD4nYrx"
      },
      "source": [
        "### Log Directories"
      ]
    },
    {
      "cell_type": "code",
      "execution_count": null,
      "metadata": {
        "id": "YGlqNDRcoGhB"
      },
      "outputs": [],
      "source": [
        "# Vgg16\n",
        "vgg16_logdir='/content/drive/MyDrive/Conference_Journal/2024_Journal_Cardamom_CNN_Work/003_Logs/Vgg16_Logs'\n",
        "\n",
        "# MobileNetV2\n",
        "mobilenetv2_logdir='/content/drive/MyDrive/Conference_Journal/2024_Journal_Cardamom_CNN_Work/003_Logs/MobileNetV2_Logs'\n",
        "\n",
        "# ResNet50\n",
        "resnet50_logdir='/content/drive/MyDrive/Conference_Journal/2024_Journal_Cardamom_CNN_Work/003_Logs/ResNet50_Logs'\n",
        "\n",
        "# EfficientNetB0\n",
        "efficientnetb0_logdir='/content/drive/MyDrive/Conference_Journal/2024_Journal_Cardamom_CNN_Work/003_Logs/EfficientNetB0_Logs'\n"
      ]
    },
    {
      "cell_type": "markdown",
      "metadata": {
        "id": "F_MeWO1Hndq2"
      },
      "source": [
        "### Generated Data Diagrams Directories"
      ]
    },
    {
      "cell_type": "code",
      "execution_count": null,
      "metadata": {
        "id": "uKZkTHD6oStY"
      },
      "outputs": [],
      "source": [
        "# Vgg16\n",
        "vgg16_loss='/content/drive/MyDrive/Conference_Journal/2024_Journal_Cardamom_CNN_Work/006_Generated_Data_Diagrams/Vgg16/Loss'\n",
        "vgg16_accuracy='/content/drive/MyDrive/Conference_Journal/2024_Journal_Cardamom_CNN_Work/006_Generated_Data_Diagrams/Vgg16/Accuracy'\n",
        "vgg16_rocauc='/content/drive/MyDrive/Conference_Journal/2024_Journal_Cardamom_CNN_Work/006_Generated_Data_Diagrams/Vgg16/Roc_Auc'\n",
        "vgg16_rocauc_zoomed='/content/drive/MyDrive/Conference_Journal/2024_Journal_Cardamom_CNN_Work/006_Generated_Data_Diagrams/Vgg16/Roc_Auc_Zoomed'\n",
        "vgg16_confusion_matrix='/content/drive/MyDrive/Conference_Journal/2024_Journal_Cardamom_CNN_Work/006_Generated_Data_Diagrams/Vgg16/Confusion_Matrix'\n",
        "\n",
        "# MobileNetV2\n",
        "mobilenetv2_loss='/content/drive/MyDrive/Conference_Journal/2024_Journal_Cardamom_CNN_Work/006_Generated_Data_Diagrams/MobileNetV2/Loss'\n",
        "mobilenetv2_accuracy='/content/drive/MyDrive/Conference_Journal/2024_Journal_Cardamom_CNN_Work/006_Generated_Data_Diagrams/MobileNetV2/Accuracy'\n",
        "mobilenetv2_rocauc='/content/drive/MyDrive/Conference_Journal/2024_Journal_Cardamom_CNN_Work/006_Generated_Data_Diagrams/MobileNetV2/Roc_Auc'\n",
        "mobilenetv2_rocauc_zoomed='/content/drive/MyDrive/Conference_Journal/2024_Journal_Cardamom_CNN_Work/006_Generated_Data_Diagrams/MobileNetV2/Roc_Auc_Zoomed'\n",
        "mobilenetv2_confusion_matrix='/content/drive/MyDrive/Conference_Journal/2024_Journal_Cardamom_CNN_Work/006_Generated_Data_Diagrams/MobileNetV2/Confusion_Matrix'\n",
        "\n",
        "# ResNet50\n",
        "resnet50_loss='/content/drive/MyDrive/Conference_Journal/2024_Journal_Cardamom_CNN_Work/006_Generated_Data_Diagrams/ResNet50/Loss'\n",
        "resnet50_accuracy='/content/drive/MyDrive/Conference_Journal/2024_Journal_Cardamom_CNN_Work/006_Generated_Data_Diagrams/ResNet50/Accuracy'\n",
        "resnet50_rocauc='/content/drive/MyDrive/Conference_Journal/2024_Journal_Cardamom_CNN_Work/006_Generated_Data_Diagrams/ResNet50/Roc_Auc'\n",
        "resnet50_rocauc_zoomed='/content/drive/MyDrive/Conference_Journal/2024_Journal_Cardamom_CNN_Work/006_Generated_Data_Diagrams/ResNet50/Roc_Auc_Zoomed'\n",
        "resnet50_confusion_matrix='/content/drive/MyDrive/Conference_Journal/2024_Journal_Cardamom_CNN_Work/006_Generated_Data_Diagrams/ResNet50/Confusion_Matrix'\n",
        "\n",
        "# EfficientNetB0\n",
        "efficientnetb0_loss='/content/drive/MyDrive/Conference_Journal/2024_Journal_Cardamom_CNN_Work/006_Generated_Data_Diagrams/EfficientNetB0/Loss'\n",
        "efficientnetb0_accuracy='/content/drive/MyDrive/Conference_Journal/2024_Journal_Cardamom_CNN_Work/006_Generated_Data_Diagrams/EfficientNetB0/Accuracy'\n",
        "efficientnetb0_rocauc='/content/drive/MyDrive/Conference_Journal/2024_Journal_Cardamom_CNN_Work/006_Generated_Data_Diagrams/EfficientNetB0/Roc_Auc'\n",
        "efficientnetb0_rocauc_zoomed='/content/drive/MyDrive/Conference_Journal/2024_Journal_Cardamom_CNN_Work/006_Generated_Data_Diagrams/EfficientNetB0/Roc_Auc_Zoomed'\n",
        "efficientnetb0_confusion_matrix='/content/drive/MyDrive/Conference_Journal/2024_Journal_Cardamom_CNN_Work/006_Generated_Data_Diagrams/EfficientNetB0/Confusion_Matrix'"
      ]
    },
    {
      "cell_type": "markdown",
      "metadata": {
        "id": "1f7sngh1Qjh8"
      },
      "source": [
        "### Training the VGG16 Model and evaluating the performance"
      ]
    },
    {
      "cell_type": "code",
      "execution_count": null,
      "metadata": {
        "id": "SGyOz8RTQjh9"
      },
      "outputs": [],
      "source": [
        "from keras.applications import VGG16"
      ]
    },
    {
      "cell_type": "code",
      "execution_count": null,
      "metadata": {
        "id": "T310aJntQjh-"
      },
      "outputs": [],
      "source": [
        "vgg16_tensorboard_callback=tf.keras.callbacks.TensorBoard(log_dir=vgg16_logdir)"
      ]
    },
    {
      "cell_type": "code",
      "execution_count": null,
      "metadata": {
        "id": "oHtGbhCbQjh_"
      },
      "outputs": [],
      "source": [
        "vgg16_base=VGG16(weights='imagenet',include_top=False,input_shape=(299,299,3))\n",
        "vgg16_model=Sequential()\n",
        "vgg16_model.add(vgg16_base)\n",
        "vgg16_model.add(Flatten())\n",
        "vgg16_model.add(Dense(NUMBER_OF_CLASSES,activation='softmax'))\n",
        "\n",
        "vgg16_model.compile(optimizer='adam',loss='sparse_categorical_crossentropy',metrics=['accuracy'])"
      ]
    },
    {
      "cell_type": "code",
      "execution_count": null,
      "metadata": {
        "id": "9vVM1EzVQjh_"
      },
      "outputs": [],
      "source": [
        "vgg16_model.summary()"
      ]
    },
    {
      "cell_type": "code",
      "execution_count": null,
      "metadata": {
        "id": "N7ZD3SgUQjiB"
      },
      "outputs": [],
      "source": [
        "vgg16_Training_start=time.time()"
      ]
    },
    {
      "cell_type": "code",
      "execution_count": null,
      "metadata": {
        "id": "yRo8bFSsQjiB"
      },
      "outputs": [],
      "source": [
        "vgg16_Model_Run = vgg16_model.fit(\n",
        "    normalized_training_set,\n",
        "    validation_data=normalized_validation_set,\n",
        "    epochs=30,\n",
        "    validation_steps=len(normalized_validation_set),\n",
        "    callbacks=[vgg16_tensorboard_callback]\n",
        "  )"
      ]
    },
    {
      "cell_type": "code",
      "execution_count": null,
      "metadata": {
        "id": "fT32Nd4bQjiB"
      },
      "outputs": [],
      "source": [
        "vgg16_Training_stop=time.time()"
      ]
    },
    {
      "cell_type": "code",
      "execution_count": null,
      "metadata": {
        "id": "C65AD3_aQjiC"
      },
      "outputs": [],
      "source": [
        "print(f'Time required for VGG16 model training= {vgg16_Training_stop-vgg16_Training_start} seconds')"
      ]
    },
    {
      "cell_type": "code",
      "execution_count": null,
      "metadata": {
        "id": "m2mJ-sjGQjiC"
      },
      "outputs": [],
      "source": [
        "# Plotting the loss\n",
        "\n",
        "\n",
        "fig=plt.figure(figsize=(10,6))\n",
        "plt.plot(vgg16_Model_Run.history['loss'], color='blue', label='Training Loss')\n",
        "plt.plot(vgg16_Model_Run.history['val_loss'], color='red', label='Validation Loss')\n",
        "plt.xlabel(\"Epochs\")\n",
        "plt.ylabel(\"Loss\")\n",
        "fig.suptitle('Loss',fontsize=15)\n",
        "plt.legend()\n",
        "plt.show()\n",
        "fig.savefig(vgg16_loss + '.eps', format='eps', dpi=600)\n",
        "fig.savefig(vgg16_loss + '.png', format='png', dpi=600)"
      ]
    },
    {
      "cell_type": "code",
      "execution_count": null,
      "metadata": {
        "id": "YKbYj871QjiC"
      },
      "outputs": [],
      "source": [
        "# Plotting the accuracy\n",
        "\n",
        "\n",
        "fig=plt.figure(figsize=(10,6))\n",
        "plt.plot(vgg16_Model_Run.history['accuracy'], color='blue', label='Training Accuracy')\n",
        "plt.plot(vgg16_Model_Run.history['val_accuracy'], color='red', label='Validation Accuracy')\n",
        "plt.xlabel(\"Epochs\")\n",
        "plt.ylabel(\"Accuracy\")\n",
        "fig.suptitle('Accuracy',fontsize=15)\n",
        "plt.legend()\n",
        "plt.show()\n",
        "fig.savefig(vgg16_accuracy + '.eps', format='eps', dpi=600)\n",
        "fig.savefig(vgg16_accuracy + '.png', format='png', dpi=600)"
      ]
    },
    {
      "cell_type": "code",
      "execution_count": null,
      "metadata": {
        "id": "BS3Se6qTQjiD"
      },
      "outputs": [],
      "source": [
        "# Calculating the Precision, Recall, Accuracy\n",
        "\n",
        "pre = Precision()\n",
        "re = Recall()\n",
        "acc = Accuracy()"
      ]
    },
    {
      "cell_type": "code",
      "execution_count": null,
      "metadata": {
        "id": "aI4MftwvQjiD"
      },
      "outputs": [],
      "source": [
        "True_label=[]\n",
        "Predicted_label=[]\n",
        "Predicted_probabilities=[]\n",
        "score=[]\n",
        "for images,labels in (normalized_testing_set):\n",
        "  score.append(vgg16_model.evaluate(images,labels))\n",
        "  for it in range(len(labels)):\n",
        "    True_label.append(labels[it])\n",
        "  pred=vgg16_model.predict(images)\n",
        "  y_max=[]\n",
        "  for it in range(len(pred)):\n",
        "      Predicted_probabilities.append(pred[it])\n",
        "      y_max.append(np.argmax(pred[it]))\n",
        "      Predicted_label.append(np.argmax(pred[it]))\n",
        "  pre.update_state(labels,y_max)\n",
        "  re.update_state(labels,y_max)\n",
        "  acc.update_state(labels,y_max)"
      ]
    },
    {
      "cell_type": "code",
      "execution_count": null,
      "metadata": {
        "id": "hLHfEPvpQjiD"
      },
      "outputs": [],
      "source": [
        "f_score=(2*pre.result().numpy()*re.result().numpy())/(pre.result().numpy()+re.result().numpy())"
      ]
    },
    {
      "cell_type": "code",
      "execution_count": null,
      "metadata": {
        "id": "GI9j5oTwQjiE"
      },
      "outputs": [],
      "source": [
        "kappa=cohen_kappa_score(True_label,Predicted_label)"
      ]
    },
    {
      "cell_type": "code",
      "execution_count": null,
      "metadata": {
        "id": "O1mElx6KQjiE"
      },
      "outputs": [],
      "source": [
        "True_label=np.array(True_label)\n",
        "Predicted_label=np.array(Predicted_label)\n",
        "Predicted_probabilities=np.array(Predicted_probabilities)"
      ]
    },
    {
      "cell_type": "code",
      "execution_count": null,
      "metadata": {
        "id": "E_1TQm4SQjiE"
      },
      "outputs": [],
      "source": [
        "Binarized_True_label=label_binarize(True_label,classes=[0, 1, 2, 3, 4, 5, 6, 7])"
      ]
    },
    {
      "cell_type": "code",
      "execution_count": null,
      "metadata": {
        "id": "jOucKSEXQjiF"
      },
      "outputs": [],
      "source": [
        "#Calcualting the fpr, tpr and auc\n",
        "\n",
        "\n",
        "fpr = [0] * NUMBER_OF_CLASSES\n",
        "tpr = [0] * NUMBER_OF_CLASSES\n",
        "roc_auc= [0] * NUMBER_OF_CLASSES\n",
        "avg_roc_auc=0\n",
        "for i in range(NUMBER_OF_CLASSES):\n",
        "    fpr[i], tpr[i], _ = roc_curve(Binarized_True_label[:, i], Predicted_probabilities[:, i])\n",
        "    roc_auc[i] = auc(fpr[i], tpr[i])"
      ]
    },
    {
      "cell_type": "code",
      "execution_count": null,
      "metadata": {
        "id": "7Sp9PczhQjiF"
      },
      "outputs": [],
      "source": [
        "roc_auc_details=[]\n",
        "for i in range(NUMBER_OF_CLASSES):\n",
        "  temp=[CLASSES[i],roc_auc[i]]\n",
        "  roc_auc_details.append(temp)"
      ]
    },
    {
      "cell_type": "code",
      "execution_count": null,
      "metadata": {
        "id": "oTCpI9MSQjiF"
      },
      "outputs": [],
      "source": [
        "column_headers=['CLASS','ROC-AUC']\n",
        "print('ROC-AUC Results')\n",
        "print(tabulate(roc_auc_details, headers=column_headers, tablefmt=\"grid\"))"
      ]
    },
    {
      "cell_type": "code",
      "execution_count": null,
      "metadata": {
        "id": "8PQcWUFtQjiG"
      },
      "outputs": [],
      "source": [
        "avg_roc_auc=sum(roc_auc)/NUMBER_OF_CLASSES"
      ]
    },
    {
      "cell_type": "code",
      "execution_count": null,
      "metadata": {
        "id": "Wy7FM_eSQjiG"
      },
      "outputs": [],
      "source": [
        "print(f'The average ROC-AUC value is: {avg_roc_auc}')"
      ]
    },
    {
      "cell_type": "code",
      "execution_count": null,
      "metadata": {
        "id": "Uo0OCyIlQjiH"
      },
      "outputs": [],
      "source": [
        "#Plotting the ROC Curve\n",
        "\n",
        "\n",
        "fig=plt.figure(figsize=(10,10))\n",
        "color=['red','green','blue','cyan','magenta','yellow','orange','purple']\n",
        "for i in range(NUMBER_OF_CLASSES):\n",
        "  plt.plot(fpr[i],tpr[i],color[i],label='Class {} (AUC= {:.6F})'.format(CLASSES[i],roc_auc[i]))\n",
        "plt.plot([0, 1], [0, 1], 'k--')\n",
        "plt.xlim([0.0, 1.0])\n",
        "plt.ylim([0.0, 1.0])\n",
        "plt.xlabel('False Positive Rate')\n",
        "plt.ylabel('True Positive Rate')\n",
        "plt.suptitle('One-vs-Rest ROC Curve',fontsize=15)\n",
        "plt.legend(loc='lower right')\n",
        "plt.show()\n",
        "fig.savefig(vgg16_rocauc + '.eps', format='eps', dpi=600)\n",
        "fig.savefig(vgg16_rocauc + '.png', format='png', dpi=600)"
      ]
    },
    {
      "cell_type": "code",
      "execution_count": null,
      "metadata": {
        "id": "6mNNok4SQjiH"
      },
      "outputs": [],
      "source": [
        "#Plotting the ROC Curve (Zoomed in at the top left corner)\n",
        "\n",
        "\n",
        "fig=plt.figure(figsize=(10,10))\n",
        "color=['red','green','blue','cyan','magenta','yellow','orange','purple']\n",
        "for i in range(NUMBER_OF_CLASSES):\n",
        "  plt.plot(fpr[i],tpr[i],color[i],label='Class {} (AUC= {:.6F})'.format(CLASSES[i],roc_auc[i]))\n",
        "plt.plot([0, 1], [0, 1], 'k--')\n",
        "plt.xlim([0.0, 0.50])\n",
        "plt.ylim([0.0, 1.0])\n",
        "plt.xlabel('False Positive Rate')\n",
        "plt.ylabel('True Positive Rate')\n",
        "plt.suptitle('One-vs-Rest ROC Curve (Zoomed top-left)',fontsize=15)\n",
        "plt.legend(loc='lower right')\n",
        "plt.show()\n",
        "fig.savefig(vgg16_rocauc_zoomed + '.eps', format='eps', dpi=600)\n",
        "fig.savefig(vgg16_rocauc_zoomed + '.png', format='png', dpi=600)"
      ]
    },
    {
      "cell_type": "code",
      "execution_count": null,
      "metadata": {
        "id": "34JFsViKQjiI"
      },
      "outputs": [],
      "source": [
        "#Calculating the Log-loss Score (One-vs-Rest)\n",
        "\n",
        "\n",
        "temp=[0]*NUMBER_OF_CLASSES\n",
        "loss=[0]*NUMBER_OF_CLASSES\n",
        "epsilon = 1e-15  # Small constant to avoid division by zero\n",
        "N = Binarized_True_label.shape[0]\n",
        "\n",
        "for i in range(NUMBER_OF_CLASSES):\n",
        "  # Clip predicted probabilities to avoid log(0) cases\n",
        "  temp[i]= np.clip(Predicted_probabilities[:,i], epsilon, 1 - epsilon)\n",
        "  # Calculate cross-entropy loss\n",
        "  loss[i] = -np.sum(Binarized_True_label[:,i] * np.log(temp[i])) / N"
      ]
    },
    {
      "cell_type": "code",
      "execution_count": null,
      "metadata": {
        "id": "MkiM2TMEQjiI"
      },
      "outputs": [],
      "source": [
        "log_loss_result=[]\n",
        "for i in range(NUMBER_OF_CLASSES):\n",
        "  log_loss_result.append([CLASSES[i],loss[i]])"
      ]
    },
    {
      "cell_type": "code",
      "execution_count": null,
      "metadata": {
        "id": "_Hk_ipVyQjiI"
      },
      "outputs": [],
      "source": [
        "column_headers=['CLASS','LOG-LOSS VALUE']\n",
        "print('Log-Loss Results')\n",
        "print(tabulate(log_loss_result, headers=column_headers, tablefmt=\"grid\"))"
      ]
    },
    {
      "cell_type": "code",
      "execution_count": null,
      "metadata": {
        "id": "yBcj91ZoQjiJ"
      },
      "outputs": [],
      "source": [
        "print(f'Precision: {pre.result().numpy()}, Recall: {re.result().numpy()}, Accuracy: {acc.result().numpy()}, F Score: {f_score}, Cohen Kappa Score: {kappa}')"
      ]
    },
    {
      "cell_type": "code",
      "execution_count": null,
      "metadata": {
        "id": "qqkeK9MMQjiK"
      },
      "outputs": [],
      "source": [
        "#Plotting the Confusion Matrix\n",
        "\n",
        "\n",
        "confusion_matrix=metrics.confusion_matrix(True_label,Predicted_label,normalize='true')\n",
        "cm_display = metrics.ConfusionMatrixDisplay(confusion_matrix = confusion_matrix, display_labels = [\"L1S3\",\"L2S3\",\"L3S3\",\"LC1\",\"LC4\",\"LC5\",\"LC6\",\"LC9\"])\n",
        "fig, ax = plt.subplots(figsize=(10,10))\n",
        "cm_display.plot(ax=ax)\n",
        "plt.show()\n",
        "fig.savefig(vgg16_confusion_matrix + '.eps', format='eps', dpi=600)\n",
        "fig.savefig(vgg16_confusion_matrix + '.png', format='png', dpi=600)"
      ]
    },
    {
      "cell_type": "markdown",
      "metadata": {
        "id": "phVYL-bzQjiL"
      },
      "source": [
        "### Training the  MobileNetV2 Model and evaluating the performance"
      ]
    },
    {
      "cell_type": "code",
      "execution_count": null,
      "metadata": {
        "id": "OfwwXyXNQjiL"
      },
      "outputs": [],
      "source": [
        "from keras.applications import MobileNetV2"
      ]
    },
    {
      "cell_type": "code",
      "execution_count": null,
      "metadata": {
        "id": "pnHa8VZ-QjiM"
      },
      "outputs": [],
      "source": [
        "mobilenetv2_tensorboard_callback=tf.keras.callbacks.TensorBoard(log_dir=mobilenetv2_logdir)"
      ]
    },
    {
      "cell_type": "code",
      "execution_count": null,
      "metadata": {
        "id": "7X7kosYUQjiM"
      },
      "outputs": [],
      "source": [
        "mobilenetv2_base=MobileNetV2(weights='imagenet',include_top=False,input_shape=(299,299,3))\n",
        "mobilenetv2_model=Sequential()\n",
        "mobilenetv2_model.add(mobilenetv2_base)\n",
        "mobilenetv2_model.add(Flatten())\n",
        "mobilenetv2_model.add(Dense(NUMBER_OF_CLASSES,activation='softmax'))\n",
        "\n",
        "mobilenetv2_model.compile(optimizer='adam',loss='sparse_categorical_crossentropy',metrics=['accuracy'])"
      ]
    },
    {
      "cell_type": "code",
      "execution_count": null,
      "metadata": {
        "id": "W7cDxwTtQjiM"
      },
      "outputs": [],
      "source": [
        "mobilenetv2_model.summary()"
      ]
    },
    {
      "cell_type": "code",
      "execution_count": null,
      "metadata": {
        "id": "65eLvW0gQjiN"
      },
      "outputs": [],
      "source": [
        "mobilenetv2_Training_start=time.time()"
      ]
    },
    {
      "cell_type": "code",
      "execution_count": null,
      "metadata": {
        "id": "LvkqTHmFQjiN"
      },
      "outputs": [],
      "source": [
        "mobilenetv2_Model_Run=mobilenetv2_model.fit(\n",
        "    normalized_training_set,\n",
        "    validation_data=normalized_validation_set,\n",
        "    epochs=30,\n",
        "    validation_steps=len(normalized_validation_set),\n",
        "    callbacks=[mobilenetv2_tensorboard_callback]\n",
        ")"
      ]
    },
    {
      "cell_type": "code",
      "execution_count": null,
      "metadata": {
        "id": "sChNOKc-QjiN"
      },
      "outputs": [],
      "source": [
        "mobilenetv2_Training_stop=time.time()"
      ]
    },
    {
      "cell_type": "code",
      "execution_count": null,
      "metadata": {
        "id": "_Yg7p_NMQjiO"
      },
      "outputs": [],
      "source": [
        "print(f'Time required for MOBILENETV2 model training= {mobilenetv2_Training_stop-mobilenetv2_Training_start} seconds')"
      ]
    },
    {
      "cell_type": "code",
      "execution_count": null,
      "metadata": {
        "id": "xMqAdxaNQjiO"
      },
      "outputs": [],
      "source": [
        "# Plotting the loss\n",
        "\n",
        "\n",
        "fig=plt.figure(figsize=(10,6))\n",
        "plt.plot(mobilenetv2_Model_Run.history['loss'], color='blue', label='Training Loss')\n",
        "plt.plot(mobilenetv2_Model_Run.history['val_loss'], color='red', label='Validation Loss')\n",
        "plt.xlabel(\"Epochs\")\n",
        "plt.ylabel(\"Loss\")\n",
        "fig.suptitle('Loss',fontsize=15)\n",
        "plt.legend()\n",
        "plt.show()\n",
        "fig.savefig(mobilenetv2_loss + '.eps', format='eps', dpi=600)\n",
        "fig.savefig(mobilenetv2_loss + '.png', format='png', dpi=600)"
      ]
    },
    {
      "cell_type": "code",
      "execution_count": null,
      "metadata": {
        "id": "t4X3av03QjiO"
      },
      "outputs": [],
      "source": [
        "# Plotting the accuracy\n",
        "\n",
        "\n",
        "fig=plt.figure(figsize=(10,6))\n",
        "plt.plot(mobilenetv2_Model_Run.history['accuracy'], color='blue', label='Training Accuracy')\n",
        "plt.plot(mobilenetv2_Model_Run.history['val_accuracy'], color='red', label='Validation Accuracy')\n",
        "plt.xlabel(\"Epochs\")\n",
        "plt.ylabel(\"Accuracy\")\n",
        "fig.suptitle('Accuracy',fontsize=15)\n",
        "plt.legend()\n",
        "plt.show()\n",
        "fig.savefig(mobilenetv2_accuracy + '.eps', format='eps', dpi=600)\n",
        "fig.savefig(mobilenetv2_accuracy + '.png', format='png', dpi=600)"
      ]
    },
    {
      "cell_type": "code",
      "execution_count": null,
      "metadata": {
        "id": "1VGnsnP7QjiO"
      },
      "outputs": [],
      "source": [
        "# Calculating the Precision, Recall, Accuracy\n",
        "\n",
        "pre = Precision()\n",
        "re = Recall()\n",
        "acc = Accuracy()"
      ]
    },
    {
      "cell_type": "code",
      "execution_count": null,
      "metadata": {
        "id": "sXMPDAcoQjiP"
      },
      "outputs": [],
      "source": [
        "True_label=[]\n",
        "Predicted_label=[]\n",
        "Predicted_probabilities=[]\n",
        "score=[]\n",
        "for images,labels in (normalized_testing_set):\n",
        "  score.append(mobilenetv2_model.evaluate(images,labels))\n",
        "  for it in range(len(labels)):\n",
        "    True_label.append(labels[it])\n",
        "  pred=mobilenetv2_model.predict(images)\n",
        "  y_max=[]\n",
        "  for it in range(len(pred)):\n",
        "      Predicted_probabilities.append(pred[it])\n",
        "      y_max.append(np.argmax(pred[it]))\n",
        "      Predicted_label.append(np.argmax(pred[it]))\n",
        "  pre.update_state(labels,y_max)\n",
        "  re.update_state(labels,y_max)\n",
        "  acc.update_state(labels,y_max)"
      ]
    },
    {
      "cell_type": "code",
      "execution_count": null,
      "metadata": {
        "id": "n-aLePTZQjiP"
      },
      "outputs": [],
      "source": [
        "f_score=(2*pre.result().numpy()*re.result().numpy())/(pre.result().numpy()+re.result().numpy())"
      ]
    },
    {
      "cell_type": "code",
      "execution_count": null,
      "metadata": {
        "id": "vvEX6Zi7QjiP"
      },
      "outputs": [],
      "source": [
        "kappa=cohen_kappa_score(True_label,Predicted_label)"
      ]
    },
    {
      "cell_type": "code",
      "execution_count": null,
      "metadata": {
        "id": "5S0REfrKQjiQ"
      },
      "outputs": [],
      "source": [
        "True_label=np.array(True_label)\n",
        "Predicted_label=np.array(Predicted_label)\n",
        "Predicted_probabilities=np.array(Predicted_probabilities)"
      ]
    },
    {
      "cell_type": "code",
      "execution_count": null,
      "metadata": {
        "id": "AIOGtzC_QjiQ"
      },
      "outputs": [],
      "source": [
        "Binarized_True_label=label_binarize(True_label,classes=[0, 1, 2, 3, 4])"
      ]
    },
    {
      "cell_type": "code",
      "execution_count": null,
      "metadata": {
        "id": "WOQYJSOwQjiQ"
      },
      "outputs": [],
      "source": [
        "#Calcualting the fpr, tpr and auc\n",
        "\n",
        "\n",
        "fpr = [0] * NUMBER_OF_CLASSES\n",
        "tpr = [0] * NUMBER_OF_CLASSES\n",
        "roc_auc= [0] * NUMBER_OF_CLASSES\n",
        "avg_roc_auc=0\n",
        "for i in range(NUMBER_OF_CLASSES):\n",
        "    fpr[i], tpr[i], _ = roc_curve(Binarized_True_label[:, i], Predicted_probabilities[:, i])\n",
        "    roc_auc[i] = auc(fpr[i], tpr[i])"
      ]
    },
    {
      "cell_type": "code",
      "execution_count": null,
      "metadata": {
        "id": "AM0xb0FoQjiQ"
      },
      "outputs": [],
      "source": [
        "roc_auc_details=[]\n",
        "for i in range(NUMBER_OF_CLASSES):\n",
        "  temp=[CLASSES[i],roc_auc[i]]\n",
        "  roc_auc_details.append(temp)"
      ]
    },
    {
      "cell_type": "code",
      "execution_count": null,
      "metadata": {
        "id": "ddnQFZf0QjiR"
      },
      "outputs": [],
      "source": [
        "column_headers=['CLASS','ROC-AUC']\n",
        "print('ROC-AUC Results')\n",
        "print(tabulate(roc_auc_details, headers=column_headers, tablefmt=\"grid\"))"
      ]
    },
    {
      "cell_type": "code",
      "execution_count": null,
      "metadata": {
        "id": "93NgRn-iQjiR"
      },
      "outputs": [],
      "source": [
        "avg_roc_auc=sum(roc_auc)/NUMBER_OF_CLASSES"
      ]
    },
    {
      "cell_type": "code",
      "execution_count": null,
      "metadata": {
        "id": "zW3Ng_3uQjiR"
      },
      "outputs": [],
      "source": [
        "print(f'The average ROC-AUC value is: {avg_roc_auc}')"
      ]
    },
    {
      "cell_type": "code",
      "execution_count": null,
      "metadata": {
        "id": "FKEwAt46QjiR"
      },
      "outputs": [],
      "source": [
        "#Plotting the ROC Curve\n",
        "\n",
        "\n",
        "fig=plt.figure(figsize=(10,10))\n",
        "color=['red','green','blue','cyan','magenta','yellow','orange','purple']\n",
        "for i in range(NUMBER_OF_CLASSES):\n",
        "  plt.plot(fpr[i],tpr[i],color[i],label='Class {} (AUC= {:.6F})'.format(CLASSES[i],roc_auc[i]))\n",
        "plt.plot([0, 1], [0, 1], 'k--')\n",
        "plt.xlim([0.0, 1.0])\n",
        "plt.ylim([0.0, 1.0])\n",
        "plt.xlabel('False Positive Rate')\n",
        "plt.ylabel('True Positive Rate')\n",
        "plt.suptitle('One-vs-Rest ROC Curve',fontsize=15)\n",
        "plt.legend(loc='lower right')\n",
        "plt.show()\n",
        "fig.savefig(mobilenetv2_rocauc + '.eps', format='eps', dpi=600)\n",
        "fig.savefig(mobilenetv2_rocauc + '.png', format='png', dpi=600)"
      ]
    },
    {
      "cell_type": "code",
      "execution_count": null,
      "metadata": {
        "id": "2AIZrxbmQjiS"
      },
      "outputs": [],
      "source": [
        "#Plotting the ROC Curve (Zoomed in at the top left corner)\n",
        "\n",
        "\n",
        "fig=plt.figure(figsize=(10,10))\n",
        "color=['red','green','blue','cyan','magenta','yellow','orange','purple']\n",
        "for i in range(NUMBER_OF_CLASSES):\n",
        "  plt.plot(fpr[i],tpr[i],color[i],label='Class {} (AUC= {:.6F})'.format(CLASSES[i],roc_auc[i]))\n",
        "plt.plot([0, 1], [0, 1], 'k--')\n",
        "plt.xlim([0.0, 0.50])\n",
        "plt.ylim([0.0, 1.0])\n",
        "plt.xlabel('False Positive Rate')\n",
        "plt.ylabel('True Positive Rate')\n",
        "plt.suptitle('One-vs-Rest ROC Curve (Zoomed top-left)',fontsize=15)\n",
        "plt.legend(loc='lower right')\n",
        "plt.show()\n",
        "fig.savefig(mobilenetv2_rocauc_zoomed + '.eps', format='eps', dpi=600)\n",
        "fig.savefig(mobilenetv2_rocauc_zoomed + '.png', format='png', dpi=600)"
      ]
    },
    {
      "cell_type": "code",
      "execution_count": null,
      "metadata": {
        "id": "mQianFeHQjiS"
      },
      "outputs": [],
      "source": [
        "#Calculating the Log-loss Score (One-vs-Rest)\n",
        "\n",
        "\n",
        "temp=[0]*NUMBER_OF_CLASSES\n",
        "loss=[0]*NUMBER_OF_CLASSES\n",
        "epsilon = 1e-15  # Small constant to avoid division by zero\n",
        "N = Binarized_True_label.shape[0]\n",
        "\n",
        "for i in range(NUMBER_OF_CLASSES):\n",
        "  # Clip predicted probabilities to avoid log(0) cases\n",
        "  temp[i]= np.clip(Predicted_probabilities[:,i], epsilon, 1 - epsilon)\n",
        "  # Calculate cross-entropy loss\n",
        "  loss[i] = -np.sum(Binarized_True_label[:,i] * np.log(temp[i])) / N"
      ]
    },
    {
      "cell_type": "code",
      "execution_count": null,
      "metadata": {
        "id": "Ic_PXE5QQjiT"
      },
      "outputs": [],
      "source": [
        "log_loss_result=[]\n",
        "for i in range(NUMBER_OF_CLASSES):\n",
        "  log_loss_result.append([CLASSES[i],loss[i]])"
      ]
    },
    {
      "cell_type": "code",
      "execution_count": null,
      "metadata": {
        "id": "LMh-QzEOQjiT"
      },
      "outputs": [],
      "source": [
        "column_headers=['CLASS','LOG-LOSS VALUE']\n",
        "print('Log-Loss Results')\n",
        "print(tabulate(log_loss_result, headers=column_headers, tablefmt=\"grid\"))"
      ]
    },
    {
      "cell_type": "code",
      "execution_count": null,
      "metadata": {
        "id": "iZG3kfMcQjiT"
      },
      "outputs": [],
      "source": [
        "print(f'Precision: {pre.result().numpy()}, Recall: {re.result().numpy()}, Accuracy: {acc.result().numpy()}, F Score: {f_score}, Cohen Kappa Score: {kappa}')"
      ]
    },
    {
      "cell_type": "code",
      "execution_count": null,
      "metadata": {
        "id": "IMzdMyl7QjiU"
      },
      "outputs": [],
      "source": [
        "#Plotting the Confusion Matrix\n",
        "\n",
        "\n",
        "confusion_matrix=metrics.confusion_matrix(True_label,Predicted_label,normalize='true')\n",
        "cm_display = metrics.ConfusionMatrixDisplay(confusion_matrix = confusion_matrix, display_labels = [\"L1S3\",\"L2S3\",\"L3S3\",\"LC1\",\"LC4\",\"LC5\",\"LC6\",\"LC9\"])\n",
        "fig, ax = plt.subplots(figsize=(10,10))\n",
        "cm_display.plot(ax=ax)\n",
        "plt.show()\n",
        "fig.savefig(mobilenetv2_confusion_matrix + '.eps', format='eps', dpi=600)\n",
        "fig.savefig(mobilenetv2_confusion_matrix + '.png', format='png', dpi=600)"
      ]
    },
    {
      "cell_type": "markdown",
      "metadata": {
        "id": "B8M295YtQjiU"
      },
      "source": [
        "### Training the ResNet50 Model and evaluating the performance"
      ]
    },
    {
      "cell_type": "code",
      "execution_count": null,
      "metadata": {
        "id": "7bxnhhSnQjiV"
      },
      "outputs": [],
      "source": [
        "from keras.applications import ResNet50"
      ]
    },
    {
      "cell_type": "code",
      "execution_count": null,
      "metadata": {
        "id": "DbhwSdi_QjiV"
      },
      "outputs": [],
      "source": [
        "resnet50_tensorboard_callback=tf.keras.callbacks.TensorBoard(log_dir=resnet50_logdir)"
      ]
    },
    {
      "cell_type": "code",
      "execution_count": null,
      "metadata": {
        "id": "7vUkLLiDQjiW"
      },
      "outputs": [],
      "source": [
        "resnet50_base=ResNet50(weights='imagenet',include_top=False,input_shape=(299,299,3))\n",
        "resnet50_model=Sequential()\n",
        "resnet50_model.add(resnet50_base)\n",
        "resnet50_model.add(Flatten())\n",
        "resnet50_model.add(Dense(NUMBER_OF_CLASSES,activation='softmax'))\n",
        "\n",
        "resnet50_model.compile(optimizer='adam',loss='sparse_categorical_crossentropy',metrics=['accuracy'])"
      ]
    },
    {
      "cell_type": "code",
      "execution_count": null,
      "metadata": {
        "id": "VS__aJ-hQjiW"
      },
      "outputs": [],
      "source": [
        "resnet50_model.summary()"
      ]
    },
    {
      "cell_type": "code",
      "execution_count": null,
      "metadata": {
        "id": "L9fpvJy_QjiX"
      },
      "outputs": [],
      "source": [
        "resnet50_Training_start=time.time()"
      ]
    },
    {
      "cell_type": "code",
      "execution_count": null,
      "metadata": {
        "id": "RhL6NbZBQjiX"
      },
      "outputs": [],
      "source": [
        "resnet50_Model_Run=resnet50_model.fit(\n",
        "    normalized_training_set,\n",
        "    validation_data=normalized_validation_set,\n",
        "    epochs=30,\n",
        "    validation_steps=len(normalized_validation_set),\n",
        "    callbacks=[resnet50_tensorboard_callback]\n",
        ")"
      ]
    },
    {
      "cell_type": "code",
      "execution_count": null,
      "metadata": {
        "id": "NipKbb2LQjiY"
      },
      "outputs": [],
      "source": [
        "resnet50_Training_stop=time.time()"
      ]
    },
    {
      "cell_type": "code",
      "execution_count": null,
      "metadata": {
        "id": "cViwIrveQjiZ"
      },
      "outputs": [],
      "source": [
        "print(f'Time required for RESNET50 model training= {resnet50_Training_stop-resnet50_Training_start} seconds')"
      ]
    },
    {
      "cell_type": "code",
      "execution_count": null,
      "metadata": {
        "id": "8c3q6DhqQjib"
      },
      "outputs": [],
      "source": [
        "# Plotting the loss\n",
        "\n",
        "\n",
        "fig=plt.figure(figsize=(10,6))\n",
        "plt.plot(resnet50_Model_Run.history['loss'], color='blue', label='Training Loss')\n",
        "plt.plot(resnet50_Model_Run.history['val_loss'], color='red', label='Validation Loss')\n",
        "plt.xlabel(\"Epochs\")\n",
        "plt.ylabel(\"Loss\")\n",
        "fig.suptitle('Loss',fontsize=15)\n",
        "plt.legend()\n",
        "plt.show()\n",
        "fig.savefig(resnet50_loss + '.eps', format='eps', dpi=600)\n",
        "fig.savefig(resnet50_loss + '.png', format='png', dpi=600)"
      ]
    },
    {
      "cell_type": "code",
      "execution_count": null,
      "metadata": {
        "id": "9W6zA0zdQjic"
      },
      "outputs": [],
      "source": [
        "# Plotting the accuracy\n",
        "\n",
        "\n",
        "fig=plt.figure(figsize=(10,6))\n",
        "plt.plot(resnet50_Model_Run.history['accuracy'], color='blue', label='Training Accuracy')\n",
        "plt.plot(resnet50_Model_Run.history['val_accuracy'], color='red', label='Validation Accuracy')\n",
        "plt.xlabel(\"Epochs\")\n",
        "plt.ylabel(\"Accuracy\")\n",
        "fig.suptitle('Accuracy',fontsize=15)\n",
        "plt.legend()\n",
        "plt.show()\n",
        "fig.savefig(resnet50_accuracy + '.eps', format='eps', dpi=600)\n",
        "fig.savefig(resnet50_accuracy + '.png', format='png', dpi=600)"
      ]
    },
    {
      "cell_type": "code",
      "execution_count": null,
      "metadata": {
        "id": "wzxfG0EFQjic"
      },
      "outputs": [],
      "source": [
        "# Calculating the Precision, Recall, Accuracy\n",
        "\n",
        "pre = Precision()\n",
        "re = Recall()\n",
        "acc = Accuracy()"
      ]
    },
    {
      "cell_type": "code",
      "execution_count": null,
      "metadata": {
        "id": "tv7X4kauQjic"
      },
      "outputs": [],
      "source": [
        "True_label=[]\n",
        "Predicted_label=[]\n",
        "Predicted_probabilities=[]\n",
        "score=[]\n",
        "for images,labels in (normalized_testing_set):\n",
        "  score.append(resnet50_model.evaluate(images,labels))\n",
        "  for it in range(len(labels)):\n",
        "    True_label.append(labels[it])\n",
        "  pred=resnet50_model.predict(images)\n",
        "  y_max=[]\n",
        "  for it in range(len(pred)):\n",
        "      Predicted_probabilities.append(pred[it])\n",
        "      y_max.append(np.argmax(pred[it]))\n",
        "      Predicted_label.append(np.argmax(pred[it]))\n",
        "  pre.update_state(labels,y_max)\n",
        "  re.update_state(labels,y_max)\n",
        "  acc.update_state(labels,y_max)"
      ]
    },
    {
      "cell_type": "code",
      "execution_count": null,
      "metadata": {
        "id": "Bqg-2IiNQjid"
      },
      "outputs": [],
      "source": [
        "f_score=(2*pre.result().numpy()*re.result().numpy())/(pre.result().numpy()+re.result().numpy())"
      ]
    },
    {
      "cell_type": "code",
      "execution_count": null,
      "metadata": {
        "id": "C_MwoHvLQjid"
      },
      "outputs": [],
      "source": [
        "kappa=cohen_kappa_score(True_label,Predicted_label)"
      ]
    },
    {
      "cell_type": "code",
      "execution_count": null,
      "metadata": {
        "id": "Xibv6c4QQjie"
      },
      "outputs": [],
      "source": [
        "True_label=np.array(True_label)\n",
        "Predicted_label=np.array(Predicted_label)\n",
        "Predicted_probabilities=np.array(Predicted_probabilities)"
      ]
    },
    {
      "cell_type": "code",
      "execution_count": null,
      "metadata": {
        "id": "VarlsNedQjie"
      },
      "outputs": [],
      "source": [
        "Binarized_True_label=label_binarize(True_label,classes=[0, 1, 2, 3, 4])"
      ]
    },
    {
      "cell_type": "code",
      "execution_count": null,
      "metadata": {
        "id": "crm1ihpIQjie"
      },
      "outputs": [],
      "source": [
        "#Calcualting the fpr, tpr and auc\n",
        "\n",
        "\n",
        "fpr = [0] * NUMBER_OF_CLASSES\n",
        "tpr = [0] * NUMBER_OF_CLASSES\n",
        "roc_auc= [0] * NUMBER_OF_CLASSES\n",
        "avg_roc_auc=0\n",
        "for i in range(NUMBER_OF_CLASSES):\n",
        "    fpr[i], tpr[i], _ = roc_curve(Binarized_True_label[:, i], Predicted_probabilities[:, i])\n",
        "    roc_auc[i] = auc(fpr[i], tpr[i])"
      ]
    },
    {
      "cell_type": "code",
      "execution_count": null,
      "metadata": {
        "id": "SU9uPM9UQjif"
      },
      "outputs": [],
      "source": [
        "roc_auc_details=[]\n",
        "for i in range(NUMBER_OF_CLASSES):\n",
        "  temp=[CLASSES[i],roc_auc[i]]\n",
        "  roc_auc_details.append(temp)"
      ]
    },
    {
      "cell_type": "code",
      "execution_count": null,
      "metadata": {
        "id": "Ru2a5XheQjif"
      },
      "outputs": [],
      "source": [
        "column_headers=['CLASS','ROC-AUC']\n",
        "print('ROC-AUC Results')\n",
        "print(tabulate(roc_auc_details, headers=column_headers, tablefmt=\"grid\"))"
      ]
    },
    {
      "cell_type": "code",
      "execution_count": null,
      "metadata": {
        "id": "XtmxDKHXQjif"
      },
      "outputs": [],
      "source": [
        "avg_roc_auc=sum(roc_auc)/NUMBER_OF_CLASSES"
      ]
    },
    {
      "cell_type": "code",
      "execution_count": null,
      "metadata": {
        "id": "LOofxqagQjig"
      },
      "outputs": [],
      "source": [
        "print(f'The average ROC-AUC value is: {avg_roc_auc}')"
      ]
    },
    {
      "cell_type": "code",
      "execution_count": null,
      "metadata": {
        "id": "GMxu47Q4Qjig"
      },
      "outputs": [],
      "source": [
        "#Plotting the ROC Curve\n",
        "\n",
        "\n",
        "fig=plt.figure(figsize=(10,10))\n",
        "color=['red','green','blue','cyan','magenta','yellow','orange','purple']\n",
        "for i in range(NUMBER_OF_CLASSES):\n",
        "  plt.plot(fpr[i],tpr[i],color[i],label='Class {} (AUC= {:.6F})'.format(CLASSES[i],roc_auc[i]))\n",
        "plt.plot([0, 1], [0, 1], 'k--')\n",
        "plt.xlim([0.0, 1.0])\n",
        "plt.ylim([0.0, 1.0])\n",
        "plt.xlabel('False Positive Rate')\n",
        "plt.ylabel('True Positive Rate')\n",
        "plt.suptitle('One-vs-Rest ROC Curve',fontsize=15)\n",
        "plt.legend(loc='lower right')\n",
        "plt.show()\n",
        "fig.savefig(resnet50_rocauc + '.eps', format='eps', dpi=600)\n",
        "fig.savefig(resnet50_rocauc + '.png', format='png', dpi=600)"
      ]
    },
    {
      "cell_type": "code",
      "execution_count": null,
      "metadata": {
        "id": "xsnACjwmQjig"
      },
      "outputs": [],
      "source": [
        "#Plotting the ROC Curve (Zoomed in at the top left corner)\n",
        "\n",
        "\n",
        "fig=plt.figure(figsize=(10,10))\n",
        "color=['red','green','blue','cyan','magenta','yellow','orange','purple']\n",
        "for i in range(NUMBER_OF_CLASSES):\n",
        "  plt.plot(fpr[i],tpr[i],color[i],label='Class {} (AUC= {:.6F})'.format(CLASSES[i],roc_auc[i]))\n",
        "plt.plot([0, 1], [0, 1], 'k--')\n",
        "plt.xlim([0.0, 0.50])\n",
        "plt.ylim([0.0, 1.0])\n",
        "plt.xlabel('False Positive Rate')\n",
        "plt.ylabel('True Positive Rate')\n",
        "plt.suptitle('One-vs-Rest ROC Curve (Zoomed top-left)',fontsize=15)\n",
        "plt.legend(loc='lower right')\n",
        "plt.show()\n",
        "fig.savefig(resnet50_rocauc_zoomed + '.eps', format='eps', dpi=600)\n",
        "fig.savefig(resnet50_rocauc_zoomed + '.ong', format='png', dpi=600)"
      ]
    },
    {
      "cell_type": "code",
      "execution_count": null,
      "metadata": {
        "id": "gE4WSzpSQjih"
      },
      "outputs": [],
      "source": [
        "#Calculating the Log-loss Score (One-vs-Rest)\n",
        "\n",
        "\n",
        "temp=[0]*NUMBER_OF_CLASSES\n",
        "loss=[0]*NUMBER_OF_CLASSES\n",
        "epsilon = 1e-15  # Small constant to avoid division by zero\n",
        "N = Binarized_True_label.shape[0]\n",
        "\n",
        "for i in range(NUMBER_OF_CLASSES):\n",
        "  # Clip predicted probabilities to avoid log(0) cases\n",
        "  temp[i]= np.clip(Predicted_probabilities[:,i], epsilon, 1 - epsilon)\n",
        "  # Calculate cross-entropy loss\n",
        "  loss[i] = -np.sum(Binarized_True_label[:,i] * np.log(temp[i])) / N"
      ]
    },
    {
      "cell_type": "code",
      "execution_count": null,
      "metadata": {
        "id": "luv2jwJwQjih"
      },
      "outputs": [],
      "source": [
        "log_loss_result=[]\n",
        "for i in range(NUMBER_OF_CLASSES):\n",
        "  log_loss_result.append([CLASSES[i],loss[i]])"
      ]
    },
    {
      "cell_type": "code",
      "execution_count": null,
      "metadata": {
        "id": "WxNis4u_Qjih"
      },
      "outputs": [],
      "source": [
        "column_headers=['CLASS','LOG-LOSS VALUE']\n",
        "print('Log-Loss Results')\n",
        "print(tabulate(log_loss_result, headers=column_headers, tablefmt=\"grid\"))"
      ]
    },
    {
      "cell_type": "code",
      "execution_count": null,
      "metadata": {
        "id": "vzXO34onQjih"
      },
      "outputs": [],
      "source": [
        "print(f'Precision: {pre.result().numpy()}, Recall: {re.result().numpy()}, Accuracy: {acc.result().numpy()}, F Score: {f_score}, Cohen Kappa Score: {kappa}')"
      ]
    },
    {
      "cell_type": "code",
      "execution_count": null,
      "metadata": {
        "id": "5COeA2rgQjii"
      },
      "outputs": [],
      "source": [
        "#Plotting the Confusion Matrix\n",
        "\n",
        "\n",
        "confusion_matrix=metrics.confusion_matrix(True_label,Predicted_label,normalize='true')\n",
        "cm_display = metrics.ConfusionMatrixDisplay(confusion_matrix = confusion_matrix, display_labels = [\"L1S3\",\"L2S3\",\"L3S3\",\"LC1\",\"LC4\",\"LC5\",\"LC6\",\"LC9\"])\n",
        "fig, ax = plt.subplots(figsize=(10,10))\n",
        "cm_display.plot(ax=ax)\n",
        "plt.show()\n",
        "fig.savefig(resnet50_confusion_matrix + '.eps', format='eps', dpi=600)\n",
        "fig.savefig(resnet50_confusion_matrix + '.png', format='png', dpi=600)"
      ]
    },
    {
      "cell_type": "markdown",
      "metadata": {
        "id": "VMb6guM2Qjii"
      },
      "source": [
        "### Training the EfficientNetB0 Model and evaluating the performance"
      ]
    },
    {
      "cell_type": "code",
      "execution_count": null,
      "metadata": {
        "id": "8M7-6qiJQjij"
      },
      "outputs": [],
      "source": [
        "from keras.applications import EfficientNetB0"
      ]
    },
    {
      "cell_type": "code",
      "execution_count": null,
      "metadata": {
        "id": "PbmK7btLQjij"
      },
      "outputs": [],
      "source": [
        "efficientnetb0_tensorboard_callback=tf.keras.callbacks.TensorBoard(log_dir=efficientnetb0_logdir)"
      ]
    },
    {
      "cell_type": "code",
      "execution_count": null,
      "metadata": {
        "id": "WWtraS5lQjik"
      },
      "outputs": [],
      "source": [
        "efficientnetb0_base=EfficientNetB0(weights='imagenet',include_top=False,input_shape=(299,299,3))\n",
        "efficientnetb0_model=Sequential()\n",
        "efficientnetb0_model.add(efficientnetb0_base)\n",
        "efficientnetb0_model.add(Flatten())\n",
        "efficientnetb0_model.add(Dense(NUMBER_OF_CLASSES,activation='softmax'))\n",
        "\n",
        "efficientnetb0_model.compile(optimizer='adam',loss='sparse_categorical_crossentropy',metrics=['accuracy'])"
      ]
    },
    {
      "cell_type": "code",
      "execution_count": null,
      "metadata": {
        "id": "JRZSwXDVQjik"
      },
      "outputs": [],
      "source": [
        "efficientnetb0_model.summary()"
      ]
    },
    {
      "cell_type": "code",
      "execution_count": null,
      "metadata": {
        "id": "afx1z_mRQjik"
      },
      "outputs": [],
      "source": [
        "efficientnetb0_Training_start=time.time()"
      ]
    },
    {
      "cell_type": "code",
      "execution_count": null,
      "metadata": {
        "id": "itiaDf2uQjil"
      },
      "outputs": [],
      "source": [
        "efficientnetb0_Model_Run=efficientnetb0_model.fit(\n",
        "    normalized_training_set,\n",
        "    validation_data=normalized_validation_set,\n",
        "    epochs=30,\n",
        "    validation_steps=len(normalized_validation_set),\n",
        "    callbacks=[efficientnetb0_tensorboard_callback]\n",
        ")"
      ]
    },
    {
      "cell_type": "code",
      "execution_count": null,
      "metadata": {
        "id": "6tJvswD8Qjil"
      },
      "outputs": [],
      "source": [
        "efficientnetb0_Training_stop=time.time()"
      ]
    },
    {
      "cell_type": "code",
      "execution_count": null,
      "metadata": {
        "id": "_CL9TgWUQjil"
      },
      "outputs": [],
      "source": [
        "print(f'Time requied for EFFICIENTNETB0 model training= {efficientnetb0_Training_stop-efficientnetb0_Training_start} seconds')"
      ]
    },
    {
      "cell_type": "code",
      "execution_count": null,
      "metadata": {
        "id": "lZ9odC3iQjil"
      },
      "outputs": [],
      "source": [
        "# Plotting the loss\n",
        "\n",
        "\n",
        "fig=plt.figure(figsize=(10,6))\n",
        "plt.plot(efficientnetb0_Model_Run.history['loss'], color='blue', label='Training Loss')\n",
        "plt.plot(efficientnetb0_Model_Run.history['val_loss'], color='red', label='Validation Loss')\n",
        "plt.xlabel(\"Epochs\")\n",
        "plt.ylabel(\"Loss\")\n",
        "fig.suptitle('Loss',fontsize=15)\n",
        "plt.legend()\n",
        "plt.show()\n",
        "fig.savefig(efficientnetb0_loss + '.eps', format='eps', dpi=600)\n",
        "fig.savefig(efficientnetb0_loss + '.png', format='png', dpi=600)"
      ]
    },
    {
      "cell_type": "code",
      "execution_count": null,
      "metadata": {
        "id": "tqPHTf7lQjim"
      },
      "outputs": [],
      "source": [
        "# Plotting the accuracy\n",
        "\n",
        "\n",
        "fig=plt.figure(figsize=(10,6))\n",
        "plt.plot(efficientnetb0_Model_Run.history['accuracy'], color='blue', label='Training Accuracy')\n",
        "plt.plot(efficientnetb0_Model_Run.history['val_accuracy'], color='red', label='Validation Accuracy')\n",
        "plt.xlabel(\"Epochs\")\n",
        "plt.ylabel(\"Accuracy\")\n",
        "fig.suptitle('Accuracy',fontsize=15)\n",
        "plt.legend()\n",
        "plt.show()\n",
        "fig.savefig(efficientnetb0_accuracy + '.eps', format='eps', dpi=600)\n",
        "fig.savefig(efficientnetb0_accuracy + '.png', format='png', dpi=600)"
      ]
    },
    {
      "cell_type": "code",
      "execution_count": null,
      "metadata": {
        "id": "6szROAq7Qjim"
      },
      "outputs": [],
      "source": [
        "# Calculating the Precision, Recall, Accuracy\n",
        "\n",
        "pre = Precision()\n",
        "re = Recall()\n",
        "acc = Accuracy()"
      ]
    },
    {
      "cell_type": "code",
      "execution_count": null,
      "metadata": {
        "id": "vocOVTZbQjim"
      },
      "outputs": [],
      "source": [
        "True_label=[]\n",
        "Predicted_label=[]\n",
        "Predicted_probabilities=[]\n",
        "score=[]\n",
        "for images,labels in (normalized_testing_set):\n",
        "  score.append(efficientnetb0_model.evaluate(images,labels))\n",
        "  for it in range(len(labels)):\n",
        "    True_label.append(labels[it])\n",
        "  pred=efficientnetb0_model.predict(images)\n",
        "  y_max=[]\n",
        "  for it in range(len(pred)):\n",
        "      Predicted_probabilities.append(pred[it])\n",
        "      y_max.append(np.argmax(pred[it]))\n",
        "      Predicted_label.append(np.argmax(pred[it]))\n",
        "  pre.update_state(labels,y_max)\n",
        "  re.update_state(labels,y_max)\n",
        "  acc.update_state(labels,y_max)"
      ]
    },
    {
      "cell_type": "code",
      "execution_count": null,
      "metadata": {
        "id": "E32QuWN3Qjin"
      },
      "outputs": [],
      "source": [
        "f_score=(2*pre.result().numpy()*re.result().numpy())/(pre.result().numpy()+re.result().numpy())"
      ]
    },
    {
      "cell_type": "code",
      "execution_count": null,
      "metadata": {
        "id": "g4WTM5cOQjin"
      },
      "outputs": [],
      "source": [
        "kappa=cohen_kappa_score(True_label,Predicted_label)"
      ]
    },
    {
      "cell_type": "code",
      "execution_count": null,
      "metadata": {
        "id": "yO8OxK4BQjin"
      },
      "outputs": [],
      "source": [
        "True_label=np.array(True_label)\n",
        "Predicted_label=np.array(Predicted_label)\n",
        "Predicted_probabilities=np.array(Predicted_probabilities)"
      ]
    },
    {
      "cell_type": "code",
      "execution_count": null,
      "metadata": {
        "id": "fCEET_C3Qjio"
      },
      "outputs": [],
      "source": [
        "Binarized_True_label=label_binarize(True_label,classes=[0, 1, 2, 3, 4])"
      ]
    },
    {
      "cell_type": "code",
      "execution_count": null,
      "metadata": {
        "id": "syC1d7WCQjiq"
      },
      "outputs": [],
      "source": [
        "#Calcualting the fpr, tpr and auc\n",
        "\n",
        "\n",
        "fpr = [0] * NUMBER_OF_CLASSES\n",
        "tpr = [0] * NUMBER_OF_CLASSES\n",
        "roc_auc= [0] * NUMBER_OF_CLASSES\n",
        "avg_roc_auc=0\n",
        "for i in range(NUMBER_OF_CLASSES):\n",
        "    fpr[i], tpr[i], _ = roc_curve(Binarized_True_label[:, i], Predicted_probabilities[:, i])\n",
        "    roc_auc[i] = auc(fpr[i], tpr[i])"
      ]
    },
    {
      "cell_type": "code",
      "execution_count": null,
      "metadata": {
        "id": "q2V05-qtQjis"
      },
      "outputs": [],
      "source": [
        "roc_auc_details=[]\n",
        "for i in range(NUMBER_OF_CLASSES):\n",
        "  temp=[CLASSES[i],roc_auc[i]]\n",
        "  roc_auc_details.append(temp)"
      ]
    },
    {
      "cell_type": "code",
      "execution_count": null,
      "metadata": {
        "id": "J-an4PkmQjit"
      },
      "outputs": [],
      "source": [
        "column_headers=['CLASS','ROC-AUC']\n",
        "print('ROC-AUC Results')\n",
        "print(tabulate(roc_auc_details, headers=column_headers, tablefmt=\"grid\"))"
      ]
    },
    {
      "cell_type": "code",
      "execution_count": null,
      "metadata": {
        "id": "v7NLLDA6Qjiv"
      },
      "outputs": [],
      "source": [
        "avg_roc_auc=sum(roc_auc)/NUMBER_OF_CLASSES"
      ]
    },
    {
      "cell_type": "code",
      "execution_count": null,
      "metadata": {
        "id": "BeAm_h83Qjiv"
      },
      "outputs": [],
      "source": [
        "print(f'The average ROC-AUC value is: {avg_roc_auc}')"
      ]
    },
    {
      "cell_type": "code",
      "execution_count": null,
      "metadata": {
        "id": "qHlVDdRvQjiw"
      },
      "outputs": [],
      "source": [
        "#Plotting the ROC Curve\n",
        "\n",
        "\n",
        "fig=plt.figure(figsize=(10,10))\n",
        "color=['red','green','blue','cyan','magenta','yellow','orange','purple']\n",
        "for i in range(NUMBER_OF_CLASSES):\n",
        "  plt.plot(fpr[i],tpr[i],color[i],label='Class {} (AUC= {:.6F})'.format(CLASSES[i],roc_auc[i]))\n",
        "plt.plot([0, 1], [0, 1], 'k--')\n",
        "plt.xlim([0.0, 1.0])\n",
        "plt.ylim([0.0, 1.0])\n",
        "plt.xlabel('False Positive Rate')\n",
        "plt.ylabel('True Positive Rate')\n",
        "plt.suptitle('One-vs-Rest ROC Curve',fontsize=15)\n",
        "plt.legend(loc='lower right')\n",
        "plt.show()\n",
        "fig.savefig(efficientnetb0_rocauc + '.eps', format='eps', dpi=600)\n",
        "fig.savefig(efficientnetb0_rocauc + '.png', format='png', dpi=600)"
      ]
    },
    {
      "cell_type": "code",
      "execution_count": null,
      "metadata": {
        "id": "Rn1oWSEjQjiw"
      },
      "outputs": [],
      "source": [
        "#Plotting the ROC Curve (Zoomed in at the top left corner)\n",
        "\n",
        "\n",
        "fig=plt.figure(figsize=(10,10))\n",
        "color=['red','green','blue','cyan','magenta','yellow','orange','purple']\n",
        "for i in range(NUMBER_OF_CLASSES):\n",
        "  plt.plot(fpr[i],tpr[i],color[i],label='Class {} (AUC= {:.6F})'.format(CLASSES[i],roc_auc[i]))\n",
        "plt.plot([0, 1], [0, 1], 'k--')\n",
        "plt.xlim([0.0, 0.50])\n",
        "plt.ylim([0.0, 1.0])\n",
        "plt.xlabel('False Positive Rate')\n",
        "plt.ylabel('True Positive Rate')\n",
        "plt.suptitle('One-vs-Rest ROC Curve (Zoomed top-left)',fontsize=15)\n",
        "plt.legend(loc='lower right')\n",
        "plt.show()\n",
        "fig.savefig(efficientnetb0_rocauc_zoomed + '.eps', format='eps', dpi=600)\n",
        "fig.savefig(efficientnetb0_rocauc_zoomed + '.png', format='png', dpi=600)"
      ]
    },
    {
      "cell_type": "code",
      "execution_count": null,
      "metadata": {
        "id": "CdEnnGnsQjix"
      },
      "outputs": [],
      "source": [
        "#Calculating the Log-loss Score (One-vs-Rest)\n",
        "\n",
        "\n",
        "temp=[0]*NUMBER_OF_CLASSES\n",
        "loss=[0]*NUMBER_OF_CLASSES\n",
        "epsilon = 1e-15  # Small constant to avoid division by zero\n",
        "N = Binarized_True_label.shape[0]\n",
        "\n",
        "for i in range(NUMBER_OF_CLASSES):\n",
        "  # Clip predicted probabilities to avoid log(0) cases\n",
        "  temp[i]= np.clip(Predicted_probabilities[:,i], epsilon, 1 - epsilon)\n",
        "  # Calculate cross-entropy loss\n",
        "  loss[i] = -np.sum(Binarized_True_label[:,i] * np.log(temp[i])) / N"
      ]
    },
    {
      "cell_type": "code",
      "execution_count": null,
      "metadata": {
        "id": "0FzJw-FlQjix"
      },
      "outputs": [],
      "source": [
        "log_loss_result=[]\n",
        "for i in range(NUMBER_OF_CLASSES):\n",
        "  log_loss_result.append([CLASSES[i],loss[i]])"
      ]
    },
    {
      "cell_type": "code",
      "execution_count": null,
      "metadata": {
        "id": "pKg2GdmOQjiy"
      },
      "outputs": [],
      "source": [
        "column_headers=['CLASS','LOG-LOSS VALUE']\n",
        "print('Log-Loss Results')\n",
        "print(tabulate(log_loss_result, headers=column_headers, tablefmt=\"grid\"))"
      ]
    },
    {
      "cell_type": "code",
      "execution_count": null,
      "metadata": {
        "id": "Zzn2b4axQjiy"
      },
      "outputs": [],
      "source": [
        "print(f'Precision: {pre.result().numpy()}, Recall: {re.result().numpy()}, Accuracy: {acc.result().numpy()}, F Score: {f_score}, Cohen Kappa Score: {kappa}')"
      ]
    },
    {
      "cell_type": "code",
      "execution_count": null,
      "metadata": {
        "id": "Xch0ceP7Qjiz"
      },
      "outputs": [],
      "source": [
        "#Plotting the Confusion Matrix\n",
        "\n",
        "\n",
        "confusion_matrix=metrics.confusion_matrix(True_label,Predicted_label,normalize='true')\n",
        "cm_display = metrics.ConfusionMatrixDisplay(confusion_matrix = confusion_matrix, display_labels = [\"L1S3\",\"L2S3\",\"L3S3\",\"LC1\",\"LC4\",\"LC5\",\"LC6\",\"LC9\"])\n",
        "fig, ax = plt.subplots(figsize=(10,10))\n",
        "cm_display.plot(ax=ax)\n",
        "plt.show()\n",
        "fig.savefig(efficientnetb0_confusion_matrix + '.eps', format='eps', dpi=600)\n",
        "fig.savefig(efficientnetb0_confusion_matrix + '.png', format='png', dpi=600)"
      ]
    }
  ],
  "metadata": {
    "accelerator": "GPU",
    "colab": {
      "gpuType": "T4",
      "provenance": []
    },
    "kernelspec": {
      "display_name": "Python 3",
      "name": "python3"
    },
    "language_info": {
      "codemirror_mode": {
        "name": "ipython",
        "version": 3
      },
      "file_extension": ".py",
      "mimetype": "text/x-python",
      "name": "python",
      "nbconvert_exporter": "python",
      "pygments_lexer": "ipython3",
      "version": "3.9.5"
    },
    "vscode": {
      "interpreter": {
        "hash": "b302cdd1e032ee910f5c889c3360c28564c92ad4f326fc3102e39fbe47faee66"
      }
    }
  },
  "nbformat": 4,
  "nbformat_minor": 0
}