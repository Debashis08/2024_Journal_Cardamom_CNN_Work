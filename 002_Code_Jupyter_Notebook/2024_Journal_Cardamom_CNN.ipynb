{
  "cells": [
    {
      "cell_type": "markdown",
      "metadata": {
        "id": "uBYwCqCtEjYP"
      },
      "source": [
        "# Project Setup"
      ]
    },
    {
      "cell_type": "markdown",
      "metadata": {
        "id": "uL1qu-8Ys6_6"
      },
      "source": [
        "### Importing the required libraries"
      ]
    },
    {
      "cell_type": "code",
      "execution_count": 2,
      "metadata": {
        "id": "vs9SfnnnlokY"
      },
      "outputs": [],
      "source": [
        "import tensorflow as tf\n",
        "from tensorflow.keras.layers import Input, Lambda, Dense, Flatten\n",
        "from tensorflow.keras.models import Model\n",
        "from tensorflow.keras.preprocessing import image\n",
        "from tensorflow.keras.preprocessing.image import load_img\n",
        "from tensorflow.keras.models import Sequential\n",
        "from tensorflow.keras.layers import Rescaling, Conv2D, MaxPooling2D, Dense, Flatten, Dropout, BatchNormalization, GlobalAveragePooling2D\n",
        "from tensorflow.keras.models import load_model\n",
        "from tensorflow.keras.preprocessing import image\n",
        "from tensorflow.keras.metrics import Precision, Recall, Accuracy\n",
        "import numpy as np\n",
        "import time\n",
        "import matplotlib.pyplot as plt\n",
        "from sklearn import metrics\n",
        "from sklearn.metrics import cohen_kappa_score,log_loss\n",
        "from tabulate import tabulate\n",
        "from sklearn.metrics import roc_curve, auc\n",
        "from sklearn.preprocessing import label_binarize"
      ]
    },
    {
      "cell_type": "markdown",
      "metadata": {
        "id": "iJ6CFKaPEVGd"
      },
      "source": [
        "### Declaring the Variables"
      ]
    },
    {
      "cell_type": "code",
      "execution_count": 3,
      "metadata": {
        "id": "Za-dL2Aplrlv"
      },
      "outputs": [],
      "source": [
        "IMAGE_SIZE = [299,299]\n",
        "BATCH_SIZE=16\n",
        "CLASSES=[\"L1S3\",\"L2S3\",\"L3S3\",\"LC1\",\"LC4\",\"LC5\",\"LC6\",\"LC9\"]\n",
        "NUMBER_OF_CLASSES=len(CLASSES)"
      ]
    },
    {
      "cell_type": "code",
      "execution_count": 4,
      "metadata": {
        "id": "sU-YeLLf4iAA"
      },
      "outputs": [],
      "source": [
        "training_image_dir='/content/drive/MyDrive/Conference_Journal/2024_Journal_Cardamom_CNN_Work/001_Dataset/Training'\n",
        "testing_image_dir='/content/drive/MyDrive/Conference_Journal/2024_Journal_Cardamom_CNN_Work/001_Dataset/Testing'\n",
        "validation_image_dir='/content/drive/MyDrive/Conference_Journal/2024_Journal_Cardamom_CNN_Work/001_Dataset/Validation'"
      ]
    },
    {
      "cell_type": "markdown",
      "metadata": {
        "id": "YPkn5rEDEdAN"
      },
      "source": [
        "### Fetching and Preprocessing the image files"
      ]
    },
    {
      "cell_type": "code",
      "execution_count": 5,
      "metadata": {
        "id": "fh6SpJSSEDSa"
      },
      "outputs": [],
      "source": [
        "normalization_layer = tf.keras.layers.Rescaling(1./255)"
      ]
    },
    {
      "cell_type": "code",
      "execution_count": 6,
      "metadata": {
        "id": "A-yPCHaZEGZ4",
        "colab": {
          "base_uri": "https://localhost:8080/"
        },
        "outputId": "e9f1a8fc-c21d-4a7e-cdb8-47e551fef0a2"
      },
      "outputs": [
        {
          "output_type": "stream",
          "name": "stdout",
          "text": [
            "Found 8000 files belonging to 8 classes.\n"
          ]
        }
      ],
      "source": [
        "training_image_data_set =tf.keras.utils.image_dataset_from_directory(\n",
        "  training_image_dir,\n",
        "  label_mode='int',\n",
        "  seed=131,\n",
        "  image_size=IMAGE_SIZE,\n",
        "  batch_size=BATCH_SIZE\n",
        ")"
      ]
    },
    {
      "cell_type": "code",
      "execution_count": 7,
      "metadata": {
        "id": "z6QusKVym_x4",
        "colab": {
          "base_uri": "https://localhost:8080/"
        },
        "outputId": "47f4bc30-0faa-4a6e-f0d6-6a38af654f6a"
      },
      "outputs": [
        {
          "output_type": "stream",
          "name": "stdout",
          "text": [
            "Found 2400 files belonging to 8 classes.\n"
          ]
        }
      ],
      "source": [
        "validation_image_data_set=tf.keras.utils.image_dataset_from_directory(\n",
        "    validation_image_dir,\n",
        "    label_mode='int',\n",
        "    seed=131,\n",
        "    image_size=IMAGE_SIZE,\n",
        "    batch_size=BATCH_SIZE\n",
        ")"
      ]
    },
    {
      "cell_type": "code",
      "execution_count": 8,
      "metadata": {
        "id": "t88iV87fmtUZ",
        "colab": {
          "base_uri": "https://localhost:8080/"
        },
        "outputId": "66299919-5247-4b33-a60c-c665e4104bdd"
      },
      "outputs": [
        {
          "output_type": "stream",
          "name": "stdout",
          "text": [
            "Found 2400 files belonging to 8 classes.\n"
          ]
        }
      ],
      "source": [
        "testing_image_data_set=tf.keras.utils.image_dataset_from_directory(\n",
        "    testing_image_dir,\n",
        "    label_mode='int',\n",
        "    seed=131,\n",
        "    image_size=IMAGE_SIZE,\n",
        "    batch_size=BATCH_SIZE\n",
        ")"
      ]
    },
    {
      "cell_type": "code",
      "execution_count": 9,
      "metadata": {
        "id": "QImbuHT0NFce",
        "colab": {
          "base_uri": "https://localhost:8080/"
        },
        "outputId": "f054de47-1bf0-4d0c-e11c-8f7f5b7e4382"
      },
      "outputs": [
        {
          "output_type": "stream",
          "name": "stdout",
          "text": [
            "Using 500 sets for Training\n",
            "Using 150 sets for Validation\n",
            "Using 150 sets for Testing\n"
          ]
        }
      ],
      "source": [
        "print(f'Using {len(training_image_data_set)} sets for Training')\n",
        "print(f'Using {len(validation_image_data_set)} sets for Validation')\n",
        "print(f'Using {len(testing_image_data_set)} sets for Testing')"
      ]
    },
    {
      "cell_type": "code",
      "execution_count": 10,
      "metadata": {
        "id": "sVLUfWNtEYSM"
      },
      "outputs": [],
      "source": [
        "normalized_training_set=training_image_data_set.map(lambda x,y: (normalization_layer(x), y))\n",
        "normalized_validation_set=validation_image_data_set.map(lambda x,y: (normalization_layer(x), y))\n",
        "normalized_testing_set=testing_image_data_set.map(lambda x,y: (normalization_layer(x), y))\n",
        "\n",
        "# image_batch, labels_batch = next(iter(normalized_training_set))      #<-----the data is fethched in this form: image batch, label batch"
      ]
    },
    {
      "cell_type": "markdown",
      "metadata": {
        "id": "ZgQ_OLGptbbH"
      },
      "source": [
        "# Training the Scratch Model"
      ]
    },
    {
      "cell_type": "markdown",
      "metadata": {
        "id": "yRpUjvO_EpUm"
      },
      "source": [
        "### Building the CNN Model"
      ]
    },
    {
      "cell_type": "code",
      "execution_count": 13,
      "metadata": {
        "id": "tJm9QzZgH-DI"
      },
      "outputs": [],
      "source": [
        "def Build_Model():\n",
        "  model=Sequential()\n",
        "\n",
        "  model.add(Conv2D(16, (3,3), 1, activation='relu', input_shape=(299,299,3)))\n",
        "  model.add(MaxPooling2D(pool_size=(2,2)))\n",
        "\n",
        "  model.add(Conv2D(32, (3,3), 1, activation='relu'))\n",
        "  model.add(MaxPooling2D())\n",
        "\n",
        "  model.add(Conv2D(64, (3,3), 1, activation='relu'))\n",
        "  model.add(MaxPooling2D())\n",
        "\n",
        "  model.add(Conv2D(128, (3,3), 1, activation='relu'))\n",
        "  model.add(MaxPooling2D(pool_size=(2,2)))\n",
        "\n",
        "  model.add(Conv2D(256, (3,3), 1, activation='relu'))\n",
        "  model.add(MaxPooling2D(pool_size=(2,2)))\n",
        "\n",
        "  model.add(Flatten())\n",
        "\n",
        "  model.add(Dense(256, activation='relu'))\n",
        "  model.add(Dense(128, activation='relu'))\n",
        "  model.add(Dense(64, activation='relu'))\n",
        "  model.add(Dense(NUMBER_OF_CLASSES, activation='softmax'))\n",
        "\n",
        "  model.compile(optimizer='adam', loss='sparse_categorical_crossentropy', metrics=['accuracy'])\n",
        "\n",
        "  return model"
      ]
    },
    {
      "cell_type": "code",
      "execution_count": 14,
      "metadata": {
        "id": "YDnLFulroTl1",
        "colab": {
          "base_uri": "https://localhost:8080/"
        },
        "outputId": "fed93715-6db3-4814-f349-6f8012d2f049"
      },
      "outputs": [
        {
          "output_type": "stream",
          "name": "stdout",
          "text": [
            "Model: \"sequential_1\"\n",
            "_________________________________________________________________\n",
            " Layer (type)                Output Shape              Param #   \n",
            "=================================================================\n",
            " conv2d_5 (Conv2D)           (None, 297, 297, 16)      448       \n",
            "                                                                 \n",
            " max_pooling2d_5 (MaxPoolin  (None, 148, 148, 16)      0         \n",
            " g2D)                                                            \n",
            "                                                                 \n",
            " conv2d_6 (Conv2D)           (None, 146, 146, 32)      4640      \n",
            "                                                                 \n",
            " max_pooling2d_6 (MaxPoolin  (None, 73, 73, 32)        0         \n",
            " g2D)                                                            \n",
            "                                                                 \n",
            " conv2d_7 (Conv2D)           (None, 71, 71, 64)        18496     \n",
            "                                                                 \n",
            " max_pooling2d_7 (MaxPoolin  (None, 35, 35, 64)        0         \n",
            " g2D)                                                            \n",
            "                                                                 \n",
            " conv2d_8 (Conv2D)           (None, 33, 33, 128)       73856     \n",
            "                                                                 \n",
            " max_pooling2d_8 (MaxPoolin  (None, 16, 16, 128)       0         \n",
            " g2D)                                                            \n",
            "                                                                 \n",
            " conv2d_9 (Conv2D)           (None, 14, 14, 256)       295168    \n",
            "                                                                 \n",
            " max_pooling2d_9 (MaxPoolin  (None, 7, 7, 256)         0         \n",
            " g2D)                                                            \n",
            "                                                                 \n",
            " flatten_1 (Flatten)         (None, 12544)             0         \n",
            "                                                                 \n",
            " dense_5 (Dense)             (None, 256)               3211520   \n",
            "                                                                 \n",
            " dense_6 (Dense)             (None, 128)               32896     \n",
            "                                                                 \n",
            " dense_7 (Dense)             (None, 64)                8256      \n",
            "                                                                 \n",
            " dense_8 (Dense)             (None, 8)                 520       \n",
            "                                                                 \n",
            "=================================================================\n",
            "Total params: 3645800 (13.91 MB)\n",
            "Trainable params: 3645800 (13.91 MB)\n",
            "Non-trainable params: 0 (0.00 Byte)\n",
            "_________________________________________________________________\n"
          ]
        }
      ],
      "source": [
        "# Summary of the model\n",
        "model=Build_Model()\n",
        "model.summary()"
      ]
    },
    {
      "cell_type": "markdown",
      "metadata": {
        "id": "21T4ffIQEuPG"
      },
      "source": [
        "### Peforming the 10 Fold Cross Validation"
      ]
    },
    {
      "cell_type": "code",
      "execution_count": 15,
      "metadata": {
        "id": "VT6vaoIO8SUN"
      },
      "outputs": [],
      "source": [
        "\n",
        "# Logs\n",
        "logdir='/content/drive/MyDrive/Conference_Journal/2024_Journal_Cardamom_CNN_Work/003_Logs/10FoldCrossValidatedModel_Logs'\n",
        "\n",
        "# Model Directory\n",
        "model_dir='/content/drive/MyDrive/Conference_Journal/2024_Journal_Cardamom_CNN_Work/004_Cross_Validated_Models/'"
      ]
    },
    {
      "cell_type": "code",
      "execution_count": 16,
      "metadata": {
        "id": "r14wOnB_8mpC"
      },
      "outputs": [],
      "source": [
        "tensorboard_callback=tf.keras.callbacks.TensorBoard(log_dir=logdir)"
      ]
    },
    {
      "cell_type": "code",
      "execution_count": 17,
      "metadata": {
        "id": "kxZdA5BGsdaZ"
      },
      "outputs": [],
      "source": [
        "FOLDS=10\n",
        "SCORES_PER_FOLD=[]"
      ]
    },
    {
      "cell_type": "code",
      "execution_count": 18,
      "metadata": {
        "id": "CQjBFfWF8cLl"
      },
      "outputs": [],
      "source": [
        "TFold_start=time.time()"
      ]
    },
    {
      "cell_type": "code",
      "execution_count": 19,
      "metadata": {
        "id": "otK1Dp9aebg5",
        "colab": {
          "base_uri": "https://localhost:8080/"
        },
        "outputId": "95bb7cf4-032d-4b30-cdbe-587de95de977"
      },
      "outputs": [
        {
          "metadata": {
            "tags": null
          },
          "name": "stdout",
          "output_type": "stream",
          "text": [
            "Fold 1\n",
            "--------------------------------------------------------------------------------------------\n",
            "Epoch 1/20\n",
            "450/450 [==============================] - 1340s 3s/step - loss: 1.3515 - accuracy: 0.3611\n",
            "Epoch 2/20\n",
            "450/450 [==============================] - 31s 63ms/step - loss: 0.9653 - accuracy: 0.5260\n",
            "Epoch 3/20\n",
            "450/450 [==============================] - 31s 63ms/step - loss: 0.8485 - accuracy: 0.5758\n",
            "Epoch 4/20\n",
            "450/450 [==============================] - 32s 64ms/step - loss: 0.7869 - accuracy: 0.6037\n",
            "Epoch 5/20\n",
            "450/450 [==============================] - 33s 65ms/step - loss: 0.8499 - accuracy: 0.5842\n",
            "Epoch 6/20\n",
            "450/450 [==============================] - 32s 64ms/step - loss: 0.7617 - accuracy: 0.6122\n",
            "Epoch 7/20\n",
            "450/450 [==============================] - 31s 62ms/step - loss: 0.6668 - accuracy: 0.6685\n",
            "Epoch 8/20\n",
            "450/450 [==============================] - 31s 62ms/step - loss: 0.6084 - accuracy: 0.7011\n",
            "Epoch 9/20\n",
            "450/450 [==============================] - 31s 63ms/step - loss: 0.5983 - accuracy: 0.7068\n",
            "Epoch 10/20\n",
            "450/450 [==============================] - 34s 69ms/step - loss: 0.4913 - accuracy: 0.7542\n",
            "Epoch 11/20\n",
            "450/450 [==============================] - 31s 62ms/step - loss: 0.4659 - accuracy: 0.7658\n",
            "Epoch 12/20\n",
            "450/450 [==============================] - 31s 61ms/step - loss: 0.4068 - accuracy: 0.7904\n",
            "Epoch 13/20\n",
            "450/450 [==============================] - 31s 61ms/step - loss: 0.3653 - accuracy: 0.8096\n",
            "Epoch 14/20\n",
            "450/450 [==============================] - 32s 65ms/step - loss: 0.3230 - accuracy: 0.8258\n",
            "Epoch 15/20\n",
            "450/450 [==============================] - 30s 61ms/step - loss: 0.2770 - accuracy: 0.8521\n",
            "Epoch 16/20\n",
            "450/450 [==============================] - 30s 62ms/step - loss: 0.3023 - accuracy: 0.8433\n",
            "Epoch 17/20\n",
            "450/450 [==============================] - 34s 66ms/step - loss: 0.2641 - accuracy: 0.8581\n",
            "Epoch 18/20\n",
            "450/450 [==============================] - 30s 61ms/step - loss: 0.2368 - accuracy: 0.8694\n",
            "Epoch 19/20\n",
            "450/450 [==============================] - 30s 61ms/step - loss: 0.2520 - accuracy: 0.8654\n",
            "Epoch 20/20\n",
            "450/450 [==============================] - 31s 62ms/step - loss: 0.2726 - accuracy: 0.8637\n",
            "\n",
            "\n",
            "Evaluating the model\n",
            "\n",
            "\n",
            "50/50 [==============================] - 4s 59ms/step - loss: 0.6381 - accuracy: 0.7575\n"
          ]
        },
        {
          "metadata": {
            "tags": null
          },
          "name": "stderr",
          "output_type": "stream",
          "text": [
            "/usr/local/lib/python3.10/dist-packages/keras/src/engine/training.py:3103: UserWarning: You are saving your model as an HDF5 file via `model.save()`. This file format is considered legacy. We recommend using instead the native Keras format, e.g. `model.save('my_model.keras')`.\n",
            "  saving_api.save_model(\n"
          ]
        },
        {
          "output_type": "stream",
          "name": "stdout",
          "text": [
            "--------------------------------------------------------------------------------------------\n",
            "Fold 2\n",
            "--------------------------------------------------------------------------------------------\n",
            "Epoch 1/20\n",
            "450/450 [==============================] - 39s 81ms/step - loss: 1.3183 - accuracy: 0.3639\n",
            "Epoch 2/20\n",
            "450/450 [==============================] - 34s 75ms/step - loss: 0.9068 - accuracy: 0.4997\n",
            "Epoch 3/20\n",
            "450/450 [==============================] - 34s 74ms/step - loss: 0.7887 - accuracy: 0.5953\n",
            "Epoch 4/20\n",
            "450/450 [==============================] - 34s 74ms/step - loss: 0.6880 - accuracy: 0.6350\n",
            "Epoch 5/20\n",
            "450/450 [==============================] - 37s 81ms/step - loss: 0.6301 - accuracy: 0.6696\n",
            "Epoch 6/20\n",
            "450/450 [==============================] - 33s 73ms/step - loss: 0.5762 - accuracy: 0.6876\n",
            "Epoch 7/20\n",
            "450/450 [==============================] - 35s 76ms/step - loss: 0.5510 - accuracy: 0.7092\n",
            "Epoch 8/20\n",
            "450/450 [==============================] - 34s 74ms/step - loss: 0.5826 - accuracy: 0.7022\n",
            "Epoch 9/20\n",
            "450/450 [==============================] - 33s 72ms/step - loss: 0.5258 - accuracy: 0.7228\n",
            "Epoch 10/20\n",
            "450/450 [==============================] - 33s 72ms/step - loss: 0.5519 - accuracy: 0.7172\n",
            "Epoch 11/20\n",
            "450/450 [==============================] - 33s 72ms/step - loss: 0.5052 - accuracy: 0.7378\n",
            "Epoch 12/20\n",
            "450/450 [==============================] - 33s 73ms/step - loss: 0.4567 - accuracy: 0.7524\n",
            "Epoch 13/20\n",
            "450/450 [==============================] - 34s 74ms/step - loss: 0.4406 - accuracy: 0.7647\n",
            "Epoch 14/20\n",
            "450/450 [==============================] - 35s 77ms/step - loss: 0.4229 - accuracy: 0.7761\n",
            "Epoch 15/20\n",
            "450/450 [==============================] - 39s 86ms/step - loss: 0.3907 - accuracy: 0.7901\n",
            "Epoch 16/20\n",
            "450/450 [==============================] - 38s 83ms/step - loss: 0.3343 - accuracy: 0.8149\n",
            "Epoch 17/20\n",
            "450/450 [==============================] - 34s 75ms/step - loss: 0.3383 - accuracy: 0.8138\n",
            "Epoch 18/20\n",
            "450/450 [==============================] - 35s 76ms/step - loss: 0.3498 - accuracy: 0.8069\n",
            "Epoch 19/20\n",
            "450/450 [==============================] - 34s 75ms/step - loss: 0.2795 - accuracy: 0.8365\n",
            "Epoch 20/20\n",
            "450/450 [==============================] - 34s 75ms/step - loss: 0.2548 - accuracy: 0.8500\n",
            "\n",
            "\n",
            "Evaluating the model\n",
            "\n",
            "\n",
            "50/50 [==============================] - 7s 73ms/step - loss: 0.5681 - accuracy: 0.7663\n",
            "--------------------------------------------------------------------------------------------\n",
            "Fold 3\n",
            "--------------------------------------------------------------------------------------------\n",
            "Epoch 1/20\n",
            "450/450 [==============================] - 39s 80ms/step - loss: 1.2324 - accuracy: 0.3933\n",
            "Epoch 2/20\n",
            "450/450 [==============================] - 35s 77ms/step - loss: 0.9347 - accuracy: 0.5006\n",
            "Epoch 3/20\n",
            "450/450 [==============================] - 38s 83ms/step - loss: 0.7956 - accuracy: 0.5843\n",
            "Epoch 4/20\n",
            "450/450 [==============================] - 38s 83ms/step - loss: 0.7232 - accuracy: 0.6275\n",
            "Epoch 5/20\n",
            "450/450 [==============================] - 34s 76ms/step - loss: 0.7385 - accuracy: 0.6283\n",
            "Epoch 6/20\n",
            "450/450 [==============================] - 36s 80ms/step - loss: 0.6393 - accuracy: 0.6660\n",
            "Epoch 7/20\n",
            "450/450 [==============================] - 34s 75ms/step - loss: 0.5723 - accuracy: 0.7063\n",
            "Epoch 8/20\n",
            "450/450 [==============================] - 37s 81ms/step - loss: 0.5361 - accuracy: 0.7189\n",
            "Epoch 9/20\n",
            "450/450 [==============================] - 36s 78ms/step - loss: 0.5503 - accuracy: 0.7265\n",
            "Epoch 10/20\n",
            "450/450 [==============================] - 37s 81ms/step - loss: 0.4660 - accuracy: 0.7563\n",
            "Epoch 11/20\n",
            "450/450 [==============================] - 36s 79ms/step - loss: 0.4329 - accuracy: 0.7750\n",
            "Epoch 12/20\n",
            "450/450 [==============================] - 35s 77ms/step - loss: 0.4240 - accuracy: 0.7846\n",
            "Epoch 13/20\n",
            "450/450 [==============================] - 35s 77ms/step - loss: 0.3904 - accuracy: 0.7969\n",
            "Epoch 14/20\n",
            "450/450 [==============================] - 35s 77ms/step - loss: 0.3263 - accuracy: 0.8192\n",
            "Epoch 15/20\n",
            "450/450 [==============================] - 36s 80ms/step - loss: 0.3277 - accuracy: 0.8239\n",
            "Epoch 16/20\n",
            "450/450 [==============================] - 37s 82ms/step - loss: 0.3136 - accuracy: 0.8249\n",
            "Epoch 17/20\n",
            "450/450 [==============================] - 38s 84ms/step - loss: 0.2513 - accuracy: 0.8514\n",
            "Epoch 18/20\n",
            "450/450 [==============================] - 35s 76ms/step - loss: 0.3011 - accuracy: 0.8342\n",
            "Epoch 19/20\n",
            "450/450 [==============================] - 36s 79ms/step - loss: 0.2467 - accuracy: 0.8512\n",
            "Epoch 20/20\n",
            "450/450 [==============================] - 37s 81ms/step - loss: 0.2470 - accuracy: 0.8522\n",
            "\n",
            "\n",
            "Evaluating the model\n",
            "\n",
            "\n",
            "50/50 [==============================] - 9s 73ms/step - loss: 0.6883 - accuracy: 0.7638\n",
            "--------------------------------------------------------------------------------------------\n",
            "Fold 4\n",
            "--------------------------------------------------------------------------------------------\n",
            "Epoch 1/20\n",
            "450/450 [==============================] - 43s 90ms/step - loss: 1.2117 - accuracy: 0.3939\n",
            "Epoch 2/20\n",
            "450/450 [==============================] - 38s 83ms/step - loss: 0.9182 - accuracy: 0.5346\n",
            "Epoch 3/20\n",
            "450/450 [==============================] - 38s 83ms/step - loss: 0.7980 - accuracy: 0.6092\n",
            "Epoch 4/20\n",
            "450/450 [==============================] - 38s 83ms/step - loss: 0.7486 - accuracy: 0.6247\n",
            "Epoch 5/20\n",
            "450/450 [==============================] - 40s 88ms/step - loss: 0.6575 - accuracy: 0.6700\n",
            "Epoch 6/20\n",
            "450/450 [==============================] - 38s 82ms/step - loss: 0.6107 - accuracy: 0.6903\n",
            "Epoch 7/20\n",
            "450/450 [==============================] - 38s 84ms/step - loss: 0.5923 - accuracy: 0.6960\n",
            "Epoch 8/20\n",
            "450/450 [==============================] - 39s 85ms/step - loss: 0.5227 - accuracy: 0.7294\n",
            "Epoch 9/20\n",
            "450/450 [==============================] - 39s 84ms/step - loss: 0.5078 - accuracy: 0.7410\n",
            "Epoch 10/20\n",
            "450/450 [==============================] - 37s 82ms/step - loss: 0.5295 - accuracy: 0.7418\n",
            "Epoch 11/20\n",
            "450/450 [==============================] - 39s 85ms/step - loss: 0.4364 - accuracy: 0.7754\n",
            "Epoch 12/20\n",
            "450/450 [==============================] - 38s 84ms/step - loss: 0.4222 - accuracy: 0.7819\n",
            "Epoch 13/20\n",
            "450/450 [==============================] - 39s 86ms/step - loss: 0.3757 - accuracy: 0.8037\n",
            "Epoch 14/20\n",
            "450/450 [==============================] - 40s 88ms/step - loss: 0.3428 - accuracy: 0.8132\n",
            "Epoch 15/20\n",
            "450/450 [==============================] - 39s 86ms/step - loss: 0.3378 - accuracy: 0.8214\n",
            "Epoch 16/20\n",
            "450/450 [==============================] - 39s 86ms/step - loss: 0.3019 - accuracy: 0.8344\n",
            "Epoch 17/20\n",
            "450/450 [==============================] - 39s 87ms/step - loss: 0.2872 - accuracy: 0.8349\n",
            "Epoch 18/20\n",
            "450/450 [==============================] - 39s 86ms/step - loss: 0.2565 - accuracy: 0.8508\n",
            "Epoch 19/20\n",
            "450/450 [==============================] - 37s 82ms/step - loss: 0.2635 - accuracy: 0.8525\n",
            "Epoch 20/20\n",
            "450/450 [==============================] - 38s 83ms/step - loss: 0.2481 - accuracy: 0.8578\n",
            "\n",
            "\n",
            "Evaluating the model\n",
            "\n",
            "\n",
            "50/50 [==============================] - 10s 60ms/step - loss: 0.4223 - accuracy: 0.7950\n",
            "--------------------------------------------------------------------------------------------\n",
            "Fold 5\n",
            "--------------------------------------------------------------------------------------------\n",
            "Epoch 1/20\n",
            "450/450 [==============================] - 45s 91ms/step - loss: 1.1837 - accuracy: 0.4000\n",
            "Epoch 2/20\n",
            "450/450 [==============================] - 41s 89ms/step - loss: 0.9463 - accuracy: 0.4913\n",
            "Epoch 3/20\n",
            "450/450 [==============================] - 40s 88ms/step - loss: 0.8126 - accuracy: 0.5967\n",
            "Epoch 4/20\n",
            "450/450 [==============================] - 44s 97ms/step - loss: 0.6883 - accuracy: 0.6494\n",
            "Epoch 5/20\n",
            "450/450 [==============================] - 43s 94ms/step - loss: 0.6031 - accuracy: 0.6953\n",
            "Epoch 6/20\n",
            "450/450 [==============================] - 42s 93ms/step - loss: 0.6014 - accuracy: 0.7003\n",
            "Epoch 7/20\n",
            "450/450 [==============================] - 39s 86ms/step - loss: 0.5328 - accuracy: 0.7307\n",
            "Epoch 8/20\n",
            "450/450 [==============================] - 41s 91ms/step - loss: 0.4938 - accuracy: 0.7500\n",
            "Epoch 9/20\n",
            "450/450 [==============================] - 41s 89ms/step - loss: 0.4615 - accuracy: 0.7643\n",
            "Epoch 10/20\n",
            "450/450 [==============================] - 44s 98ms/step - loss: 0.4014 - accuracy: 0.7843\n",
            "Epoch 11/20\n",
            "450/450 [==============================] - 41s 89ms/step - loss: 0.3872 - accuracy: 0.7926\n",
            "Epoch 12/20\n",
            "450/450 [==============================] - 42s 92ms/step - loss: 0.3413 - accuracy: 0.8067\n",
            "Epoch 13/20\n",
            "450/450 [==============================] - 44s 96ms/step - loss: 0.2998 - accuracy: 0.8274\n",
            "Epoch 14/20\n",
            "450/450 [==============================] - 44s 97ms/step - loss: 0.2950 - accuracy: 0.8306\n",
            "Epoch 15/20\n",
            "450/450 [==============================] - 40s 88ms/step - loss: 0.3418 - accuracy: 0.8196\n",
            "Epoch 16/20\n",
            "450/450 [==============================] - 41s 91ms/step - loss: 0.2485 - accuracy: 0.8497\n",
            "Epoch 17/20\n",
            "450/450 [==============================] - 43s 95ms/step - loss: 0.2728 - accuracy: 0.8432\n",
            "Epoch 18/20\n",
            "450/450 [==============================] - 40s 88ms/step - loss: 0.2453 - accuracy: 0.8572\n",
            "Epoch 19/20\n",
            "450/450 [==============================] - 41s 89ms/step - loss: 0.2392 - accuracy: 0.8549\n",
            "Epoch 20/20\n",
            "450/450 [==============================] - 42s 93ms/step - loss: 0.2289 - accuracy: 0.8597\n",
            "\n",
            "\n",
            "Evaluating the model\n",
            "\n",
            "\n",
            "50/50 [==============================] - 13s 57ms/step - loss: 0.5456 - accuracy: 0.7912\n",
            "--------------------------------------------------------------------------------------------\n",
            "Fold 6\n",
            "--------------------------------------------------------------------------------------------\n",
            "Epoch 1/20\n",
            "450/450 [==============================] - 48s 98ms/step - loss: 1.3102 - accuracy: 0.3793\n",
            "Epoch 2/20\n",
            "450/450 [==============================] - 43s 94ms/step - loss: 0.9319 - accuracy: 0.5126\n",
            "Epoch 3/20\n",
            "450/450 [==============================] - 46s 101ms/step - loss: 0.7527 - accuracy: 0.6321\n",
            "Epoch 4/20\n",
            "450/450 [==============================] - 45s 99ms/step - loss: 0.6859 - accuracy: 0.6597\n",
            "Epoch 5/20\n",
            "450/450 [==============================] - 44s 97ms/step - loss: 0.7038 - accuracy: 0.6571\n",
            "Epoch 6/20\n",
            "450/450 [==============================] - 44s 97ms/step - loss: 0.5674 - accuracy: 0.7094\n",
            "Epoch 7/20\n",
            "450/450 [==============================] - 46s 101ms/step - loss: 0.5442 - accuracy: 0.7218\n",
            "Epoch 8/20\n",
            "450/450 [==============================] - 44s 97ms/step - loss: 0.4982 - accuracy: 0.7414\n",
            "Epoch 9/20\n",
            "450/450 [==============================] - 44s 96ms/step - loss: 0.4942 - accuracy: 0.7432\n",
            "Epoch 10/20\n",
            "450/450 [==============================] - 43s 95ms/step - loss: 0.4213 - accuracy: 0.7740\n",
            "Epoch 11/20\n",
            "450/450 [==============================] - 42s 93ms/step - loss: 0.3895 - accuracy: 0.7896\n",
            "Epoch 12/20\n",
            "450/450 [==============================] - 44s 98ms/step - loss: 0.3771 - accuracy: 0.7964\n",
            "Epoch 13/20\n",
            "450/450 [==============================] - 43s 95ms/step - loss: 0.3099 - accuracy: 0.8232\n",
            "Epoch 14/20\n",
            "450/450 [==============================] - 43s 94ms/step - loss: 0.3665 - accuracy: 0.8207\n",
            "Epoch 15/20\n",
            "450/450 [==============================] - 44s 97ms/step - loss: 0.2628 - accuracy: 0.8557\n",
            "Epoch 16/20\n",
            "450/450 [==============================] - 45s 98ms/step - loss: 0.2510 - accuracy: 0.8642\n",
            "Epoch 17/20\n",
            "450/450 [==============================] - 44s 97ms/step - loss: 0.2851 - accuracy: 0.8622\n",
            "Epoch 18/20\n",
            "450/450 [==============================] - 43s 95ms/step - loss: 0.2610 - accuracy: 0.8726\n",
            "Epoch 19/20\n",
            "450/450 [==============================] - 42s 93ms/step - loss: 0.2416 - accuracy: 0.8772\n",
            "Epoch 20/20\n",
            "450/450 [==============================] - 44s 97ms/step - loss: 0.2177 - accuracy: 0.8913\n",
            "\n",
            "\n",
            "Evaluating the model\n",
            "\n",
            "\n",
            "50/50 [==============================] - 15s 54ms/step - loss: 0.5586 - accuracy: 0.8000\n",
            "--------------------------------------------------------------------------------------------\n",
            "Fold 7\n",
            "--------------------------------------------------------------------------------------------\n",
            "Epoch 1/20\n",
            "450/450 [==============================] - 47s 98ms/step - loss: 1.2873 - accuracy: 0.3783\n",
            "Epoch 2/20\n",
            "450/450 [==============================] - 45s 99ms/step - loss: 0.9815 - accuracy: 0.4963\n",
            "Epoch 3/20\n",
            "450/450 [==============================] - 49s 107ms/step - loss: 1.0379 - accuracy: 0.5015\n",
            "Epoch 4/20\n",
            "450/450 [==============================] - 47s 103ms/step - loss: 0.8980 - accuracy: 0.5406\n",
            "Epoch 5/20\n",
            "450/450 [==============================] - 46s 101ms/step - loss: 0.7818 - accuracy: 0.5931\n",
            "Epoch 6/20\n",
            "450/450 [==============================] - 45s 100ms/step - loss: 0.7811 - accuracy: 0.5949\n",
            "Epoch 7/20\n",
            "450/450 [==============================] - 47s 104ms/step - loss: 0.6703 - accuracy: 0.6550\n",
            "Epoch 8/20\n",
            "450/450 [==============================] - 46s 101ms/step - loss: 0.6283 - accuracy: 0.6774\n",
            "Epoch 9/20\n",
            "450/450 [==============================] - 46s 100ms/step - loss: 0.6105 - accuracy: 0.6894\n",
            "Epoch 10/20\n",
            "450/450 [==============================] - 45s 99ms/step - loss: 0.5886 - accuracy: 0.7035\n",
            "Epoch 11/20\n",
            "450/450 [==============================] - 46s 101ms/step - loss: 0.5480 - accuracy: 0.7254\n",
            "Epoch 12/20\n",
            "450/450 [==============================] - 48s 106ms/step - loss: 0.4951 - accuracy: 0.7503\n",
            "Epoch 13/20\n",
            "450/450 [==============================] - 46s 102ms/step - loss: 0.4775 - accuracy: 0.7511\n",
            "Epoch 14/20\n",
            "450/450 [==============================] - 50s 111ms/step - loss: 0.4446 - accuracy: 0.7667\n",
            "Epoch 15/20\n",
            "450/450 [==============================] - 48s 106ms/step - loss: 0.4111 - accuracy: 0.7862\n",
            "Epoch 16/20\n",
            "450/450 [==============================] - 47s 103ms/step - loss: 0.4134 - accuracy: 0.7921\n",
            "Epoch 17/20\n",
            "450/450 [==============================] - 46s 102ms/step - loss: 0.3645 - accuracy: 0.8079\n",
            "Epoch 18/20\n",
            "450/450 [==============================] - 46s 102ms/step - loss: 0.3082 - accuracy: 0.8308\n",
            "Epoch 19/20\n",
            "450/450 [==============================] - 47s 103ms/step - loss: 0.3423 - accuracy: 0.8185\n",
            "Epoch 20/20\n",
            "450/450 [==============================] - 46s 102ms/step - loss: 0.2845 - accuracy: 0.8331\n",
            "\n",
            "\n",
            "Evaluating the model\n",
            "\n",
            "\n",
            "50/50 [==============================] - 18s 65ms/step - loss: 0.5244 - accuracy: 0.7650\n",
            "--------------------------------------------------------------------------------------------\n",
            "Fold 8\n",
            "--------------------------------------------------------------------------------------------\n",
            "Epoch 1/20\n",
            "450/450 [==============================] - 54s 113ms/step - loss: 1.2902 - accuracy: 0.3965\n",
            "Epoch 2/20\n",
            "450/450 [==============================] - 53s 116ms/step - loss: 0.9422 - accuracy: 0.5203\n",
            "Epoch 3/20\n",
            "450/450 [==============================] - 54s 119ms/step - loss: 0.8015 - accuracy: 0.6003\n",
            "Epoch 4/20\n",
            "450/450 [==============================] - 51s 113ms/step - loss: 0.7436 - accuracy: 0.6150\n",
            "Epoch 5/20\n",
            "450/450 [==============================] - 50s 111ms/step - loss: 0.6864 - accuracy: 0.6511\n",
            "Epoch 6/20\n",
            "450/450 [==============================] - 47s 104ms/step - loss: 0.6479 - accuracy: 0.6697\n",
            "Epoch 7/20\n",
            "450/450 [==============================] - 48s 106ms/step - loss: 0.6037 - accuracy: 0.6936\n",
            "Epoch 8/20\n",
            "450/450 [==============================] - 48s 104ms/step - loss: 0.5385 - accuracy: 0.7260\n",
            "Epoch 9/20\n",
            "450/450 [==============================] - 49s 108ms/step - loss: 0.5262 - accuracy: 0.7282\n",
            "Epoch 10/20\n",
            "450/450 [==============================] - 48s 106ms/step - loss: 0.5127 - accuracy: 0.7400\n",
            "Epoch 11/20\n",
            "450/450 [==============================] - 49s 107ms/step - loss: 0.4539 - accuracy: 0.7681\n",
            "Epoch 12/20\n",
            "450/450 [==============================] - 48s 105ms/step - loss: 0.4232 - accuracy: 0.7785\n",
            "Epoch 13/20\n",
            "450/450 [==============================] - 46s 101ms/step - loss: 0.3670 - accuracy: 0.7985\n",
            "Epoch 14/20\n",
            "450/450 [==============================] - 48s 105ms/step - loss: 0.3711 - accuracy: 0.8078\n",
            "Epoch 15/20\n",
            "450/450 [==============================] - 46s 102ms/step - loss: 0.3015 - accuracy: 0.8374\n",
            "Epoch 16/20\n",
            "450/450 [==============================] - 47s 104ms/step - loss: 0.2686 - accuracy: 0.8465\n",
            "Epoch 17/20\n",
            "450/450 [==============================] - 46s 102ms/step - loss: 0.2557 - accuracy: 0.8493\n",
            "Epoch 18/20\n",
            "450/450 [==============================] - 46s 103ms/step - loss: 0.2608 - accuracy: 0.8468\n",
            "Epoch 19/20\n",
            "450/450 [==============================] - 52s 113ms/step - loss: 0.2433 - accuracy: 0.8549\n",
            "Epoch 20/20\n",
            "450/450 [==============================] - 50s 110ms/step - loss: 0.2244 - accuracy: 0.8629\n",
            "\n",
            "\n",
            "Evaluating the model\n",
            "\n",
            "\n",
            "50/50 [==============================] - 21s 54ms/step - loss: 0.3882 - accuracy: 0.8163\n",
            "--------------------------------------------------------------------------------------------\n",
            "Fold 9\n",
            "--------------------------------------------------------------------------------------------\n",
            "Epoch 1/20\n",
            "450/450 [==============================] - 53s 111ms/step - loss: 1.3461 - accuracy: 0.3594\n",
            "Epoch 2/20\n",
            "450/450 [==============================] - 52s 114ms/step - loss: 0.9839 - accuracy: 0.4803\n",
            "Epoch 3/20\n",
            "450/450 [==============================] - 49s 108ms/step - loss: 0.8481 - accuracy: 0.5767\n",
            "Epoch 4/20\n",
            "450/450 [==============================] - 49s 109ms/step - loss: 0.6958 - accuracy: 0.6603\n",
            "Epoch 5/20\n",
            "450/450 [==============================] - 47s 105ms/step - loss: 0.6649 - accuracy: 0.6760\n",
            "Epoch 6/20\n",
            "450/450 [==============================] - 48s 106ms/step - loss: 0.6322 - accuracy: 0.6869\n",
            "Epoch 7/20\n",
            "450/450 [==============================] - 48s 105ms/step - loss: 0.5858 - accuracy: 0.7092\n",
            "Epoch 8/20\n",
            "450/450 [==============================] - 48s 106ms/step - loss: 0.5264 - accuracy: 0.7346\n",
            "Epoch 9/20\n",
            "450/450 [==============================] - 49s 108ms/step - loss: 0.4822 - accuracy: 0.7582\n",
            "Epoch 10/20\n",
            "450/450 [==============================] - 52s 114ms/step - loss: 0.4571 - accuracy: 0.7650\n",
            "Epoch 11/20\n",
            "450/450 [==============================] - 51s 112ms/step - loss: 0.3782 - accuracy: 0.7957\n",
            "Epoch 12/20\n",
            "450/450 [==============================] - 49s 107ms/step - loss: 0.3434 - accuracy: 0.8119\n",
            "Epoch 13/20\n",
            "450/450 [==============================] - 49s 109ms/step - loss: 0.2985 - accuracy: 0.8335\n",
            "Epoch 14/20\n",
            "450/450 [==============================] - 49s 108ms/step - loss: 0.2900 - accuracy: 0.8388\n",
            "Epoch 15/20\n",
            "450/450 [==============================] - 49s 108ms/step - loss: 0.2627 - accuracy: 0.8528\n",
            "Epoch 16/20\n",
            "450/450 [==============================] - 50s 111ms/step - loss: 0.2787 - accuracy: 0.8554\n",
            "Epoch 17/20\n",
            "450/450 [==============================] - 51s 112ms/step - loss: 0.2444 - accuracy: 0.8593\n",
            "Epoch 18/20\n",
            "450/450 [==============================] - 56s 123ms/step - loss: 0.2444 - accuracy: 0.8647\n",
            "Epoch 19/20\n",
            "450/450 [==============================] - 52s 116ms/step - loss: 0.2267 - accuracy: 0.8763\n",
            "Epoch 20/20\n",
            "450/450 [==============================] - 51s 114ms/step - loss: 0.2690 - accuracy: 0.8674\n",
            "\n",
            "\n",
            "Evaluating the model\n",
            "\n",
            "\n",
            "50/50 [==============================] - 21s 51ms/step - loss: 0.4775 - accuracy: 0.7887\n",
            "--------------------------------------------------------------------------------------------\n",
            "Fold 10\n",
            "--------------------------------------------------------------------------------------------\n",
            "Epoch 1/20\n",
            "450/450 [==============================] - 31s 60ms/step - loss: 1.2568 - accuracy: 0.3929\n",
            "Epoch 2/20\n",
            "450/450 [==============================] - 29s 62ms/step - loss: 0.9025 - accuracy: 0.5529\n",
            "Epoch 3/20\n",
            "450/450 [==============================] - 30s 67ms/step - loss: 0.7817 - accuracy: 0.6065\n",
            "Epoch 4/20\n",
            "450/450 [==============================] - 29s 63ms/step - loss: 0.7481 - accuracy: 0.6297\n",
            "Epoch 5/20\n",
            "450/450 [==============================] - 28s 62ms/step - loss: 0.6676 - accuracy: 0.6615\n",
            "Epoch 6/20\n",
            "450/450 [==============================] - 29s 63ms/step - loss: 0.6810 - accuracy: 0.6629\n",
            "Epoch 7/20\n",
            "450/450 [==============================] - 28s 61ms/step - loss: 0.6169 - accuracy: 0.6926\n",
            "Epoch 8/20\n",
            "450/450 [==============================] - 27s 60ms/step - loss: 0.5596 - accuracy: 0.7171\n",
            "Epoch 9/20\n",
            "450/450 [==============================] - 28s 61ms/step - loss: 0.5683 - accuracy: 0.7193\n",
            "Epoch 10/20\n",
            "450/450 [==============================] - 28s 62ms/step - loss: 0.4983 - accuracy: 0.7456\n",
            "Epoch 11/20\n",
            "450/450 [==============================] - 28s 62ms/step - loss: 0.4929 - accuracy: 0.7594\n",
            "Epoch 12/20\n",
            "450/450 [==============================] - 28s 61ms/step - loss: 0.4158 - accuracy: 0.7844\n",
            "Epoch 13/20\n",
            "450/450 [==============================] - 28s 61ms/step - loss: 0.3955 - accuracy: 0.7925\n",
            "Epoch 14/20\n",
            "450/450 [==============================] - 29s 63ms/step - loss: 0.3540 - accuracy: 0.8169\n",
            "Epoch 15/20\n",
            "450/450 [==============================] - 28s 61ms/step - loss: 0.2852 - accuracy: 0.8354\n",
            "Epoch 16/20\n",
            "450/450 [==============================] - 28s 61ms/step - loss: 0.3050 - accuracy: 0.8296\n",
            "Epoch 17/20\n",
            "450/450 [==============================] - 28s 61ms/step - loss: 0.2517 - accuracy: 0.8508\n",
            "Epoch 18/20\n",
            "450/450 [==============================] - 28s 61ms/step - loss: 0.3038 - accuracy: 0.8339\n",
            "Epoch 19/20\n",
            "450/450 [==============================] - 28s 61ms/step - loss: 0.2296 - accuracy: 0.8564\n",
            "Epoch 20/20\n",
            "450/450 [==============================] - 28s 61ms/step - loss: 0.2558 - accuracy: 0.8517\n",
            "\n",
            "\n",
            "Evaluating the model\n",
            "\n",
            "\n",
            "50/50 [==============================] - 25s 49ms/step - loss: 0.7862 - accuracy: 0.7425\n",
            "--------------------------------------------------------------------------------------------\n"
          ]
        }
      ],
      "source": [
        "i=0\n",
        "j=50\n",
        "k=450\n",
        "for fold_var in range(0,FOLDS,1):\n",
        "  print(f'Fold {fold_var+1}')\n",
        "  print('--------------------------------------------------------------------------------------------')\n",
        "  training_set1=normalized_training_set.take(i)\n",
        "  training_set2=normalized_training_set.skip(i+j).take(k)\n",
        "  training_set=training_set1.concatenate(training_set2)\n",
        "  validation_set=normalized_training_set.skip(i).take(j)\n",
        "  i=i+50\n",
        "  j=50\n",
        "  k=k-50\n",
        "\n",
        "  model=Build_Model()\n",
        "  Model_Run = model.fit(\n",
        "    training_set,\n",
        "    epochs=20,\n",
        "    steps_per_epoch=len(training_set),\n",
        "    callbacks=[tensorboard_callback]\n",
        "  )\n",
        "  print('\\n')\n",
        "  print(f'Evaluating the model')\n",
        "  print('\\n')\n",
        "  cur_scores=model.evaluate(validation_set)\n",
        "  cur_scores[0]*=100\n",
        "  cur_scores[1]*=100\n",
        "  cur_scores=[fold_var+1,cur_scores[0],cur_scores[1]]\n",
        "  SCORES_PER_FOLD.append(cur_scores)\n",
        "\n",
        "  model.save(model_dir+'model_'+str(fold_var+1)+'.h5')\n",
        "  tf.keras.backend.clear_session()\n",
        "  print('--------------------------------------------------------------------------------------------')"
      ]
    },
    {
      "cell_type": "code",
      "execution_count": 20,
      "metadata": {
        "id": "L4PZ54Tc-q4C"
      },
      "outputs": [],
      "source": [
        "TFold_stop=time.time()"
      ]
    },
    {
      "cell_type": "code",
      "execution_count": 21,
      "metadata": {
        "id": "tgYSh1Jh8xxU",
        "colab": {
          "base_uri": "https://localhost:8080/"
        },
        "outputId": "d87576e5-5d8c-45bc-d2b6-bda0d9a86d61"
      },
      "outputs": [
        {
          "metadata": {
            "tags": null
          },
          "name": "stdout",
          "output_type": "stream",
          "text": [
            "Time required for 10 Fold Cross Validation= 12475.340168952942 seconds\n"
          ]
        }
      ],
      "source": [
        "print(f'Time required for 10 Fold Cross Validation= {TFold_stop-TFold_start} seconds')"
      ]
    },
    {
      "cell_type": "code",
      "execution_count": 22,
      "metadata": {
        "id": "IxXiy2USK3hC",
        "colab": {
          "base_uri": "https://localhost:8080/"
        },
        "outputId": "5a1aebcb-bfaa-4e5f-a3a6-a7b31e6bd85e"
      },
      "outputs": [
        {
          "metadata": {
            "tags": null
          },
          "name": "stdout",
          "output_type": "stream",
          "text": [
            "10 Fold Cross Validation Result\n",
            "+---------------+----------------------+--------------------------+\n",
            "|   Fold Number |   Validation Loss(%) |   Validation Accuracy(%) |\n",
            "+===============+======================+==========================+\n",
            "|             1 |              63.8118 |                   75.75  |\n",
            "+---------------+----------------------+--------------------------+\n",
            "|             2 |              56.8098 |                   76.625 |\n",
            "+---------------+----------------------+--------------------------+\n",
            "|             3 |              68.8331 |                   76.375 |\n",
            "+---------------+----------------------+--------------------------+\n",
            "|             4 |              42.2307 |                   79.5   |\n",
            "+---------------+----------------------+--------------------------+\n",
            "|             5 |              54.5564 |                   79.125 |\n",
            "+---------------+----------------------+--------------------------+\n",
            "|             6 |              55.8589 |                   80     |\n",
            "+---------------+----------------------+--------------------------+\n",
            "|             7 |              52.4413 |                   76.5   |\n",
            "+---------------+----------------------+--------------------------+\n",
            "|             8 |              38.8204 |                   81.625 |\n",
            "+---------------+----------------------+--------------------------+\n",
            "|             9 |              47.7492 |                   78.875 |\n",
            "+---------------+----------------------+--------------------------+\n",
            "|            10 |              78.6205 |                   74.25  |\n",
            "+---------------+----------------------+--------------------------+\n"
          ]
        }
      ],
      "source": [
        "column_headers=['Fold Number','Validation Loss(%)','Validation Accuracy(%)']\n",
        "print('10 Fold Cross Validation Result')\n",
        "print(tabulate(SCORES_PER_FOLD, headers=column_headers, tablefmt=\"grid\"))"
      ]
    },
    {
      "cell_type": "markdown",
      "metadata": {
        "id": "Ou_MBkGIG1sd"
      },
      "source": [
        "### Selecting the model with highest accuracy for training"
      ]
    },
    {
      "cell_type": "code",
      "source": [
        "max_acc=SCORES_PER_FOLD[0][2]\n",
        "max_acc_index=[]\n",
        "for i in range(len(SCORES_PER_FOLD)):\n",
        "  if(SCORES_PER_FOLD[i][2]>max_acc):\n",
        "    max_acc=SCORES_PER_FOLD[i][2]\n",
        "print(f'The maximum validation accuracy is: {max_acc}')\n",
        "for i in range(len(SCORES_PER_FOLD)):\n",
        "  if(SCORES_PER_FOLD[i][2]==max_acc):\n",
        "    max_acc_index.append(i)\n",
        "print(f'The folds having {max_acc} validation accuracy are:')\n",
        "for i in range(len(max_acc_index)):\n",
        "  print(max_acc_index[i]+1)\n",
        "\n",
        "result=-1\n",
        "if(len(max_acc_index)>1):\n",
        "    min_loss=SCORES_PER_FOLD[max_acc_index[0]][1]\n",
        "    j=0\n",
        "    result=max_acc_index[0]\n",
        "    while(j<len(max_acc_index)):\n",
        "      index=max_acc_index[j]\n",
        "      if(SCORES_PER_FOLD[index][1]<min_loss):\n",
        "        min_loss=SCORES_PER_FOLD[index][1]\n",
        "        result=index\n",
        "      j+=1\n",
        "else:\n",
        "  result=max_acc_index[0]\n",
        "print(f'Selecting the model of fold no {result+1} for fine parameter tuning')\n",
        "model=load_model(model_dir+'model_'+str(result+1)+'.h5')"
      ],
      "metadata": {
        "id": "_cB1OnkhjjYr",
        "colab": {
          "base_uri": "https://localhost:8080/"
        },
        "outputId": "2225f4c6-1f92-4dc5-dda9-ac4e02691092"
      },
      "execution_count": 23,
      "outputs": [
        {
          "output_type": "stream",
          "name": "stdout",
          "text": [
            "The maximum validation accuracy is: 81.62500262260437\n",
            "The folds having 81.62500262260437 validation accuracy are:\n",
            "8\n",
            "Selecting the model of fold no 8 for fine parameter tuning\n"
          ]
        }
      ]
    },
    {
      "cell_type": "markdown",
      "metadata": {
        "id": "5WyyGpDKsyuK"
      },
      "source": [
        "### Training the model for fine parameter tuning"
      ]
    },
    {
      "cell_type": "code",
      "execution_count": null,
      "metadata": {
        "id": "yPDutfQy9JcM"
      },
      "outputs": [],
      "source": [
        "# Log Directory\n",
        "scratch_model_logdir='/content/drive/MyDrive/Conference_Journal/2024_Journal_Cardamom_CNN_Work/003_Logs/ScratchModel_Logs'\n",
        "\n",
        "# Fine tuned Model Directory\n",
        "scratch_model_dir='/content/drive/MyDrive/Conference_Journal/2024_Journal_Cardamom_CNN_Work/005_Fine_Tuned_Model/FineTuned_Model.h5'\n",
        "\n",
        "# Generated Data Diagrams Directory\n",
        "scratch_model_loss='/content/drive/MyDrive/Conference_Journal/2024_Journal_Cardamom_CNN_Work/006_Generated_Data_Diagrams/ScratchModel/Loss'\n",
        "scratch_model_accuracy='/content/drive/MyDrive/Conference_Journal/2024_Journal_Cardamom_CNN_Work/006_Generated_Data_Diagrams/ScratchModel/Accuracy'\n",
        "scratch_model_rocauc='/content/drive/MyDrive/Conference_Journal/2024_Journal_Cardamom_CNN_Work/006_Generated_Data_Diagrams/ScratchModel/Roc_Auc'\n",
        "scratch_model_rocauc_zoomed='/content/drive/MyDrive/Conference_Journal/2024_Journal_Cardamom_CNN_Work/006_Generated_Data_Diagrams/ScratchModel/Roc_Auc_Zoomed'\n",
        "scratch_model_confusion_matrix='/content/drive/MyDrive/Conference_Journal/2024_Journal_Cardamom_CNN_Work/006_Generated_Data_Diagrams/ScratchModel/Confusion_Matrix'"
      ]
    },
    {
      "cell_type": "code",
      "execution_count": null,
      "metadata": {
        "id": "Uw_lXVzU9MwN"
      },
      "outputs": [],
      "source": [
        "scratch_model_tensorboard_callback=tf.keras.callbacks.TensorBoard(log_dir=scratch_model_logdir)"
      ]
    },
    {
      "cell_type": "code",
      "execution_count": null,
      "metadata": {
        "id": "d_PsKlYq9I7h"
      },
      "outputs": [],
      "source": [
        "Training_start=time.time()"
      ]
    },
    {
      "cell_type": "code",
      "execution_count": null,
      "metadata": {
        "id": "QXQHGC5ys6Up"
      },
      "outputs": [],
      "source": [
        "Cur_Model_Run = model.fit(\n",
        "    normalized_training_set,\n",
        "    validation_data=normalized_validation_set,\n",
        "    epochs=30,\n",
        "    validation_steps=len(normalized_validation_set),\n",
        "    callbacks=[scratch_model_tensorboard_callback]\n",
        "  )"
      ]
    },
    {
      "cell_type": "code",
      "execution_count": null,
      "metadata": {
        "id": "wKF1pbXc9S4X"
      },
      "outputs": [],
      "source": [
        "Training_stop=time.time()"
      ]
    },
    {
      "cell_type": "code",
      "execution_count": null,
      "metadata": {
        "id": "r_r0Try69a-v"
      },
      "outputs": [],
      "source": [
        "print(f'Time required for model fine parameter tuning= {Training_stop-Training_start} seconds')"
      ]
    },
    {
      "cell_type": "markdown",
      "metadata": {
        "id": "2Bs6G7k2biNO"
      },
      "source": [
        "### Saving the fine tuned model"
      ]
    },
    {
      "cell_type": "code",
      "execution_count": null,
      "metadata": {
        "id": "xVajQWKsbhq5"
      },
      "outputs": [],
      "source": [
        "model.save(scratch_model_dir)"
      ]
    },
    {
      "cell_type": "markdown",
      "metadata": {
        "id": "dAfpCTCWExrN"
      },
      "source": [
        "### Plotting the performance of the model after fine parameter tuning"
      ]
    },
    {
      "cell_type": "code",
      "execution_count": null,
      "metadata": {
        "id": "Ip0NtKLos4sU"
      },
      "outputs": [],
      "source": [
        "# Plotting the loss\n",
        "\n",
        "\n",
        "fig=plt.figure(figsize=(10,6))\n",
        "plt.plot(Cur_Model_Run.history['loss'], color='blue', label='Training Loss')\n",
        "plt.plot(Cur_Model_Run.history['val_loss'], color='red', label='Validation Loss')\n",
        "plt.xlabel(\"Epochs\")\n",
        "plt.ylabel(\"Loss\")\n",
        "fig.suptitle('Loss',fontsize=15)\n",
        "plt.legend()\n",
        "plt.show()\n",
        "fig.savefig(scratch_model_loss + '.eps', format='eps', dpi=600)\n",
        "fig.savefig(scratch_model_loss + '.png', format='png', dpi=600)"
      ]
    },
    {
      "cell_type": "code",
      "execution_count": null,
      "metadata": {
        "id": "Qif0CC2Wx-zq"
      },
      "outputs": [],
      "source": [
        "# Plotting the accuracy\n",
        "\n",
        "\n",
        "fig=plt.figure(figsize=(10,6))\n",
        "plt.plot(Cur_Model_Run.history['accuracy'], color='blue', label='Training Accuracy')\n",
        "plt.plot(Cur_Model_Run.history['val_accuracy'], color='red', label='Validation Accuracy')\n",
        "plt.xlabel(\"Epochs\")\n",
        "plt.ylabel(\"Accuracy\")\n",
        "fig.suptitle('Accuracy',fontsize=15)\n",
        "plt.legend()\n",
        "plt.show()\n",
        "fig.savefig(scratch_model_accuracy + '.eps', format='eps', dpi=600)\n",
        "fig.savefig(scratch_model_accuracy + '.png', format='png', dpi=600)"
      ]
    },
    {
      "cell_type": "markdown",
      "metadata": {
        "id": "ry0YiEGL4H7v"
      },
      "source": [
        "### Calcualting Precision, Recall, Accuracy, F Score, Cohen-Kappa Score,ROC AUC and Log-Loss Score of the Model"
      ]
    },
    {
      "cell_type": "code",
      "execution_count": null,
      "metadata": {
        "id": "7A8M6AA-1KH0"
      },
      "outputs": [],
      "source": [
        "pre = Precision()\n",
        "re = Recall()\n",
        "acc = Accuracy()"
      ]
    },
    {
      "cell_type": "code",
      "execution_count": null,
      "metadata": {
        "id": "JOFrZ_XmgIx0"
      },
      "outputs": [],
      "source": [
        "True_label=[]\n",
        "Predicted_label=[]\n",
        "Predicted_probabilities=[]\n",
        "score=[]\n",
        "for images,labels in (normalized_testing_set):\n",
        "  score.append(model.evaluate(images,labels))\n",
        "  for it in range(len(labels)):\n",
        "    True_label.append(labels[it])\n",
        "  pred=model.predict(images)\n",
        "  y_max=[]\n",
        "  for it in range(len(pred)):\n",
        "      Predicted_probabilities.append(pred[it])\n",
        "      y_max.append(np.argmax(pred[it]))\n",
        "      Predicted_label.append(np.argmax(pred[it]))\n",
        "  pre.update_state(labels,y_max)\n",
        "  re.update_state(labels,y_max)\n",
        "  acc.update_state(labels,y_max)"
      ]
    },
    {
      "cell_type": "code",
      "execution_count": null,
      "metadata": {
        "id": "sXaKqak7HO2B"
      },
      "outputs": [],
      "source": [
        "f_score=(2*pre.result().numpy()*re.result().numpy())/(pre.result().numpy()+re.result().numpy())"
      ]
    },
    {
      "cell_type": "code",
      "execution_count": null,
      "metadata": {
        "id": "XMzexDbXotg7"
      },
      "outputs": [],
      "source": [
        "kappa=cohen_kappa_score(True_label,Predicted_label)"
      ]
    },
    {
      "cell_type": "code",
      "execution_count": null,
      "metadata": {
        "id": "Wcl0IrxGaLDQ"
      },
      "outputs": [],
      "source": [
        "True_label=np.array(True_label)\n",
        "Predicted_label=np.array(Predicted_label)\n",
        "Predicted_probabilities=np.array(Predicted_probabilities)"
      ]
    },
    {
      "cell_type": "code",
      "execution_count": null,
      "metadata": {
        "id": "7qG_wsr3VrXg"
      },
      "outputs": [],
      "source": [
        "Binarized_True_label=label_binarize(True_label,classes=[0, 1, 2, 3, 4])"
      ]
    },
    {
      "cell_type": "code",
      "execution_count": null,
      "metadata": {
        "id": "EbK4lo_7nRS3"
      },
      "outputs": [],
      "source": [
        "#Calcualting the fpr, tpr and auc\n",
        "\n",
        "\n",
        "fpr = [0] * NUMBER_OF_CLASSES\n",
        "tpr = [0] * NUMBER_OF_CLASSES\n",
        "roc_auc= [0] * NUMBER_OF_CLASSES\n",
        "avg_roc_auc=0\n",
        "for i in range(NUMBER_OF_CLASSES):\n",
        "    fpr[i], tpr[i], _ = roc_curve(Binarized_True_label[:, i], Predicted_probabilities[:, i])\n",
        "    roc_auc[i] = auc(fpr[i], tpr[i])"
      ]
    },
    {
      "cell_type": "code",
      "execution_count": null,
      "metadata": {
        "id": "rYWaDxzvmOj2"
      },
      "outputs": [],
      "source": [
        "roc_auc_details=[]\n",
        "for i in range(NUMBER_OF_CLASSES):\n",
        "  temp=[CLASSES[i],roc_auc[i]]\n",
        "  roc_auc_details.append(temp)"
      ]
    },
    {
      "cell_type": "code",
      "execution_count": null,
      "metadata": {
        "id": "wheI9TP_krZz"
      },
      "outputs": [],
      "source": [
        "column_headers=['CLASS','ROC-AUC']\n",
        "print('ROC-AUC Results')\n",
        "print(tabulate(roc_auc_details, headers=column_headers, tablefmt=\"grid\"))"
      ]
    },
    {
      "cell_type": "code",
      "execution_count": null,
      "metadata": {
        "id": "qiyUOxmhjm44"
      },
      "outputs": [],
      "source": [
        "avg_roc_auc=sum(roc_auc)/NUMBER_OF_CLASSES"
      ]
    },
    {
      "cell_type": "code",
      "execution_count": null,
      "metadata": {
        "id": "0fKCrfPekteJ"
      },
      "outputs": [],
      "source": [
        "print(f'The average ROC-AUC value is: {avg_roc_auc}')"
      ]
    },
    {
      "cell_type": "code",
      "execution_count": null,
      "metadata": {
        "id": "1TPRFUudgmbZ"
      },
      "outputs": [],
      "source": [
        "#Plotting the ROC Curve\n",
        "\n",
        "\n",
        "fig=plt.figure(figsize=(10,10))\n",
        "color=['red','green','blue','cyan','magenta','yellow','orange','purple']\n",
        "for i in range(NUMBER_OF_CLASSES):\n",
        "  plt.plot(fpr[i],tpr[i],color[i],label='Class {} (AUC= {:.6F})'.format(CLASSES[i],roc_auc[i]))\n",
        "plt.plot([0, 1], [0, 1], 'k--')\n",
        "plt.xlim([0.0, 1.0])\n",
        "plt.ylim([0.0, 1.0])\n",
        "plt.xlabel('False Positive Rate')\n",
        "plt.ylabel('True Positive Rate')\n",
        "plt.suptitle('One-vs-Rest ROC Curve',fontsize=15)\n",
        "plt.legend(loc='lower right')\n",
        "plt.show()\n",
        "fig.savefig(scratch_model_rocauc + '.eps', format='eps', dpi=600)\n",
        "fig.savefig(scratch_model_rocauc + '.png', format='png', dpi=600)"
      ]
    },
    {
      "cell_type": "code",
      "execution_count": null,
      "metadata": {
        "id": "AwVBigCunRH8"
      },
      "outputs": [],
      "source": [
        "#Plotting the ROC Curve (Zoomed in at the top left corner)\n",
        "\n",
        "\n",
        "fig=plt.figure(figsize=(10,10))\n",
        "color=['red','green','blue','cyan','magenta','yellow','orange','purple']\n",
        "for i in range(NUMBER_OF_CLASSES):\n",
        "  plt.plot(fpr[i],tpr[i],color[i],label='Class {} (AUC= {:.6F})'.format(CLASSES[i],roc_auc[i]))\n",
        "plt.plot([0, 1], [0, 1], 'k--')\n",
        "plt.xlim([0.0, 0.50])\n",
        "plt.ylim([0.0, 1.0])\n",
        "plt.xlabel('False Positive Rate')\n",
        "plt.ylabel('True Positive Rate')\n",
        "plt.suptitle('One-vs-Rest ROC Curve (Zoomed top-left)',fontsize=15)\n",
        "plt.legend(loc='lower right')\n",
        "plt.show()\n",
        "fig.savefig(scratch_model_rocauc_zoomed + '.eps', format='eps', dpi=600)\n",
        "fig.savefig(scratch_model_rocauc_zoomed + '.png', format='png', dpi=600)"
      ]
    },
    {
      "cell_type": "code",
      "execution_count": null,
      "metadata": {
        "id": "QT3fQGgZ91nB"
      },
      "outputs": [],
      "source": [
        "#Calculating the Log-loss Score (One-vs-Rest)\n",
        "\n",
        "\n",
        "temp=[0]*NUMBER_OF_CLASSES\n",
        "loss=[0]*NUMBER_OF_CLASSES\n",
        "epsilon = 1e-15  # Small constant to avoid division by zero\n",
        "N = Binarized_True_label.shape[0]\n",
        "\n",
        "for i in range(NUMBER_OF_CLASSES):\n",
        "  # Clip predicted probabilities to avoid log(0) cases\n",
        "  temp[i]= np.clip(Predicted_probabilities[:,i], epsilon, 1 - epsilon)\n",
        "  # Calculate cross-entropy loss\n",
        "  loss[i] = -np.sum(Binarized_True_label[:,i] * np.log(temp[i])) / N"
      ]
    },
    {
      "cell_type": "code",
      "execution_count": null,
      "metadata": {
        "id": "s3w8vzJQ0ByQ"
      },
      "outputs": [],
      "source": [
        "log_loss_result=[]\n",
        "for i in range(NUMBER_OF_CLASSES):\n",
        "  log_loss_result.append([CLASSES[i],loss[i]])"
      ]
    },
    {
      "cell_type": "code",
      "execution_count": null,
      "metadata": {
        "id": "MHkko6VE0Bvm"
      },
      "outputs": [],
      "source": [
        "column_headers=['CLASS','LOG-LOSS VALUE']\n",
        "print('Log-Loss Results')\n",
        "print(tabulate(log_loss_result, headers=column_headers, tablefmt=\"grid\"))"
      ]
    },
    {
      "cell_type": "code",
      "execution_count": null,
      "metadata": {
        "id": "vXUmWz_3AzUr"
      },
      "outputs": [],
      "source": [
        "print(f'Precision: {pre.result().numpy()}, Recall: {re.result().numpy()}, Accuracy: {acc.result().numpy()}, F Score: {f_score}, Cohen Kappa Score: {kappa}')"
      ]
    },
    {
      "cell_type": "code",
      "execution_count": null,
      "metadata": {
        "id": "8mnJ-hQR8lPL"
      },
      "outputs": [],
      "source": [
        "#Plotting the Confusion Matrix\n",
        "\n",
        "\n",
        "confusion_matrix=metrics.confusion_matrix(True_label,Predicted_label,normalize='true')\n",
        "cm_display = metrics.ConfusionMatrixDisplay(confusion_matrix = confusion_matrix, display_labels = [\"L1S3\",\"L2S3\",\"L3S3\",\"LC1\",\"LC4\",\"LC5\",\"LC6\",\"LC9\"])\n",
        "fig, ax = plt.subplots(figsize=(10,10))\n",
        "cm_display.plot(ax=ax)\n",
        "plt.show()\n",
        "fig.savefig(scratch_model_confusion_matrix + '.eps', format='eps', dpi=600)\n",
        "fig.savefig(scratch_model_confusion_matrix + '.png', format='png', dpi=600)"
      ]
    },
    {
      "cell_type": "markdown",
      "metadata": {
        "id": "e6cf_9VqFDeE"
      },
      "source": [
        "### Demonstrating how to use the model"
      ]
    },
    {
      "cell_type": "code",
      "execution_count": null,
      "metadata": {
        "id": "VGVArk3JuqIh"
      },
      "outputs": [],
      "source": [
        "img=image.load_img('/content/drive/MyDrive/Conference_Journal/2024_Journal_Cardamom_CNN_Work/001_Dataset/Testing/LC4/LC4_dl_1009.jpg',target_size=(299,299))"
      ]
    },
    {
      "cell_type": "code",
      "execution_count": null,
      "metadata": {
        "id": "mlSEanHNv0yv"
      },
      "outputs": [],
      "source": [
        "x=image.img_to_array(img)"
      ]
    },
    {
      "cell_type": "code",
      "execution_count": null,
      "metadata": {
        "id": "Ytjm1xNNwDiw"
      },
      "outputs": [],
      "source": [
        "x=x/255"
      ]
    },
    {
      "cell_type": "code",
      "execution_count": null,
      "metadata": {
        "id": "O2XVAJk9wEOb"
      },
      "outputs": [],
      "source": [
        "x=np.expand_dims(x,axis=0)\n",
        "x.shape"
      ]
    },
    {
      "cell_type": "code",
      "execution_count": null,
      "metadata": {
        "id": "Z0WCmtaYwGAy"
      },
      "outputs": [],
      "source": [
        "pred=model.predict(x)"
      ]
    },
    {
      "cell_type": "code",
      "execution_count": null,
      "metadata": {
        "id": "8Wxdt0m8wH0r"
      },
      "outputs": [],
      "source": [
        "print(pred)"
      ]
    },
    {
      "cell_type": "code",
      "execution_count": null,
      "metadata": {
        "id": "LLL9i03t1hBo"
      },
      "outputs": [],
      "source": [
        "pred_name = CLASSES[np.argmax(pred)]\n",
        "print(pred_name)"
      ]
    },
    {
      "cell_type": "code",
      "execution_count": null,
      "metadata": {
        "id": "9RxPlgLmQjh5"
      },
      "outputs": [],
      "source": [
        "temp_testing_set=normalized_testing_set.take(1)\n",
        "\n",
        "pred_start=time.time()\n",
        "for (images,labels) in (temp_testing_set):\n",
        "  result=model.predict(images)\n",
        "pred_stop=time.time()"
      ]
    },
    {
      "cell_type": "code",
      "execution_count": null,
      "metadata": {
        "id": "kr70OeQ6Qjh7"
      },
      "outputs": [],
      "source": [
        "print(f'Time requrired for giving prediction on one set of {len(labels)} images= {pred_stop-pred_start}')\n",
        "print(f'Average time requrired for giving prediction on one image= {(pred_stop-pred_start)/len(labels)}')"
      ]
    },
    {
      "cell_type": "markdown",
      "metadata": {
        "id": "JD6vho6im4Lc"
      },
      "source": [
        "# Training the Pretrained Models"
      ]
    },
    {
      "cell_type": "markdown",
      "metadata": {
        "id": "V_2QhtD4nYrx"
      },
      "source": [
        "### Log Directories"
      ]
    },
    {
      "cell_type": "code",
      "execution_count": null,
      "metadata": {
        "id": "YGlqNDRcoGhB"
      },
      "outputs": [],
      "source": [
        "# Vgg16\n",
        "vgg16_logdir='/content/drive/MyDrive/Conference_Journal/2024_Journal_Cardamom_CNN_Work/003_Logs/Vgg16_Logs'\n",
        "\n",
        "# MobileNetV2\n",
        "mobilenetv2_logdir='/content/drive/MyDrive/Conference_Journal/2024_Journal_Cardamom_CNN_Work/003_Logs/MobileNetV2_Logs'\n",
        "\n",
        "# ResNet50\n",
        "resnet50_logdir='/content/drive/MyDrive/Conference_Journal/2024_Journal_Cardamom_CNN_Work/003_Logs/ResNet50_Logs'\n",
        "\n",
        "# EfficientNetB0\n",
        "efficientnetb0_logdir='/content/drive/MyDrive/Conference_Journal/2024_Journal_Cardamom_CNN_Work/003_Logs/EfficientNetB0_Logs'\n"
      ]
    },
    {
      "cell_type": "markdown",
      "metadata": {
        "id": "F_MeWO1Hndq2"
      },
      "source": [
        "### Generated Data Diagrams Directories"
      ]
    },
    {
      "cell_type": "code",
      "execution_count": null,
      "metadata": {
        "id": "uKZkTHD6oStY"
      },
      "outputs": [],
      "source": [
        "# Vgg16\n",
        "vgg16_loss='/content/drive/MyDrive/Conference_Journal/2024_Journal_Cardamom_CNN_Work/006_Generated_Data_Diagrams/Vgg16/Loss'\n",
        "vgg16_accuracy='/content/drive/MyDrive/Conference_Journal/2024_Journal_Cardamom_CNN_Work/006_Generated_Data_Diagrams/Vgg16/Accuracy'\n",
        "vgg16_rocauc='/content/drive/MyDrive/Conference_Journal/2024_Journal_Cardamom_CNN_Work/006_Generated_Data_Diagrams/Vgg16/Roc_Auc'\n",
        "vgg16_rocauc_zoomed='/content/drive/MyDrive/Conference_Journal/2024_Journal_Cardamom_CNN_Work/006_Generated_Data_Diagrams/Vgg16/Roc_Auc_Zoomed'\n",
        "vgg16_confusion_matrix='/content/drive/MyDrive/Conference_Journal/2024_Journal_Cardamom_CNN_Work/006_Generated_Data_Diagrams/Vgg16/Confusion_Matrix'\n",
        "\n",
        "# MobileNetV2\n",
        "mobilenetv2_loss='/content/drive/MyDrive/Conference_Journal/2024_Journal_Cardamom_CNN_Work/006_Generated_Data_Diagrams/MobileNetV2/Loss'\n",
        "mobilenetv2_accuracy='/content/drive/MyDrive/Conference_Journal/2024_Journal_Cardamom_CNN_Work/006_Generated_Data_Diagrams/MobileNetV2/Accuracy'\n",
        "mobilenetv2_rocauc='/content/drive/MyDrive/Conference_Journal/2024_Journal_Cardamom_CNN_Work/006_Generated_Data_Diagrams/MobileNetV2/Roc_Auc'\n",
        "mobilenetv2_rocauc_zoomed='/content/drive/MyDrive/Conference_Journal/2024_Journal_Cardamom_CNN_Work/006_Generated_Data_Diagrams/MobileNetV2/Roc_Auc_Zoomed'\n",
        "mobilenetv2_confusion_matrix='/content/drive/MyDrive/Conference_Journal/2024_Journal_Cardamom_CNN_Work/006_Generated_Data_Diagrams/MobileNetV2/Confusion_Matrix'\n",
        "\n",
        "# ResNet50\n",
        "resnet50_loss='/content/drive/MyDrive/Conference_Journal/2024_Journal_Cardamom_CNN_Work/006_Generated_Data_Diagrams/ResNet50/Loss'\n",
        "resnet50_accuracy='/content/drive/MyDrive/Conference_Journal/2024_Journal_Cardamom_CNN_Work/006_Generated_Data_Diagrams/ResNet50/Accuracy'\n",
        "resnet50_rocauc='/content/drive/MyDrive/Conference_Journal/2024_Journal_Cardamom_CNN_Work/006_Generated_Data_Diagrams/ResNet50/Roc_Auc'\n",
        "resnet50_rocauc_zoomed='/content/drive/MyDrive/Conference_Journal/2024_Journal_Cardamom_CNN_Work/006_Generated_Data_Diagrams/ResNet50/Roc_Auc_Zoomed'\n",
        "resnet50_confusion_matrix='/content/drive/MyDrive/Conference_Journal/2024_Journal_Cardamom_CNN_Work/006_Generated_Data_Diagrams/ResNet50/Confusion_Matrix'\n",
        "\n",
        "# EfficientNetB0\n",
        "efficientnetb0_loss='/content/drive/MyDrive/Conference_Journal/2024_Journal_Cardamom_CNN_Work/006_Generated_Data_Diagrams/EfficientNetB0/Loss'\n",
        "efficientnetb0_accuracy='/content/drive/MyDrive/Conference_Journal/2024_Journal_Cardamom_CNN_Work/006_Generated_Data_Diagrams/EfficientNetB0/Accuracy'\n",
        "efficientnetb0_rocauc='/content/drive/MyDrive/Conference_Journal/2024_Journal_Cardamom_CNN_Work/006_Generated_Data_Diagrams/EfficientNetB0/Roc_Auc'\n",
        "efficientnetb0_rocauc_zoomed='/content/drive/MyDrive/Conference_Journal/2024_Journal_Cardamom_CNN_Work/006_Generated_Data_Diagrams/EfficientNetB0/Roc_Auc_Zoomed'\n",
        "efficientnetb0_confusion_matrix='/content/drive/MyDrive/Conference_Journal/2024_Journal_Cardamom_CNN_Work/006_Generated_Data_Diagrams/EfficientNetB0/Confusion_Matrix'"
      ]
    },
    {
      "cell_type": "markdown",
      "metadata": {
        "id": "1f7sngh1Qjh8"
      },
      "source": [
        "### Training the VGG16 Model and evaluating the performance"
      ]
    },
    {
      "cell_type": "code",
      "execution_count": null,
      "metadata": {
        "id": "SGyOz8RTQjh9"
      },
      "outputs": [],
      "source": [
        "from keras.applications import VGG16"
      ]
    },
    {
      "cell_type": "code",
      "execution_count": null,
      "metadata": {
        "id": "T310aJntQjh-"
      },
      "outputs": [],
      "source": [
        "vgg16_tensorboard_callback=tf.keras.callbacks.TensorBoard(log_dir=vgg16_logdir)"
      ]
    },
    {
      "cell_type": "code",
      "execution_count": null,
      "metadata": {
        "id": "oHtGbhCbQjh_"
      },
      "outputs": [],
      "source": [
        "vgg16_base=VGG16(weights='imagenet',include_top=False,input_shape=(299,299,3))\n",
        "vgg16_model=Sequential()\n",
        "vgg16_model.add(vgg16_base)\n",
        "vgg16_model.add(Flatten())\n",
        "vgg16_model.add(Dense(NUMBER_OF_CLASSES,activation='softmax'))\n",
        "\n",
        "vgg16_model.compile(optimizer='adam',loss='sparse_categorical_crossentropy',metrics=['accuracy'])"
      ]
    },
    {
      "cell_type": "code",
      "execution_count": null,
      "metadata": {
        "id": "9vVM1EzVQjh_"
      },
      "outputs": [],
      "source": [
        "vgg16_model.summary()"
      ]
    },
    {
      "cell_type": "code",
      "execution_count": null,
      "metadata": {
        "id": "N7ZD3SgUQjiB"
      },
      "outputs": [],
      "source": [
        "vgg16_Training_start=time.time()"
      ]
    },
    {
      "cell_type": "code",
      "execution_count": null,
      "metadata": {
        "id": "yRo8bFSsQjiB"
      },
      "outputs": [],
      "source": [
        "vgg16_Model_Run = vgg16_model.fit(\n",
        "    normalized_training_set,\n",
        "    validation_data=normalized_validation_set,\n",
        "    epochs=30,\n",
        "    validation_steps=len(normalized_validation_set),\n",
        "    callbacks=[vgg16_tensorboard_callback]\n",
        "  )"
      ]
    },
    {
      "cell_type": "code",
      "execution_count": null,
      "metadata": {
        "id": "fT32Nd4bQjiB"
      },
      "outputs": [],
      "source": [
        "vgg16_Training_stop=time.time()"
      ]
    },
    {
      "cell_type": "code",
      "execution_count": null,
      "metadata": {
        "id": "C65AD3_aQjiC"
      },
      "outputs": [],
      "source": [
        "print(f'Time required for VGG16 model training= {vgg16_Training_stop-vgg16_Training_start} seconds')"
      ]
    },
    {
      "cell_type": "code",
      "execution_count": null,
      "metadata": {
        "id": "m2mJ-sjGQjiC"
      },
      "outputs": [],
      "source": [
        "# Plotting the loss\n",
        "\n",
        "\n",
        "fig=plt.figure(figsize=(10,6))\n",
        "plt.plot(vgg16_Model_Run.history['loss'], color='blue', label='Training Loss')\n",
        "plt.plot(vgg16_Model_Run.history['val_loss'], color='red', label='Validation Loss')\n",
        "plt.xlabel(\"Epochs\")\n",
        "plt.ylabel(\"Loss\")\n",
        "fig.suptitle('Loss',fontsize=15)\n",
        "plt.legend()\n",
        "plt.show()\n",
        "fig.savefig(vgg16_loss + '.eps', format='eps', dpi=600)\n",
        "fig.savefig(vgg16_loss + '.png', format='png', dpi=600)"
      ]
    },
    {
      "cell_type": "code",
      "execution_count": null,
      "metadata": {
        "id": "YKbYj871QjiC"
      },
      "outputs": [],
      "source": [
        "# Plotting the accuracy\n",
        "\n",
        "\n",
        "fig=plt.figure(figsize=(10,6))\n",
        "plt.plot(vgg16_Model_Run.history['accuracy'], color='blue', label='Training Accuracy')\n",
        "plt.plot(vgg16_Model_Run.history['val_accuracy'], color='red', label='Validation Accuracy')\n",
        "plt.xlabel(\"Epochs\")\n",
        "plt.ylabel(\"Accuracy\")\n",
        "fig.suptitle('Accuracy',fontsize=15)\n",
        "plt.legend()\n",
        "plt.show()\n",
        "fig.savefig(vgg16_accuracy + '.eps', format='eps', dpi=600)\n",
        "fig.savefig(vgg16_accuracy + '.png', format='png', dpi=600)"
      ]
    },
    {
      "cell_type": "code",
      "execution_count": null,
      "metadata": {
        "id": "BS3Se6qTQjiD"
      },
      "outputs": [],
      "source": [
        "# Calculating the Precision, Recall, Accuracy\n",
        "\n",
        "pre = Precision()\n",
        "re = Recall()\n",
        "acc = Accuracy()"
      ]
    },
    {
      "cell_type": "code",
      "execution_count": null,
      "metadata": {
        "id": "aI4MftwvQjiD"
      },
      "outputs": [],
      "source": [
        "True_label=[]\n",
        "Predicted_label=[]\n",
        "Predicted_probabilities=[]\n",
        "score=[]\n",
        "for images,labels in (normalized_testing_set):\n",
        "  score.append(vgg16_model.evaluate(images,labels))\n",
        "  for it in range(len(labels)):\n",
        "    True_label.append(labels[it])\n",
        "  pred=vgg16_model.predict(images)\n",
        "  y_max=[]\n",
        "  for it in range(len(pred)):\n",
        "      Predicted_probabilities.append(pred[it])\n",
        "      y_max.append(np.argmax(pred[it]))\n",
        "      Predicted_label.append(np.argmax(pred[it]))\n",
        "  pre.update_state(labels,y_max)\n",
        "  re.update_state(labels,y_max)\n",
        "  acc.update_state(labels,y_max)"
      ]
    },
    {
      "cell_type": "code",
      "execution_count": null,
      "metadata": {
        "id": "hLHfEPvpQjiD"
      },
      "outputs": [],
      "source": [
        "f_score=(2*pre.result().numpy()*re.result().numpy())/(pre.result().numpy()+re.result().numpy())"
      ]
    },
    {
      "cell_type": "code",
      "execution_count": null,
      "metadata": {
        "id": "GI9j5oTwQjiE"
      },
      "outputs": [],
      "source": [
        "kappa=cohen_kappa_score(True_label,Predicted_label)"
      ]
    },
    {
      "cell_type": "code",
      "execution_count": null,
      "metadata": {
        "id": "O1mElx6KQjiE"
      },
      "outputs": [],
      "source": [
        "True_label=np.array(True_label)\n",
        "Predicted_label=np.array(Predicted_label)\n",
        "Predicted_probabilities=np.array(Predicted_probabilities)"
      ]
    },
    {
      "cell_type": "code",
      "execution_count": null,
      "metadata": {
        "id": "E_1TQm4SQjiE"
      },
      "outputs": [],
      "source": [
        "Binarized_True_label=label_binarize(True_label,classes=[0, 1, 2, 3, 4])"
      ]
    },
    {
      "cell_type": "code",
      "execution_count": null,
      "metadata": {
        "id": "jOucKSEXQjiF"
      },
      "outputs": [],
      "source": [
        "#Calcualting the fpr, tpr and auc\n",
        "\n",
        "\n",
        "fpr = [0] * NUMBER_OF_CLASSES\n",
        "tpr = [0] * NUMBER_OF_CLASSES\n",
        "roc_auc= [0] * NUMBER_OF_CLASSES\n",
        "avg_roc_auc=0\n",
        "for i in range(NUMBER_OF_CLASSES):\n",
        "    fpr[i], tpr[i], _ = roc_curve(Binarized_True_label[:, i], Predicted_probabilities[:, i])\n",
        "    roc_auc[i] = auc(fpr[i], tpr[i])"
      ]
    },
    {
      "cell_type": "code",
      "execution_count": null,
      "metadata": {
        "id": "7Sp9PczhQjiF"
      },
      "outputs": [],
      "source": [
        "roc_auc_details=[]\n",
        "for i in range(NUMBER_OF_CLASSES):\n",
        "  temp=[CLASSES[i],roc_auc[i]]\n",
        "  roc_auc_details.append(temp)"
      ]
    },
    {
      "cell_type": "code",
      "execution_count": null,
      "metadata": {
        "id": "oTCpI9MSQjiF"
      },
      "outputs": [],
      "source": [
        "column_headers=['CLASS','ROC-AUC']\n",
        "print('ROC-AUC Results')\n",
        "print(tabulate(roc_auc_details, headers=column_headers, tablefmt=\"grid\"))"
      ]
    },
    {
      "cell_type": "code",
      "execution_count": null,
      "metadata": {
        "id": "8PQcWUFtQjiG"
      },
      "outputs": [],
      "source": [
        "avg_roc_auc=sum(roc_auc)/NUMBER_OF_CLASSES"
      ]
    },
    {
      "cell_type": "code",
      "execution_count": null,
      "metadata": {
        "id": "Wy7FM_eSQjiG"
      },
      "outputs": [],
      "source": [
        "print(f'The average ROC-AUC value is: {avg_roc_auc}')"
      ]
    },
    {
      "cell_type": "code",
      "execution_count": null,
      "metadata": {
        "id": "Uo0OCyIlQjiH"
      },
      "outputs": [],
      "source": [
        "#Plotting the ROC Curve\n",
        "\n",
        "\n",
        "fig=plt.figure(figsize=(10,10))\n",
        "color=['red','green','blue','cyan','magenta','yellow','orange','purple']\n",
        "for i in range(NUMBER_OF_CLASSES):\n",
        "  plt.plot(fpr[i],tpr[i],color[i],label='Class {} (AUC= {:.6F})'.format(CLASSES[i],roc_auc[i]))\n",
        "plt.plot([0, 1], [0, 1], 'k--')\n",
        "plt.xlim([0.0, 1.0])\n",
        "plt.ylim([0.0, 1.0])\n",
        "plt.xlabel('False Positive Rate')\n",
        "plt.ylabel('True Positive Rate')\n",
        "plt.suptitle('One-vs-Rest ROC Curve',fontsize=15)\n",
        "plt.legend(loc='lower right')\n",
        "plt.show()\n",
        "fig.savefig(vgg16_rocauc + '.eps', format='eps', dpi=600)\n",
        "fig.savefig(vgg16_rocauc + '.png', format='png', dpi=600)"
      ]
    },
    {
      "cell_type": "code",
      "execution_count": null,
      "metadata": {
        "id": "6mNNok4SQjiH"
      },
      "outputs": [],
      "source": [
        "#Plotting the ROC Curve (Zoomed in at the top left corner)\n",
        "\n",
        "\n",
        "fig=plt.figure(figsize=(10,10))\n",
        "color=['red','green','blue','cyan','magenta','yellow','orange','purple']\n",
        "for i in range(NUMBER_OF_CLASSES):\n",
        "  plt.plot(fpr[i],tpr[i],color[i],label='Class {} (AUC= {:.6F})'.format(CLASSES[i],roc_auc[i]))\n",
        "plt.plot([0, 1], [0, 1], 'k--')\n",
        "plt.xlim([0.0, 0.50])\n",
        "plt.ylim([0.0, 1.0])\n",
        "plt.xlabel('False Positive Rate')\n",
        "plt.ylabel('True Positive Rate')\n",
        "plt.suptitle('One-vs-Rest ROC Curve (Zoomed top-left)',fontsize=15)\n",
        "plt.legend(loc='lower right')\n",
        "plt.show()\n",
        "fig.savefig(vgg16_rocauc_zoomed + '.eps', format='eps', dpi=600)\n",
        "fig.savefig(vgg16_rocauc_zoomed + '.png', format='png', dpi=600)"
      ]
    },
    {
      "cell_type": "code",
      "execution_count": null,
      "metadata": {
        "id": "34JFsViKQjiI"
      },
      "outputs": [],
      "source": [
        "#Calculating the Log-loss Score (One-vs-Rest)\n",
        "\n",
        "\n",
        "temp=[0]*NUMBER_OF_CLASSES\n",
        "loss=[0]*NUMBER_OF_CLASSES\n",
        "epsilon = 1e-15  # Small constant to avoid division by zero\n",
        "N = Binarized_True_label.shape[0]\n",
        "\n",
        "for i in range(NUMBER_OF_CLASSES):\n",
        "  # Clip predicted probabilities to avoid log(0) cases\n",
        "  temp[i]= np.clip(Predicted_probabilities[:,i], epsilon, 1 - epsilon)\n",
        "  # Calculate cross-entropy loss\n",
        "  loss[i] = -np.sum(Binarized_True_label[:,i] * np.log(temp[i])) / N"
      ]
    },
    {
      "cell_type": "code",
      "execution_count": null,
      "metadata": {
        "id": "MkiM2TMEQjiI"
      },
      "outputs": [],
      "source": [
        "log_loss_result=[]\n",
        "for i in range(NUMBER_OF_CLASSES):\n",
        "  log_loss_result.append([CLASSES[i],loss[i]])"
      ]
    },
    {
      "cell_type": "code",
      "execution_count": null,
      "metadata": {
        "id": "_Hk_ipVyQjiI"
      },
      "outputs": [],
      "source": [
        "column_headers=['CLASS','LOG-LOSS VALUE']\n",
        "print('Log-Loss Results')\n",
        "print(tabulate(log_loss_result, headers=column_headers, tablefmt=\"grid\"))"
      ]
    },
    {
      "cell_type": "code",
      "execution_count": null,
      "metadata": {
        "id": "yBcj91ZoQjiJ"
      },
      "outputs": [],
      "source": [
        "print(f'Precision: {pre.result().numpy()}, Recall: {re.result().numpy()}, Accuracy: {acc.result().numpy()}, F Score: {f_score}, Cohen Kappa Score: {kappa}')"
      ]
    },
    {
      "cell_type": "code",
      "execution_count": null,
      "metadata": {
        "id": "qqkeK9MMQjiK"
      },
      "outputs": [],
      "source": [
        "#Plotting the Confusion Matrix\n",
        "\n",
        "\n",
        "confusion_matrix=metrics.confusion_matrix(True_label,Predicted_label,normalize='true')\n",
        "cm_display = metrics.ConfusionMatrixDisplay(confusion_matrix = confusion_matrix, display_labels = [\"L1S3\",\"L2S3\",\"L3S3\",\"LC1\",\"LC4\",\"LC5\",\"LC6\",\"LC9\"])\n",
        "fig, ax = plt.subplots(figsize=(10,10))\n",
        "cm_display.plot(ax=ax)\n",
        "plt.show()\n",
        "fig.savefig(vgg16_confusion_matrix + '.eps', format='eps', dpi=600)\n",
        "fig.savefig(vgg16_confusion_matrix + '.png', format='png', dpi=600)"
      ]
    },
    {
      "cell_type": "markdown",
      "metadata": {
        "id": "phVYL-bzQjiL"
      },
      "source": [
        "### Training the  MobileNetV2 Model and evaluating the performance"
      ]
    },
    {
      "cell_type": "code",
      "execution_count": null,
      "metadata": {
        "id": "OfwwXyXNQjiL"
      },
      "outputs": [],
      "source": [
        "from keras.applications import MobileNetV2"
      ]
    },
    {
      "cell_type": "code",
      "execution_count": null,
      "metadata": {
        "id": "pnHa8VZ-QjiM"
      },
      "outputs": [],
      "source": [
        "mobilenetv2_tensorboard_callback=tf.keras.callbacks.TensorBoard(log_dir=mobilenetv2_logdir)"
      ]
    },
    {
      "cell_type": "code",
      "execution_count": null,
      "metadata": {
        "id": "7X7kosYUQjiM"
      },
      "outputs": [],
      "source": [
        "mobilenetv2_base=MobileNetV2(weights='imagenet',include_top=False,input_shape=(299,299,3))\n",
        "mobilenetv2_model=Sequential()\n",
        "mobilenetv2_model.add(mobilenetv2_base)\n",
        "mobilenetv2_model.add(Flatten())\n",
        "mobilenetv2_model.add(Dense(NUMBER_OF_CLASSES,activation='softmax'))\n",
        "\n",
        "mobilenetv2_model.compile(optimizer='adam',loss='sparse_categorical_crossentropy',metrics=['accuracy'])"
      ]
    },
    {
      "cell_type": "code",
      "execution_count": null,
      "metadata": {
        "id": "W7cDxwTtQjiM"
      },
      "outputs": [],
      "source": [
        "mobilenetv2_model.summary()"
      ]
    },
    {
      "cell_type": "code",
      "execution_count": null,
      "metadata": {
        "id": "65eLvW0gQjiN"
      },
      "outputs": [],
      "source": [
        "mobilenetv2_Training_start=time.time()"
      ]
    },
    {
      "cell_type": "code",
      "execution_count": null,
      "metadata": {
        "id": "LvkqTHmFQjiN"
      },
      "outputs": [],
      "source": [
        "mobilenetv2_Model_Run=mobilenetv2_model.fit(\n",
        "    normalized_training_set,\n",
        "    validation_data=normalized_validation_set,\n",
        "    epochs=30,\n",
        "    validation_steps=len(normalized_validation_set),\n",
        "    callbacks=[mobilenetv2_tensorboard_callback]\n",
        ")"
      ]
    },
    {
      "cell_type": "code",
      "execution_count": null,
      "metadata": {
        "id": "sChNOKc-QjiN"
      },
      "outputs": [],
      "source": [
        "mobilenetv2_Training_stop=time.time()"
      ]
    },
    {
      "cell_type": "code",
      "execution_count": null,
      "metadata": {
        "id": "_Yg7p_NMQjiO"
      },
      "outputs": [],
      "source": [
        "print(f'Time required for MOBILENETV2 model training= {mobilenetv2_Training_stop-mobilenetv2_Training_start} seconds')"
      ]
    },
    {
      "cell_type": "code",
      "execution_count": null,
      "metadata": {
        "id": "xMqAdxaNQjiO"
      },
      "outputs": [],
      "source": [
        "# Plotting the loss\n",
        "\n",
        "\n",
        "fig=plt.figure(figsize=(10,6))\n",
        "plt.plot(mobilenetv2_Model_Run.history['loss'], color='blue', label='Training Loss')\n",
        "plt.plot(mobilenetv2_Model_Run.history['val_loss'], color='red', label='Validation Loss')\n",
        "plt.xlabel(\"Epochs\")\n",
        "plt.ylabel(\"Loss\")\n",
        "fig.suptitle('Loss',fontsize=15)\n",
        "plt.legend()\n",
        "plt.show()\n",
        "fig.savefig(mobilenetv2_loss + '.eps', format='eps', dpi=600)\n",
        "fig.savefig(mobilenetv2_loss + '.png', format='png', dpi=600)"
      ]
    },
    {
      "cell_type": "code",
      "execution_count": null,
      "metadata": {
        "id": "t4X3av03QjiO"
      },
      "outputs": [],
      "source": [
        "# Plotting the accuracy\n",
        "\n",
        "\n",
        "fig=plt.figure(figsize=(10,6))\n",
        "plt.plot(mobilenetv2_Model_Run.history['accuracy'], color='blue', label='Training Accuracy')\n",
        "plt.plot(mobilenetv2_Model_Run.history['val_accuracy'], color='red', label='Validation Accuracy')\n",
        "plt.xlabel(\"Epochs\")\n",
        "plt.ylabel(\"Accuracy\")\n",
        "fig.suptitle('Accuracy',fontsize=15)\n",
        "plt.legend()\n",
        "plt.show()\n",
        "fig.savefig(mobilenetv2_accuracy + '.eps', format='eps', dpi=600)\n",
        "fig.savefig(mobilenetv2_accuracy + '.png', format='png', dpi=600)"
      ]
    },
    {
      "cell_type": "code",
      "execution_count": null,
      "metadata": {
        "id": "1VGnsnP7QjiO"
      },
      "outputs": [],
      "source": [
        "# Calculating the Precision, Recall, Accuracy\n",
        "\n",
        "pre = Precision()\n",
        "re = Recall()\n",
        "acc = Accuracy()"
      ]
    },
    {
      "cell_type": "code",
      "execution_count": null,
      "metadata": {
        "id": "sXMPDAcoQjiP"
      },
      "outputs": [],
      "source": [
        "True_label=[]\n",
        "Predicted_label=[]\n",
        "Predicted_probabilities=[]\n",
        "score=[]\n",
        "for images,labels in (normalized_testing_set):\n",
        "  score.append(mobilenetv2_model.evaluate(images,labels))\n",
        "  for it in range(len(labels)):\n",
        "    True_label.append(labels[it])\n",
        "  pred=mobilenetv2_model.predict(images)\n",
        "  y_max=[]\n",
        "  for it in range(len(pred)):\n",
        "      Predicted_probabilities.append(pred[it])\n",
        "      y_max.append(np.argmax(pred[it]))\n",
        "      Predicted_label.append(np.argmax(pred[it]))\n",
        "  pre.update_state(labels,y_max)\n",
        "  re.update_state(labels,y_max)\n",
        "  acc.update_state(labels,y_max)"
      ]
    },
    {
      "cell_type": "code",
      "execution_count": null,
      "metadata": {
        "id": "n-aLePTZQjiP"
      },
      "outputs": [],
      "source": [
        "f_score=(2*pre.result().numpy()*re.result().numpy())/(pre.result().numpy()+re.result().numpy())"
      ]
    },
    {
      "cell_type": "code",
      "execution_count": null,
      "metadata": {
        "id": "vvEX6Zi7QjiP"
      },
      "outputs": [],
      "source": [
        "kappa=cohen_kappa_score(True_label,Predicted_label)"
      ]
    },
    {
      "cell_type": "code",
      "execution_count": null,
      "metadata": {
        "id": "5S0REfrKQjiQ"
      },
      "outputs": [],
      "source": [
        "True_label=np.array(True_label)\n",
        "Predicted_label=np.array(Predicted_label)\n",
        "Predicted_probabilities=np.array(Predicted_probabilities)"
      ]
    },
    {
      "cell_type": "code",
      "execution_count": null,
      "metadata": {
        "id": "AIOGtzC_QjiQ"
      },
      "outputs": [],
      "source": [
        "Binarized_True_label=label_binarize(True_label,classes=[0, 1, 2, 3, 4])"
      ]
    },
    {
      "cell_type": "code",
      "execution_count": null,
      "metadata": {
        "id": "WOQYJSOwQjiQ"
      },
      "outputs": [],
      "source": [
        "#Calcualting the fpr, tpr and auc\n",
        "\n",
        "\n",
        "fpr = [0] * NUMBER_OF_CLASSES\n",
        "tpr = [0] * NUMBER_OF_CLASSES\n",
        "roc_auc= [0] * NUMBER_OF_CLASSES\n",
        "avg_roc_auc=0\n",
        "for i in range(NUMBER_OF_CLASSES):\n",
        "    fpr[i], tpr[i], _ = roc_curve(Binarized_True_label[:, i], Predicted_probabilities[:, i])\n",
        "    roc_auc[i] = auc(fpr[i], tpr[i])"
      ]
    },
    {
      "cell_type": "code",
      "execution_count": null,
      "metadata": {
        "id": "AM0xb0FoQjiQ"
      },
      "outputs": [],
      "source": [
        "roc_auc_details=[]\n",
        "for i in range(NUMBER_OF_CLASSES):\n",
        "  temp=[CLASSES[i],roc_auc[i]]\n",
        "  roc_auc_details.append(temp)"
      ]
    },
    {
      "cell_type": "code",
      "execution_count": null,
      "metadata": {
        "id": "ddnQFZf0QjiR"
      },
      "outputs": [],
      "source": [
        "column_headers=['CLASS','ROC-AUC']\n",
        "print('ROC-AUC Results')\n",
        "print(tabulate(roc_auc_details, headers=column_headers, tablefmt=\"grid\"))"
      ]
    },
    {
      "cell_type": "code",
      "execution_count": null,
      "metadata": {
        "id": "93NgRn-iQjiR"
      },
      "outputs": [],
      "source": [
        "avg_roc_auc=sum(roc_auc)/NUMBER_OF_CLASSES"
      ]
    },
    {
      "cell_type": "code",
      "execution_count": null,
      "metadata": {
        "id": "zW3Ng_3uQjiR"
      },
      "outputs": [],
      "source": [
        "print(f'The average ROC-AUC value is: {avg_roc_auc}')"
      ]
    },
    {
      "cell_type": "code",
      "execution_count": null,
      "metadata": {
        "id": "FKEwAt46QjiR"
      },
      "outputs": [],
      "source": [
        "#Plotting the ROC Curve\n",
        "\n",
        "\n",
        "fig=plt.figure(figsize=(10,10))\n",
        "color=['red','green','blue','cyan','magenta','yellow','orange','purple']\n",
        "for i in range(NUMBER_OF_CLASSES):\n",
        "  plt.plot(fpr[i],tpr[i],color[i],label='Class {} (AUC= {:.6F})'.format(CLASSES[i],roc_auc[i]))\n",
        "plt.plot([0, 1], [0, 1], 'k--')\n",
        "plt.xlim([0.0, 1.0])\n",
        "plt.ylim([0.0, 1.0])\n",
        "plt.xlabel('False Positive Rate')\n",
        "plt.ylabel('True Positive Rate')\n",
        "plt.suptitle('One-vs-Rest ROC Curve',fontsize=15)\n",
        "plt.legend(loc='lower right')\n",
        "plt.show()\n",
        "fig.savefig(mobilenetv2_rocauc + '.eps', format='eps', dpi=600)\n",
        "fig.savefig(mobilenetv2_rocauc + '.png', format='png', dpi=600)"
      ]
    },
    {
      "cell_type": "code",
      "execution_count": null,
      "metadata": {
        "id": "2AIZrxbmQjiS"
      },
      "outputs": [],
      "source": [
        "#Plotting the ROC Curve (Zoomed in at the top left corner)\n",
        "\n",
        "\n",
        "fig=plt.figure(figsize=(10,10))\n",
        "color=['red','green','blue','cyan','magenta','yellow','orange','purple']\n",
        "for i in range(NUMBER_OF_CLASSES):\n",
        "  plt.plot(fpr[i],tpr[i],color[i],label='Class {} (AUC= {:.6F})'.format(CLASSES[i],roc_auc[i]))\n",
        "plt.plot([0, 1], [0, 1], 'k--')\n",
        "plt.xlim([0.0, 0.50])\n",
        "plt.ylim([0.0, 1.0])\n",
        "plt.xlabel('False Positive Rate')\n",
        "plt.ylabel('True Positive Rate')\n",
        "plt.suptitle('One-vs-Rest ROC Curve (Zoomed top-left)',fontsize=15)\n",
        "plt.legend(loc='lower right')\n",
        "plt.show()\n",
        "fig.savefig(mobilenetv2_rocauc_zoomed + '.eps', format='eps', dpi=600)\n",
        "fig.savefig(mobilenetv2_rocauc_zoomed + '.png', format='png', dpi=600)"
      ]
    },
    {
      "cell_type": "code",
      "execution_count": null,
      "metadata": {
        "id": "mQianFeHQjiS"
      },
      "outputs": [],
      "source": [
        "#Calculating the Log-loss Score (One-vs-Rest)\n",
        "\n",
        "\n",
        "temp=[0]*NUMBER_OF_CLASSES\n",
        "loss=[0]*NUMBER_OF_CLASSES\n",
        "epsilon = 1e-15  # Small constant to avoid division by zero\n",
        "N = Binarized_True_label.shape[0]\n",
        "\n",
        "for i in range(NUMBER_OF_CLASSES):\n",
        "  # Clip predicted probabilities to avoid log(0) cases\n",
        "  temp[i]= np.clip(Predicted_probabilities[:,i], epsilon, 1 - epsilon)\n",
        "  # Calculate cross-entropy loss\n",
        "  loss[i] = -np.sum(Binarized_True_label[:,i] * np.log(temp[i])) / N"
      ]
    },
    {
      "cell_type": "code",
      "execution_count": null,
      "metadata": {
        "id": "Ic_PXE5QQjiT"
      },
      "outputs": [],
      "source": [
        "log_loss_result=[]\n",
        "for i in range(NUMBER_OF_CLASSES):\n",
        "  log_loss_result.append([CLASSES[i],loss[i]])"
      ]
    },
    {
      "cell_type": "code",
      "execution_count": null,
      "metadata": {
        "id": "LMh-QzEOQjiT"
      },
      "outputs": [],
      "source": [
        "column_headers=['CLASS','LOG-LOSS VALUE']\n",
        "print('Log-Loss Results')\n",
        "print(tabulate(log_loss_result, headers=column_headers, tablefmt=\"grid\"))"
      ]
    },
    {
      "cell_type": "code",
      "execution_count": null,
      "metadata": {
        "id": "iZG3kfMcQjiT"
      },
      "outputs": [],
      "source": [
        "print(f'Precision: {pre.result().numpy()}, Recall: {re.result().numpy()}, Accuracy: {acc.result().numpy()}, F Score: {f_score}, Cohen Kappa Score: {kappa}')"
      ]
    },
    {
      "cell_type": "code",
      "execution_count": null,
      "metadata": {
        "id": "IMzdMyl7QjiU"
      },
      "outputs": [],
      "source": [
        "#Plotting the Confusion Matrix\n",
        "\n",
        "\n",
        "confusion_matrix=metrics.confusion_matrix(True_label,Predicted_label,normalize='true')\n",
        "cm_display = metrics.ConfusionMatrixDisplay(confusion_matrix = confusion_matrix, display_labels = [\"L1S3\",\"L2S3\",\"L3S3\",\"LC1\",\"LC4\",\"LC5\",\"LC6\",\"LC9\"])\n",
        "fig, ax = plt.subplots(figsize=(10,10))\n",
        "cm_display.plot(ax=ax)\n",
        "plt.show()\n",
        "fig.savefig(mobilenetv2_confusion_matrix + '.eps', format='eps', dpi=600)\n",
        "fig.savefig(mobilenetv2_confusion_matrix + '.png', format='png', dpi=600)"
      ]
    },
    {
      "cell_type": "markdown",
      "metadata": {
        "id": "B8M295YtQjiU"
      },
      "source": [
        "### Training the ResNet50 Model and evaluating the performance"
      ]
    },
    {
      "cell_type": "code",
      "execution_count": null,
      "metadata": {
        "id": "7bxnhhSnQjiV"
      },
      "outputs": [],
      "source": [
        "from keras.applications import ResNet50"
      ]
    },
    {
      "cell_type": "code",
      "execution_count": null,
      "metadata": {
        "id": "DbhwSdi_QjiV"
      },
      "outputs": [],
      "source": [
        "resnet50_tensorboard_callback=tf.keras.callbacks.TensorBoard(log_dir=resnet50_logdir)"
      ]
    },
    {
      "cell_type": "code",
      "execution_count": null,
      "metadata": {
        "id": "7vUkLLiDQjiW"
      },
      "outputs": [],
      "source": [
        "resnet50_base=ResNet50(weights='imagenet',include_top=False,input_shape=(299,299,3))\n",
        "resnet50_model=Sequential()\n",
        "resnet50_model.add(resnet50_base)\n",
        "resnet50_model.add(Flatten())\n",
        "resnet50_model.add(Dense(NUMBER_OF_CLASSES,activation='softmax'))\n",
        "\n",
        "resnet50_model.compile(optimizer='adam',loss='sparse_categorical_crossentropy',metrics=['accuracy'])"
      ]
    },
    {
      "cell_type": "code",
      "execution_count": null,
      "metadata": {
        "id": "VS__aJ-hQjiW"
      },
      "outputs": [],
      "source": [
        "resnet50_model.summary()"
      ]
    },
    {
      "cell_type": "code",
      "execution_count": null,
      "metadata": {
        "id": "L9fpvJy_QjiX"
      },
      "outputs": [],
      "source": [
        "resnet50_Training_start=time.time()"
      ]
    },
    {
      "cell_type": "code",
      "execution_count": null,
      "metadata": {
        "id": "RhL6NbZBQjiX"
      },
      "outputs": [],
      "source": [
        "resnet50_Model_Run=resnet50_model.fit(\n",
        "    normalized_training_set,\n",
        "    validation_data=normalized_validation_set,\n",
        "    epochs=30,\n",
        "    validation_steps=len(normalized_validation_set),\n",
        "    callbacks=[resnet50_tensorboard_callback]\n",
        ")"
      ]
    },
    {
      "cell_type": "code",
      "execution_count": null,
      "metadata": {
        "id": "NipKbb2LQjiY"
      },
      "outputs": [],
      "source": [
        "resnet50_Training_stop=time.time()"
      ]
    },
    {
      "cell_type": "code",
      "execution_count": null,
      "metadata": {
        "id": "cViwIrveQjiZ"
      },
      "outputs": [],
      "source": [
        "print(f'Time required for RESNET50 model training= {resnet50_Training_stop-resnet50_Training_start} seconds')"
      ]
    },
    {
      "cell_type": "code",
      "execution_count": null,
      "metadata": {
        "id": "8c3q6DhqQjib"
      },
      "outputs": [],
      "source": [
        "# Plotting the loss\n",
        "\n",
        "\n",
        "fig=plt.figure(figsize=(10,6))\n",
        "plt.plot(resnet50_Model_Run.history['loss'], color='blue', label='Training Loss')\n",
        "plt.plot(resnet50_Model_Run.history['val_loss'], color='red', label='Validation Loss')\n",
        "plt.xlabel(\"Epochs\")\n",
        "plt.ylabel(\"Loss\")\n",
        "fig.suptitle('Loss',fontsize=15)\n",
        "plt.legend()\n",
        "plt.show()\n",
        "fig.savefig(resnet50_loss + '.eps', format='eps', dpi=600)\n",
        "fig.savefig(resnet50_loss + '.png', format='png', dpi=600)"
      ]
    },
    {
      "cell_type": "code",
      "execution_count": null,
      "metadata": {
        "id": "9W6zA0zdQjic"
      },
      "outputs": [],
      "source": [
        "# Plotting the accuracy\n",
        "\n",
        "\n",
        "fig=plt.figure(figsize=(10,6))\n",
        "plt.plot(resnet50_Model_Run.history['accuracy'], color='blue', label='Training Accuracy')\n",
        "plt.plot(resnet50_Model_Run.history['val_accuracy'], color='red', label='Validation Accuracy')\n",
        "plt.xlabel(\"Epochs\")\n",
        "plt.ylabel(\"Accuracy\")\n",
        "fig.suptitle('Accuracy',fontsize=15)\n",
        "plt.legend()\n",
        "plt.show()\n",
        "fig.savefig(resnet50_accuracy + '.eps', format='eps', dpi=600)\n",
        "fig.savefig(resnet50_accuracy + '.png', format='png', dpi=600)"
      ]
    },
    {
      "cell_type": "code",
      "execution_count": null,
      "metadata": {
        "id": "wzxfG0EFQjic"
      },
      "outputs": [],
      "source": [
        "# Calculating the Precision, Recall, Accuracy\n",
        "\n",
        "pre = Precision()\n",
        "re = Recall()\n",
        "acc = Accuracy()"
      ]
    },
    {
      "cell_type": "code",
      "execution_count": null,
      "metadata": {
        "id": "tv7X4kauQjic"
      },
      "outputs": [],
      "source": [
        "True_label=[]\n",
        "Predicted_label=[]\n",
        "Predicted_probabilities=[]\n",
        "score=[]\n",
        "for images,labels in (normalized_testing_set):\n",
        "  score.append(resnet50_model.evaluate(images,labels))\n",
        "  for it in range(len(labels)):\n",
        "    True_label.append(labels[it])\n",
        "  pred=resnet50_model.predict(images)\n",
        "  y_max=[]\n",
        "  for it in range(len(pred)):\n",
        "      Predicted_probabilities.append(pred[it])\n",
        "      y_max.append(np.argmax(pred[it]))\n",
        "      Predicted_label.append(np.argmax(pred[it]))\n",
        "  pre.update_state(labels,y_max)\n",
        "  re.update_state(labels,y_max)\n",
        "  acc.update_state(labels,y_max)"
      ]
    },
    {
      "cell_type": "code",
      "execution_count": null,
      "metadata": {
        "id": "Bqg-2IiNQjid"
      },
      "outputs": [],
      "source": [
        "f_score=(2*pre.result().numpy()*re.result().numpy())/(pre.result().numpy()+re.result().numpy())"
      ]
    },
    {
      "cell_type": "code",
      "execution_count": null,
      "metadata": {
        "id": "C_MwoHvLQjid"
      },
      "outputs": [],
      "source": [
        "kappa=cohen_kappa_score(True_label,Predicted_label)"
      ]
    },
    {
      "cell_type": "code",
      "execution_count": null,
      "metadata": {
        "id": "Xibv6c4QQjie"
      },
      "outputs": [],
      "source": [
        "True_label=np.array(True_label)\n",
        "Predicted_label=np.array(Predicted_label)\n",
        "Predicted_probabilities=np.array(Predicted_probabilities)"
      ]
    },
    {
      "cell_type": "code",
      "execution_count": null,
      "metadata": {
        "id": "VarlsNedQjie"
      },
      "outputs": [],
      "source": [
        "Binarized_True_label=label_binarize(True_label,classes=[0, 1, 2, 3, 4])"
      ]
    },
    {
      "cell_type": "code",
      "execution_count": null,
      "metadata": {
        "id": "crm1ihpIQjie"
      },
      "outputs": [],
      "source": [
        "#Calcualting the fpr, tpr and auc\n",
        "\n",
        "\n",
        "fpr = [0] * NUMBER_OF_CLASSES\n",
        "tpr = [0] * NUMBER_OF_CLASSES\n",
        "roc_auc= [0] * NUMBER_OF_CLASSES\n",
        "avg_roc_auc=0\n",
        "for i in range(NUMBER_OF_CLASSES):\n",
        "    fpr[i], tpr[i], _ = roc_curve(Binarized_True_label[:, i], Predicted_probabilities[:, i])\n",
        "    roc_auc[i] = auc(fpr[i], tpr[i])"
      ]
    },
    {
      "cell_type": "code",
      "execution_count": null,
      "metadata": {
        "id": "SU9uPM9UQjif"
      },
      "outputs": [],
      "source": [
        "roc_auc_details=[]\n",
        "for i in range(NUMBER_OF_CLASSES):\n",
        "  temp=[CLASSES[i],roc_auc[i]]\n",
        "  roc_auc_details.append(temp)"
      ]
    },
    {
      "cell_type": "code",
      "execution_count": null,
      "metadata": {
        "id": "Ru2a5XheQjif"
      },
      "outputs": [],
      "source": [
        "column_headers=['CLASS','ROC-AUC']\n",
        "print('ROC-AUC Results')\n",
        "print(tabulate(roc_auc_details, headers=column_headers, tablefmt=\"grid\"))"
      ]
    },
    {
      "cell_type": "code",
      "execution_count": null,
      "metadata": {
        "id": "XtmxDKHXQjif"
      },
      "outputs": [],
      "source": [
        "avg_roc_auc=sum(roc_auc)/NUMBER_OF_CLASSES"
      ]
    },
    {
      "cell_type": "code",
      "execution_count": null,
      "metadata": {
        "id": "LOofxqagQjig"
      },
      "outputs": [],
      "source": [
        "print(f'The average ROC-AUC value is: {avg_roc_auc}')"
      ]
    },
    {
      "cell_type": "code",
      "execution_count": null,
      "metadata": {
        "id": "GMxu47Q4Qjig"
      },
      "outputs": [],
      "source": [
        "#Plotting the ROC Curve\n",
        "\n",
        "\n",
        "fig=plt.figure(figsize=(10,10))\n",
        "color=['red','green','blue','cyan','magenta','yellow','orange','purple']\n",
        "for i in range(NUMBER_OF_CLASSES):\n",
        "  plt.plot(fpr[i],tpr[i],color[i],label='Class {} (AUC= {:.6F})'.format(CLASSES[i],roc_auc[i]))\n",
        "plt.plot([0, 1], [0, 1], 'k--')\n",
        "plt.xlim([0.0, 1.0])\n",
        "plt.ylim([0.0, 1.0])\n",
        "plt.xlabel('False Positive Rate')\n",
        "plt.ylabel('True Positive Rate')\n",
        "plt.suptitle('One-vs-Rest ROC Curve',fontsize=15)\n",
        "plt.legend(loc='lower right')\n",
        "plt.show()\n",
        "fig.savefig(resnet50_rocauc + '.eps', format='eps', dpi=600)\n",
        "fig.savefig(resnet50_rocauc + '.png', format='png', dpi=600)"
      ]
    },
    {
      "cell_type": "code",
      "execution_count": null,
      "metadata": {
        "id": "xsnACjwmQjig"
      },
      "outputs": [],
      "source": [
        "#Plotting the ROC Curve (Zoomed in at the top left corner)\n",
        "\n",
        "\n",
        "fig=plt.figure(figsize=(10,10))\n",
        "color=['red','green','blue','cyan','magenta','yellow','orange','purple']\n",
        "for i in range(NUMBER_OF_CLASSES):\n",
        "  plt.plot(fpr[i],tpr[i],color[i],label='Class {} (AUC= {:.6F})'.format(CLASSES[i],roc_auc[i]))\n",
        "plt.plot([0, 1], [0, 1], 'k--')\n",
        "plt.xlim([0.0, 0.50])\n",
        "plt.ylim([0.0, 1.0])\n",
        "plt.xlabel('False Positive Rate')\n",
        "plt.ylabel('True Positive Rate')\n",
        "plt.suptitle('One-vs-Rest ROC Curve (Zoomed top-left)',fontsize=15)\n",
        "plt.legend(loc='lower right')\n",
        "plt.show()\n",
        "fig.savefig(resnet50_rocauc_zoomed + '.eps', format='eps', dpi=600)\n",
        "fig.savefig(resnet50_rocauc_zoomed + '.ong', format='png', dpi=600)"
      ]
    },
    {
      "cell_type": "code",
      "execution_count": null,
      "metadata": {
        "id": "gE4WSzpSQjih"
      },
      "outputs": [],
      "source": [
        "#Calculating the Log-loss Score (One-vs-Rest)\n",
        "\n",
        "\n",
        "temp=[0]*NUMBER_OF_CLASSES\n",
        "loss=[0]*NUMBER_OF_CLASSES\n",
        "epsilon = 1e-15  # Small constant to avoid division by zero\n",
        "N = Binarized_True_label.shape[0]\n",
        "\n",
        "for i in range(NUMBER_OF_CLASSES):\n",
        "  # Clip predicted probabilities to avoid log(0) cases\n",
        "  temp[i]= np.clip(Predicted_probabilities[:,i], epsilon, 1 - epsilon)\n",
        "  # Calculate cross-entropy loss\n",
        "  loss[i] = -np.sum(Binarized_True_label[:,i] * np.log(temp[i])) / N"
      ]
    },
    {
      "cell_type": "code",
      "execution_count": null,
      "metadata": {
        "id": "luv2jwJwQjih"
      },
      "outputs": [],
      "source": [
        "log_loss_result=[]\n",
        "for i in range(NUMBER_OF_CLASSES):\n",
        "  log_loss_result.append([CLASSES[i],loss[i]])"
      ]
    },
    {
      "cell_type": "code",
      "execution_count": null,
      "metadata": {
        "id": "WxNis4u_Qjih"
      },
      "outputs": [],
      "source": [
        "column_headers=['CLASS','LOG-LOSS VALUE']\n",
        "print('Log-Loss Results')\n",
        "print(tabulate(log_loss_result, headers=column_headers, tablefmt=\"grid\"))"
      ]
    },
    {
      "cell_type": "code",
      "execution_count": null,
      "metadata": {
        "id": "vzXO34onQjih"
      },
      "outputs": [],
      "source": [
        "print(f'Precision: {pre.result().numpy()}, Recall: {re.result().numpy()}, Accuracy: {acc.result().numpy()}, F Score: {f_score}, Cohen Kappa Score: {kappa}')"
      ]
    },
    {
      "cell_type": "code",
      "execution_count": null,
      "metadata": {
        "id": "5COeA2rgQjii"
      },
      "outputs": [],
      "source": [
        "#Plotting the Confusion Matrix\n",
        "\n",
        "\n",
        "confusion_matrix=metrics.confusion_matrix(True_label,Predicted_label,normalize='true')\n",
        "cm_display = metrics.ConfusionMatrixDisplay(confusion_matrix = confusion_matrix, display_labels = [\"L1S3\",\"L2S3\",\"L3S3\",\"LC1\",\"LC4\",\"LC5\",\"LC6\",\"LC9\"])\n",
        "fig, ax = plt.subplots(figsize=(10,10))\n",
        "cm_display.plot(ax=ax)\n",
        "plt.show()\n",
        "fig.savefig(resnet50_confusion_matrix + '.eps', format='eps', dpi=600)\n",
        "fig.savefig(resnet50_confusion_matrix + '.png', format='png', dpi=600)"
      ]
    },
    {
      "cell_type": "markdown",
      "metadata": {
        "id": "VMb6guM2Qjii"
      },
      "source": [
        "### Training the EfficientNetB0 Model and evaluating the performance"
      ]
    },
    {
      "cell_type": "code",
      "execution_count": null,
      "metadata": {
        "id": "8M7-6qiJQjij"
      },
      "outputs": [],
      "source": [
        "from keras.applications import EfficientNetB0"
      ]
    },
    {
      "cell_type": "code",
      "execution_count": null,
      "metadata": {
        "id": "PbmK7btLQjij"
      },
      "outputs": [],
      "source": [
        "efficientnetb0_tensorboard_callback=tf.keras.callbacks.TensorBoard(log_dir=efficientnetb0_logdir)"
      ]
    },
    {
      "cell_type": "code",
      "execution_count": null,
      "metadata": {
        "id": "WWtraS5lQjik"
      },
      "outputs": [],
      "source": [
        "efficientnetb0_base=EfficientNetB0(weights='imagenet',include_top=False,input_shape=(299,299,3))\n",
        "efficientnetb0_model=Sequential()\n",
        "efficientnetb0_model.add(efficientnetb0_base)\n",
        "efficientnetb0_model.add(Flatten())\n",
        "efficientnetb0_model.add(Dense(NUMBER_OF_CLASSES,activation='softmax'))\n",
        "\n",
        "efficientnetb0_model.compile(optimizer='adam',loss='sparse_categorical_crossentropy',metrics=['accuracy'])"
      ]
    },
    {
      "cell_type": "code",
      "execution_count": null,
      "metadata": {
        "id": "JRZSwXDVQjik"
      },
      "outputs": [],
      "source": [
        "efficientnetb0_model.summary()"
      ]
    },
    {
      "cell_type": "code",
      "execution_count": null,
      "metadata": {
        "id": "afx1z_mRQjik"
      },
      "outputs": [],
      "source": [
        "efficientnetb0_Training_start=time.time()"
      ]
    },
    {
      "cell_type": "code",
      "execution_count": null,
      "metadata": {
        "id": "itiaDf2uQjil"
      },
      "outputs": [],
      "source": [
        "efficientnetb0_Model_Run=efficientnetb0_model.fit(\n",
        "    normalized_training_set,\n",
        "    validation_data=normalized_validation_set,\n",
        "    epochs=30,\n",
        "    validation_steps=len(normalized_validation_set),\n",
        "    callbacks=[efficientnetb0_tensorboard_callback]\n",
        ")"
      ]
    },
    {
      "cell_type": "code",
      "execution_count": null,
      "metadata": {
        "id": "6tJvswD8Qjil"
      },
      "outputs": [],
      "source": [
        "efficientnetb0_Training_stop=time.time()"
      ]
    },
    {
      "cell_type": "code",
      "execution_count": null,
      "metadata": {
        "id": "_CL9TgWUQjil"
      },
      "outputs": [],
      "source": [
        "print(f'Time requied for EFFICIENTNETB0 model training= {efficientnetb0_Training_stop-efficientnetb0_Training_start} seconds')"
      ]
    },
    {
      "cell_type": "code",
      "execution_count": null,
      "metadata": {
        "id": "lZ9odC3iQjil"
      },
      "outputs": [],
      "source": [
        "# Plotting the loss\n",
        "\n",
        "\n",
        "fig=plt.figure(figsize=(10,6))\n",
        "plt.plot(efficientnetb0_Model_Run.history['loss'], color='blue', label='Training Loss')\n",
        "plt.plot(efficientnetb0_Model_Run.history['val_loss'], color='red', label='Validation Loss')\n",
        "plt.xlabel(\"Epochs\")\n",
        "plt.ylabel(\"Loss\")\n",
        "fig.suptitle('Loss',fontsize=15)\n",
        "plt.legend()\n",
        "plt.show()\n",
        "fig.savefig(efficientnetb0_loss + '.eps', format='eps', dpi=600)\n",
        "fig.savefig(efficientnetb0_loss + '.png', format='png', dpi=600)"
      ]
    },
    {
      "cell_type": "code",
      "execution_count": null,
      "metadata": {
        "id": "tqPHTf7lQjim"
      },
      "outputs": [],
      "source": [
        "# Plotting the accuracy\n",
        "\n",
        "\n",
        "fig=plt.figure(figsize=(10,6))\n",
        "plt.plot(efficientnetb0_Model_Run.history['accuracy'], color='blue', label='Training Accuracy')\n",
        "plt.plot(efficientnetb0_Model_Run.history['val_accuracy'], color='red', label='Validation Accuracy')\n",
        "plt.xlabel(\"Epochs\")\n",
        "plt.ylabel(\"Accuracy\")\n",
        "fig.suptitle('Accuracy',fontsize=15)\n",
        "plt.legend()\n",
        "plt.show()\n",
        "fig.savefig(efficientnetb0_accuracy + '.eps', format='eps', dpi=600)\n",
        "fig.savefig(efficientnetb0_accuracy + '.png', format='png', dpi=600)"
      ]
    },
    {
      "cell_type": "code",
      "execution_count": null,
      "metadata": {
        "id": "6szROAq7Qjim"
      },
      "outputs": [],
      "source": [
        "# Calculating the Precision, Recall, Accuracy\n",
        "\n",
        "pre = Precision()\n",
        "re = Recall()\n",
        "acc = Accuracy()"
      ]
    },
    {
      "cell_type": "code",
      "execution_count": null,
      "metadata": {
        "id": "vocOVTZbQjim"
      },
      "outputs": [],
      "source": [
        "True_label=[]\n",
        "Predicted_label=[]\n",
        "Predicted_probabilities=[]\n",
        "score=[]\n",
        "for images,labels in (normalized_testing_set):\n",
        "  score.append(efficientnetb0_model.evaluate(images,labels))\n",
        "  for it in range(len(labels)):\n",
        "    True_label.append(labels[it])\n",
        "  pred=efficientnetb0_model.predict(images)\n",
        "  y_max=[]\n",
        "  for it in range(len(pred)):\n",
        "      Predicted_probabilities.append(pred[it])\n",
        "      y_max.append(np.argmax(pred[it]))\n",
        "      Predicted_label.append(np.argmax(pred[it]))\n",
        "  pre.update_state(labels,y_max)\n",
        "  re.update_state(labels,y_max)\n",
        "  acc.update_state(labels,y_max)"
      ]
    },
    {
      "cell_type": "code",
      "execution_count": null,
      "metadata": {
        "id": "E32QuWN3Qjin"
      },
      "outputs": [],
      "source": [
        "f_score=(2*pre.result().numpy()*re.result().numpy())/(pre.result().numpy()+re.result().numpy())"
      ]
    },
    {
      "cell_type": "code",
      "execution_count": null,
      "metadata": {
        "id": "g4WTM5cOQjin"
      },
      "outputs": [],
      "source": [
        "kappa=cohen_kappa_score(True_label,Predicted_label)"
      ]
    },
    {
      "cell_type": "code",
      "execution_count": null,
      "metadata": {
        "id": "yO8OxK4BQjin"
      },
      "outputs": [],
      "source": [
        "True_label=np.array(True_label)\n",
        "Predicted_label=np.array(Predicted_label)\n",
        "Predicted_probabilities=np.array(Predicted_probabilities)"
      ]
    },
    {
      "cell_type": "code",
      "execution_count": null,
      "metadata": {
        "id": "fCEET_C3Qjio"
      },
      "outputs": [],
      "source": [
        "Binarized_True_label=label_binarize(True_label,classes=[0, 1, 2, 3, 4])"
      ]
    },
    {
      "cell_type": "code",
      "execution_count": null,
      "metadata": {
        "id": "syC1d7WCQjiq"
      },
      "outputs": [],
      "source": [
        "#Calcualting the fpr, tpr and auc\n",
        "\n",
        "\n",
        "fpr = [0] * NUMBER_OF_CLASSES\n",
        "tpr = [0] * NUMBER_OF_CLASSES\n",
        "roc_auc= [0] * NUMBER_OF_CLASSES\n",
        "avg_roc_auc=0\n",
        "for i in range(NUMBER_OF_CLASSES):\n",
        "    fpr[i], tpr[i], _ = roc_curve(Binarized_True_label[:, i], Predicted_probabilities[:, i])\n",
        "    roc_auc[i] = auc(fpr[i], tpr[i])"
      ]
    },
    {
      "cell_type": "code",
      "execution_count": null,
      "metadata": {
        "id": "q2V05-qtQjis"
      },
      "outputs": [],
      "source": [
        "roc_auc_details=[]\n",
        "for i in range(NUMBER_OF_CLASSES):\n",
        "  temp=[CLASSES[i],roc_auc[i]]\n",
        "  roc_auc_details.append(temp)"
      ]
    },
    {
      "cell_type": "code",
      "execution_count": null,
      "metadata": {
        "id": "J-an4PkmQjit"
      },
      "outputs": [],
      "source": [
        "column_headers=['CLASS','ROC-AUC']\n",
        "print('ROC-AUC Results')\n",
        "print(tabulate(roc_auc_details, headers=column_headers, tablefmt=\"grid\"))"
      ]
    },
    {
      "cell_type": "code",
      "execution_count": null,
      "metadata": {
        "id": "v7NLLDA6Qjiv"
      },
      "outputs": [],
      "source": [
        "avg_roc_auc=sum(roc_auc)/NUMBER_OF_CLASSES"
      ]
    },
    {
      "cell_type": "code",
      "execution_count": null,
      "metadata": {
        "id": "BeAm_h83Qjiv"
      },
      "outputs": [],
      "source": [
        "print(f'The average ROC-AUC value is: {avg_roc_auc}')"
      ]
    },
    {
      "cell_type": "code",
      "execution_count": null,
      "metadata": {
        "id": "qHlVDdRvQjiw"
      },
      "outputs": [],
      "source": [
        "#Plotting the ROC Curve\n",
        "\n",
        "\n",
        "fig=plt.figure(figsize=(10,10))\n",
        "color=['red','green','blue','cyan','magenta','yellow','orange','purple']\n",
        "for i in range(NUMBER_OF_CLASSES):\n",
        "  plt.plot(fpr[i],tpr[i],color[i],label='Class {} (AUC= {:.6F})'.format(CLASSES[i],roc_auc[i]))\n",
        "plt.plot([0, 1], [0, 1], 'k--')\n",
        "plt.xlim([0.0, 1.0])\n",
        "plt.ylim([0.0, 1.0])\n",
        "plt.xlabel('False Positive Rate')\n",
        "plt.ylabel('True Positive Rate')\n",
        "plt.suptitle('One-vs-Rest ROC Curve',fontsize=15)\n",
        "plt.legend(loc='lower right')\n",
        "plt.show()\n",
        "fig.savefig(efficientnetb0_rocauc + '.eps', format='eps', dpi=600)\n",
        "fig.savefig(efficientnetb0_rocauc + '.png', format='png', dpi=600)"
      ]
    },
    {
      "cell_type": "code",
      "execution_count": null,
      "metadata": {
        "id": "Rn1oWSEjQjiw"
      },
      "outputs": [],
      "source": [
        "#Plotting the ROC Curve (Zoomed in at the top left corner)\n",
        "\n",
        "\n",
        "fig=plt.figure(figsize=(10,10))\n",
        "color=['red','green','blue','cyan','magenta','yellow','orange','purple']\n",
        "for i in range(NUMBER_OF_CLASSES):\n",
        "  plt.plot(fpr[i],tpr[i],color[i],label='Class {} (AUC= {:.6F})'.format(CLASSES[i],roc_auc[i]))\n",
        "plt.plot([0, 1], [0, 1], 'k--')\n",
        "plt.xlim([0.0, 0.50])\n",
        "plt.ylim([0.0, 1.0])\n",
        "plt.xlabel('False Positive Rate')\n",
        "plt.ylabel('True Positive Rate')\n",
        "plt.suptitle('One-vs-Rest ROC Curve (Zoomed top-left)',fontsize=15)\n",
        "plt.legend(loc='lower right')\n",
        "plt.show()\n",
        "fig.savefig(efficientnetb0_rocauc_zoomed + '.eps', format='eps', dpi=600)\n",
        "fig.savefig(efficientnetb0_rocauc_zoomed + '.png', format='png', dpi=600)"
      ]
    },
    {
      "cell_type": "code",
      "execution_count": null,
      "metadata": {
        "id": "CdEnnGnsQjix"
      },
      "outputs": [],
      "source": [
        "#Calculating the Log-loss Score (One-vs-Rest)\n",
        "\n",
        "\n",
        "temp=[0]*NUMBER_OF_CLASSES\n",
        "loss=[0]*NUMBER_OF_CLASSES\n",
        "epsilon = 1e-15  # Small constant to avoid division by zero\n",
        "N = Binarized_True_label.shape[0]\n",
        "\n",
        "for i in range(NUMBER_OF_CLASSES):\n",
        "  # Clip predicted probabilities to avoid log(0) cases\n",
        "  temp[i]= np.clip(Predicted_probabilities[:,i], epsilon, 1 - epsilon)\n",
        "  # Calculate cross-entropy loss\n",
        "  loss[i] = -np.sum(Binarized_True_label[:,i] * np.log(temp[i])) / N"
      ]
    },
    {
      "cell_type": "code",
      "execution_count": null,
      "metadata": {
        "id": "0FzJw-FlQjix"
      },
      "outputs": [],
      "source": [
        "log_loss_result=[]\n",
        "for i in range(NUMBER_OF_CLASSES):\n",
        "  log_loss_result.append([CLASSES[i],loss[i]])"
      ]
    },
    {
      "cell_type": "code",
      "execution_count": null,
      "metadata": {
        "id": "pKg2GdmOQjiy"
      },
      "outputs": [],
      "source": [
        "column_headers=['CLASS','LOG-LOSS VALUE']\n",
        "print('Log-Loss Results')\n",
        "print(tabulate(log_loss_result, headers=column_headers, tablefmt=\"grid\"))"
      ]
    },
    {
      "cell_type": "code",
      "execution_count": null,
      "metadata": {
        "id": "Zzn2b4axQjiy"
      },
      "outputs": [],
      "source": [
        "print(f'Precision: {pre.result().numpy()}, Recall: {re.result().numpy()}, Accuracy: {acc.result().numpy()}, F Score: {f_score}, Cohen Kappa Score: {kappa}')"
      ]
    },
    {
      "cell_type": "code",
      "execution_count": null,
      "metadata": {
        "id": "Xch0ceP7Qjiz"
      },
      "outputs": [],
      "source": [
        "#Plotting the Confusion Matrix\n",
        "\n",
        "\n",
        "confusion_matrix=metrics.confusion_matrix(True_label,Predicted_label,normalize='true')\n",
        "cm_display = metrics.ConfusionMatrixDisplay(confusion_matrix = confusion_matrix, display_labels = [\"L1S3\",\"L2S3\",\"L3S3\",\"LC1\",\"LC4\",\"LC5\",\"LC6\",\"LC9\"])\n",
        "fig, ax = plt.subplots(figsize=(10,10))\n",
        "cm_display.plot(ax=ax)\n",
        "plt.show()\n",
        "fig.savefig(efficientnetb0_confusion_matrix + '.eps', format='eps', dpi=600)\n",
        "fig.savefig(efficientnetb0_confusion_matrix + '.png', format='png', dpi=600)"
      ]
    }
  ],
  "metadata": {
    "accelerator": "GPU",
    "colab": {
      "collapsed_sections": [
        "JD6vho6im4Lc"
      ],
      "gpuType": "T4",
      "provenance": []
    },
    "kernelspec": {
      "display_name": "Python 3",
      "name": "python3"
    },
    "language_info": {
      "codemirror_mode": {
        "name": "ipython",
        "version": 3
      },
      "file_extension": ".py",
      "mimetype": "text/x-python",
      "name": "python",
      "nbconvert_exporter": "python",
      "pygments_lexer": "ipython3",
      "version": "3.9.5"
    },
    "vscode": {
      "interpreter": {
        "hash": "b302cdd1e032ee910f5c889c3360c28564c92ad4f326fc3102e39fbe47faee66"
      }
    }
  },
  "nbformat": 4,
  "nbformat_minor": 0
}